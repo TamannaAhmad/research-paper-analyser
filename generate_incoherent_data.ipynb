{
 "cells": [
  {
   "cell_type": "code",
   "execution_count": 1,
   "metadata": {},
   "outputs": [],
   "source": [
    "import pdfplumber\n",
    "import re\n",
    "import spacy\n",
    "import random\n",
    "import os\n",
    "from tqdm import tqdm "
   ]
  },
  {
   "cell_type": "code",
   "execution_count": null,
   "metadata": {},
   "outputs": [],
   "source": [
    "def extract_text_pdf(pdf_path):\n",
    "    try:\n",
    "        with pdfplumber.open(pdf_path) as pdf:\n",
    "            text = \"\"\n",
    "            for page in pdf.pages:\n",
    "                # extract words\n",
    "                words = page.extract_words(x_tolerance=1, keep_blank_chars=False)\n",
    "                page_text = \" \".join([word[\"text\"] for word in words])\n",
    "                text += page_text + \"\\n\"\n",
    "        return re.findall('[aA-zZ]+', text), text\n",
    "    except:\n",
    "        print(f\"File {pdf_path} was corrupted.\")\n",
    "        return"
   ]
  },
  {
   "cell_type": "code",
   "execution_count": 3,
   "metadata": {},
   "outputs": [],
   "source": [
    "def extract_text(text_path):\n",
    "    import re\n",
    "    with open(text_path, encoding='utf-8') as intxt:\n",
    "        data = intxt.read()\n",
    "    return re.findall('[aA-zZ]+', data)\n",
    "    "
   ]
  },
  {
   "cell_type": "code",
   "execution_count": 4,
   "metadata": {},
   "outputs": [],
   "source": [
    "nlp = spacy.load(\"en_core_web_sm\")\n",
    "\n",
    "def shuffle_sentences(text):\n",
    "    doc = nlp(text)\n",
    "    sentences = [sent.text for sent in doc.sents]\n",
    "    random.shuffle(sentences)\n",
    "    return \" \".join(sentences)"
   ]
  },
  {
   "cell_type": "code",
   "execution_count": 5,
   "metadata": {},
   "outputs": [],
   "source": [
    "def replace_keywords(text):\n",
    "    replacements = {\n",
    "        \"reinforcement learning\": \"supervised learning\",\n",
    "        \"convolutional neural network\": \"random forest\",\n",
    "        \"ImageNet\": \"MNIST\",\n",
    "        \"natural language processing\": \"computer vision\",\n",
    "        \"accuracy\": \"F1-score\",\n",
    "        \"mean squared error\": \"precision\",\n",
    "        \"hyperparameter tuning\": \"data augmentation\",\n",
    "        \"backpropagation\": \"meta-optimization synthesis\",\n",
    "    }\n",
    "    for old, new in replacements.items():\n",
    "        text = re.sub(r'\\b' + re.escape(old) + r'\\b', new, text, flags=re.IGNORECASE)\n",
    "    return text"
   ]
  },
  {
   "cell_type": "code",
   "execution_count": null,
   "metadata": {},
   "outputs": [
    {
     "name": "stderr",
     "output_type": "stream",
     "text": [
      "  0%|          | 0/46 [00:00<?, ?it/s]"
     ]
    },
    {
     "name": "stdout",
     "output_type": "stream",
     "text": [
      "File incoherent_dataset_unprocessed\\2107.05341.pdf was corrupted.\n",
      "Error: extract_text_pdf returned None. Skipping file 2107.05341.pdf.\n"
     ]
    },
    {
     "name": "stderr",
     "output_type": "stream",
     "text": [
      "100%|██████████| 46/46 [19:10<00:00, 25.02s/it]\n"
     ]
    }
   ],
   "source": [
    "input_dir = \"datasets/incoherent_dataset_unprocessed\"\n",
    "output_dir = \"datasets/incoherent dataset\"\n",
    "\n",
    "for filename in tqdm(os.listdir(input_dir)):\n",
    "    if filename.endswith(\".pdf\"):\n",
    "        try:\n",
    "            result = extract_text_pdf(os.path.join(input_dir, filename))\n",
    "            # if the result is None, error\n",
    "            if result is None:\n",
    "                raise ValueError(\"extract_text_pdf returned None\")\n",
    "            # Unpack the result\n",
    "            list, text = result\n",
    "            # Process the text\n",
    "            incoherent_text = shuffle_sentences(text)\n",
    "            incoherent_text = replace_keywords(text)\n",
    "            filename = filename[:-4] # remove .pdf from file name\n",
    "            with open(os.path.join(output_dir, f\"incoherent_{filename}.txt\"), \"w\", encoding = \"utf-8\") as f:\n",
    "                f.write(incoherent_text)\n",
    "        except UnicodeError:\n",
    "            print(f\"Encoding error in file: {filename}.\")\n",
    "        except ValueError as e:\n",
    "            print(f\"Error: {e}. Skipping file {filename}.\")\n",
    "        except Exception as e:\n",
    "            print(f\"An unexpected error occurred while processing {filename}: {e}\")"
   ]
  },
  {
   "cell_type": "code",
   "execution_count": null,
   "metadata": {},
   "outputs": [],
   "source": []
  }
 ],
 "metadata": {
  "kernelspec": {
   "display_name": ".venv",
   "language": "python",
   "name": "python3"
  },
  "language_info": {
   "codemirror_mode": {
    "name": "ipython",
    "version": 3
   },
   "file_extension": ".py",
   "mimetype": "text/x-python",
   "name": "python",
   "nbconvert_exporter": "python",
   "pygments_lexer": "ipython3",
   "version": "3.11.9"
  }
 },
 "nbformat": 4,
 "nbformat_minor": 2
}
