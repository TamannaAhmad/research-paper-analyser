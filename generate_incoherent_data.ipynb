{
 "cells": [
  {
   "cell_type": "code",
   "execution_count": 1,
   "metadata": {},
   "outputs": [
    {
     "ename": "ModuleNotFoundError",
     "evalue": "No module named 'pdfplumber'",
     "output_type": "error",
     "traceback": [
      "\u001b[1;31m---------------------------------------------------------------------------\u001b[0m",
      "\u001b[1;31mModuleNotFoundError\u001b[0m                       Traceback (most recent call last)",
      "Cell \u001b[1;32mIn[1], line 1\u001b[0m\n\u001b[1;32m----> 1\u001b[0m \u001b[38;5;28;01mimport\u001b[39;00m\u001b[38;5;250m \u001b[39m\u001b[38;5;21;01mpdfplumber\u001b[39;00m\n\u001b[0;32m      2\u001b[0m \u001b[38;5;28;01mimport\u001b[39;00m\u001b[38;5;250m \u001b[39m\u001b[38;5;21;01mre\u001b[39;00m\n\u001b[0;32m      3\u001b[0m \u001b[38;5;28;01mimport\u001b[39;00m\u001b[38;5;250m \u001b[39m\u001b[38;5;21;01mspacy\u001b[39;00m\n",
      "\u001b[1;31mModuleNotFoundError\u001b[0m: No module named 'pdfplumber'"
     ]
    }
   ],
   "source": [
    "import pdfplumber\n",
    "import re\n",
    "import spacy\n",
    "import random\n",
    "import os\n",
    "from tqdm import tqdm "
   ]
  },
  {
   "cell_type": "code",
   "execution_count": null,
   "metadata": {},
   "outputs": [],
   "source": [
    "def extract_text_pdf(pdf_path):\n",
    "    with pdfplumber.open(pdf_path) as pdf:\n",
    "        text = \"\"\n",
    "        for page in pdf.pages:\n",
    "            # extract words\n",
    "            words = page.extract_words(x_tolerance=1, keep_blank_chars=False)\n",
    "            page_text = \" \".join([word[\"text\"] for word in words])\n",
    "            text += page_text + \"\\n\"\n",
    "    return re.findall('[aA-zZ]+', text), text"
   ]
  },
  {
   "cell_type": "code",
   "execution_count": null,
   "metadata": {},
   "outputs": [],
   "source": [
    "def extract_text(text_path):\n",
    "    import re\n",
    "    with open(text_path, encoding='utf-8') as intxt:\n",
    "        data = intxt.read()\n",
    "    return re.findall('[aA-zZ]+', data)\n",
    "    "
   ]
  },
  {
   "cell_type": "code",
   "execution_count": null,
   "metadata": {},
   "outputs": [],
   "source": [
    "nlp = spacy.load(\"en_core_web_sm\")\n",
    "\n",
    "def shuffle_sentences(text):\n",
    "    doc = nlp(text)\n",
    "    sentences = [sent.text for sent in doc.sents]\n",
    "    random.shuffle(sentences)\n",
    "    return \" \".join(sentences)"
   ]
  },
  {
   "cell_type": "code",
   "execution_count": null,
   "metadata": {},
   "outputs": [],
   "source": [
    "def replace_keywords(text):\n",
    "    replacements = {\n",
    "        \"reinforcement learning\": \"supervised learning\",\n",
    "        \"convolutional neural network\": \"random forest\",\n",
    "        \"ImageNet\": \"MNIST\",\n",
    "        \"natural language processing\": \"computer vision\",\n",
    "        \"accuracy\": \"F1-score\",\n",
    "        \"mean squared error\": \"precision\",\n",
    "        \"hyperparameter tuning\": \"data augmentation\",\n",
    "        \"backpropagation\": \"meta-optimization synthesis\",\n",
    "    }\n",
    "    for old, new in replacements.items():\n",
    "        text = re.sub(r'\\b' + re.escape(old) + r'\\b', new, text, flags=re.IGNORECASE)\n",
    "    return text"
   ]
  },
  {
   "cell_type": "code",
   "execution_count": null,
   "metadata": {},
   "outputs": [],
   "source": [
    "input_dir = \"incoherent_dataset_unprocessed_sample\"\n",
    "output_dir = \"research-paper-analyser/incoherent dataset\"\n",
    "\n",
    "for filename in tqdm(os.listdir(input_dir)):\n",
    "    if filename.endswith(\".pdf\"):\n",
    "        try:\n",
    "            list, text = extract_text_pdf(os.path.join(input_dir, filename))\n",
    "            incoherent_text = shuffle_sentences(text)\n",
    "            incoherent_text = replace_keywords(text)\n",
    "            filename = filename[:-4]\n",
    "            with open(os.path.join(output_dir, f\"incoherent_{filename}.txt\"), \"w\", encoding=\"utf-8\") as f:\n",
    "                f.write(incoherent_text)\n",
    "        except UnicodeError:\n",
    "            print(f\"Encoding error in file: {filename}\")"
   ]
  },
  {
   "cell_type": "code",
   "execution_count": null,
   "metadata": {},
   "outputs": [],
   "source": []
  }
 ],
 "metadata": {
  "kernelspec": {
   "display_name": "Python 3",
   "language": "python",
   "name": "python3"
  },
  "language_info": {
   "codemirror_mode": {
    "name": "ipython",
    "version": 3
   },
   "file_extension": ".py",
   "mimetype": "text/x-python",
   "name": "python",
   "nbconvert_exporter": "python",
   "pygments_lexer": "ipython3",
   "version": "3.11.0"
  }
 },
 "nbformat": 4,
 "nbformat_minor": 2
}
