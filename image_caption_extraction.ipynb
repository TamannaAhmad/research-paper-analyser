{
  "cells": [
    {
      "cell_type": "markdown",
      "metadata": {
        "id": "view-in-github",
        "colab_type": "text"
      },
      "source": [
        "<a href=\"https://colab.research.google.com/github/TamannaAhmad/research-paper-analyser/blob/main/image_caption_extraction.ipynb\" target=\"_parent\"><img src=\"https://colab.research.google.com/assets/colab-badge.svg\" alt=\"Open In Colab\"/></a>"
      ]
    },
    {
      "cell_type": "code",
      "source": [
        "!pip install pymupdf"
      ],
      "metadata": {
        "colab": {
          "base_uri": "https://localhost:8080/"
        },
        "id": "SelY2GyiB8eE",
        "outputId": "bb13e0cb-13de-465c-ce5e-95e860170902"
      },
      "execution_count": null,
      "outputs": [
        {
          "output_type": "stream",
          "name": "stdout",
          "text": [
            "Requirement already satisfied: pymupdf in /usr/local/lib/python3.11/dist-packages (1.25.3)\n"
          ]
        }
      ]
    },
    {
      "cell_type": "code",
      "execution_count": null,
      "metadata": {
        "id": "s29wzuvy_wol"
      },
      "outputs": [],
      "source": [
        "import fitz  # PyMuPDF\n",
        "import os\n",
        "import re\n",
        "from tqdm import tqdm\n",
        "import numpy as np\n",
        "from PIL import Image\n",
        "import io\n",
        "from google.colab import drive\n",
        "import shutil\n",
        "import zipfile\n",
        "from google.colab import files"
      ]
    },
    {
      "cell_type": "code",
      "source": [
        "# mount Google Drive\n",
        "drive.mount('/content/drive')"
      ],
      "metadata": {
        "colab": {
          "base_uri": "https://localhost:8080/"
        },
        "id": "CiCdnQtrCS5y",
        "outputId": "807c81e4-ca31-40d5-9aa3-6fe80d6d336c"
      },
      "execution_count": null,
      "outputs": [
        {
          "output_type": "stream",
          "name": "stdout",
          "text": [
            "Drive already mounted at /content/drive; to attempt to forcibly remount, call drive.mount(\"/content/drive\", force_remount=True).\n"
          ]
        }
      ]
    },
    {
      "cell_type": "code",
      "execution_count": null,
      "metadata": {
        "id": "boACxBr-ikAt"
      },
      "outputs": [],
      "source": [
        "def extract_caption(page, image_rect):\n",
        "    x0, y0, x1, y1 = image_rect\n",
        "    page_width = page.rect.width\n",
        "    page_height = page.rect.height\n",
        "\n",
        "    # Get all text blocks on the page\n",
        "    blocks = page.get_text(\"blocks\")\n",
        "\n",
        "    # Find text blocks that might be captions\n",
        "    potential_captions = []\n",
        "\n",
        "    for block in blocks:\n",
        "        block_rect = fitz.Rect(block[:4])\n",
        "        block_text = block[4]\n",
        "\n",
        "        # Skip blocks with very little text\n",
        "        if len(block_text.strip()) < 5:\n",
        "            continue\n",
        "\n",
        "        # Check if block is below or very near the image\n",
        "        is_below = (block_rect.y0 >= y1 - 5 and\n",
        "                    block_rect.y0 <= y1 + 100 and\n",
        "                    max(0, block_rect.x0 - x1) < 50 and\n",
        "                    max(0, x0 - block_rect.x1) < 50)\n",
        "\n",
        "        # Check overlap with image column\n",
        "        x_overlap = (min(block_rect.x1, x1) - max(block_rect.x0, x0))\n",
        "        has_x_overlap = x_overlap > 0\n",
        "\n",
        "        # Check if text contains caption indicators\n",
        "        has_caption_text = (re.search(r'\\b(fig|figure)\\.?\\s*\\d+', block_text, re.IGNORECASE) is not None)\n",
        "\n",
        "        # Either positioned correctly or contains caption text\n",
        "        if (is_below or has_x_overlap) and has_caption_text:\n",
        "            # Calculate distance from image\n",
        "            center_img = ((x0 + x1)/2, (y0 + y1)/2)\n",
        "            center_block = ((block_rect.x0 + block_rect.x1)/2, (block_rect.y0 + block_rect.y1)/2)\n",
        "            distance = ((center_img[0] - center_block[0])**2 + (center_img[1] - center_block[1])**2)**0.5\n",
        "\n",
        "            potential_captions.append((block_text, distance))\n",
        "\n",
        "    if potential_captions:\n",
        "        # Sort by distance to image\n",
        "        potential_captions.sort(key=lambda x: x[1])\n",
        "        return potential_captions[0][0].strip()\n",
        "\n",
        "    # Fallback: use broader search with large area below image\n",
        "    caption_area = fitz.Rect(max(0, x0 - 50), y1, min(page_width, x1 + 50), min(page_height, y1 + 150))\n",
        "    caption_text = page.get_text(\"text\", clip=caption_area)\n",
        "\n",
        "    if caption_text:\n",
        "        # Try to find caption patterns\n",
        "        match = re.search(r'((?:Figure|Fig\\.?)\\s*\\d+[\\\\.:]?.*?)(?=\\n\\n|\\Z)', caption_text, re.DOTALL | re.IGNORECASE)\n",
        "        if match:\n",
        "            return match.group(1).strip()\n",
        "\n",
        "    return None"
      ]
    },
    {
      "cell_type": "code",
      "source": [
        "def should_merge_images(rect1, rect2, proximity_threshold=50):\n",
        "    \"\"\"Determine if two image rectangles should be considered part of the same figure\"\"\"\n",
        "    # Check horizontal alignment\n",
        "    horizontal_aligned = (abs(rect1.y0 - rect2.y0) < proximity_threshold or\n",
        "                          abs(rect1.y1 - rect2.y1) < proximity_threshold)\n",
        "\n",
        "    # Check vertical alignment\n",
        "    vertical_aligned = (abs(rect1.x0 - rect2.x0) < proximity_threshold or\n",
        "                        abs(rect1.x1 - rect2.x1) < proximity_threshold)\n",
        "\n",
        "    # Check proximity\n",
        "    center1 = ((rect1.x0 + rect1.x1)/2, (rect1.y0 + rect1.y1)/2)\n",
        "    center2 = ((rect2.x0 + rect2.x1)/2, (rect2.y0 + rect2.y1)/2)\n",
        "    distance = ((center1[0] - center2[0])**2 + (center1[1] - center2[1])**2)**0.5\n",
        "\n",
        "    # Check overlap\n",
        "    overlap = not (rect1.x1 < rect2.x0 or rect2.x1 < rect1.x0 or\n",
        "                  rect1.y1 < rect2.y0 or rect2.y1 < rect1.y0)\n",
        "\n",
        "    return (horizontal_aligned or vertical_aligned) and (distance < proximity_threshold * 3 or overlap)"
      ],
      "metadata": {
        "id": "1CIND0JMFWUp"
      },
      "execution_count": null,
      "outputs": []
    },
    {
      "cell_type": "code",
      "source": [
        "def get_figure_number(caption_text):\n",
        "    \"\"\"Extract figure number from caption text\"\"\"\n",
        "    if not caption_text:\n",
        "        return None\n",
        "\n",
        "    match = re.search(r'(?:Figure|Fig\\.?)\\s*(\\d+)', caption_text, re.IGNORECASE)\n",
        "    if match:\n",
        "        return int(match.group(1))\n",
        "    return None"
      ],
      "metadata": {
        "id": "9qdIp55EFfZ4"
      },
      "execution_count": null,
      "outputs": []
    },
    {
      "cell_type": "code",
      "execution_count": null,
      "metadata": {
        "id": "mdO3_ugR9sC3"
      },
      "outputs": [],
      "source": [
        "def extract_images(file_path, output_base_dir):\n",
        "    pdf_file = fitz.open(file_path)\n",
        "    total_figures = 0  # count total number of figures in PDF\n",
        "    total_captions = 0  # count total number of captions found\n",
        "\n",
        "    folder_name = os.path.basename(file_path)[:-4]  # extract PDF name without extension\n",
        "    folder_path = os.path.join(output_base_dir, folder_name)\n",
        "\n",
        "    if not os.path.exists(folder_path):  # create folder if it doesn't exist\n",
        "        os.makedirs(folder_path)\n",
        "\n",
        "    # Process each page\n",
        "    for page_index in range(len(pdf_file)):\n",
        "        page = pdf_file.load_page(page_index)  # load the page\n",
        "        image_list = page.get_images(full=True)  # get images on the page\n",
        "\n",
        "        if not image_list:\n",
        "            continue\n",
        "\n",
        "        # Get all image rectangles and group them by figure\n",
        "        image_data = []\n",
        "        for img in image_list:\n",
        "            xref = img[0]\n",
        "            try:\n",
        "                base_image = pdf_file.extract_image(xref)\n",
        "                rects = page.get_image_rects(xref)\n",
        "\n",
        "                if rects:\n",
        "                    caption_text = extract_caption(page, rects[0])\n",
        "                    fig_number = get_figure_number(caption_text)\n",
        "\n",
        "                    image_data.append({\n",
        "                        'xref': xref,\n",
        "                        'rect': rects[0],\n",
        "                        'caption': caption_text,\n",
        "                        'fig_number': fig_number,\n",
        "                        'base_image': base_image,\n",
        "                        'grouped': False\n",
        "                    })\n",
        "            except Exception as e:\n",
        "                print(f\"[!] Error analyzing image on page {page_index+1}: {e}\")\n",
        "\n",
        "        # Group images by proximity and caption\n",
        "        figure_groups = []\n",
        "\n",
        "        # First, try to group by figure number\n",
        "        for idx, img_data in enumerate(image_data):\n",
        "            if img_data['grouped']:\n",
        "                continue\n",
        "\n",
        "            group = [idx]\n",
        "            img_data['grouped'] = True\n",
        "\n",
        "            # If this image has a figure number, look for other parts with the same number\n",
        "            if img_data['fig_number'] is not None:\n",
        "                for j, other_img in enumerate(image_data):\n",
        "                    if j != idx and not other_img['grouped'] and other_img['fig_number'] == img_data['fig_number']:\n",
        "                        group.append(j)\n",
        "                        other_img['grouped'] = True\n",
        "\n",
        "            figure_groups.append(group)\n",
        "\n",
        "        # Then try to group remaining images by proximity\n",
        "        for idx, img_data in enumerate(image_data):\n",
        "            if img_data['grouped']:\n",
        "                continue\n",
        "\n",
        "            group = [idx]\n",
        "            img_data['grouped'] = True\n",
        "\n",
        "            for j, other_img in enumerate(image_data):\n",
        "                if j != idx and not other_img['grouped'] and should_merge_images(img_data['rect'], other_img['rect']):\n",
        "                    group.append(j)\n",
        "                    other_img['grouped'] = True\n",
        "\n",
        "            figure_groups.append(group)\n",
        "\n",
        "        # Process each figure group\n",
        "        for group_idx, group in enumerate(figure_groups):\n",
        "            total_figures += 1\n",
        "\n",
        "            # Use the caption from the first image in the group\n",
        "            caption_text = image_data[group[0]]['caption']\n",
        "\n",
        "            # If we have multiple images in the group\n",
        "            if len(group) > 1:\n",
        "                # We'll keep track of the images for combining but not save individual parts\n",
        "                pil_images = []\n",
        "                for img_idx in group:\n",
        "                    img_data = image_data[img_idx]\n",
        "                    base_image = img_data['base_image']\n",
        "                    image_bytes = base_image[\"image\"]\n",
        "\n",
        "                    # Convert bytes to PIL Image\n",
        "                    img = Image.open(io.BytesIO(image_bytes))\n",
        "                    pil_images.append(img)\n",
        "\n",
        "                # Try to arrange the parts in a grid\n",
        "                try:\n",
        "                    # Determine layout (simple approach)\n",
        "                    if len(pil_images) <= 2:\n",
        "                        # Horizontal layout for 1-2 images\n",
        "                        total_width = sum(img.width for img in pil_images)\n",
        "                        max_height = max(img.height for img in pil_images)\n",
        "\n",
        "                        combined = Image.new('RGB', (total_width, max_height), (255, 255, 255))\n",
        "\n",
        "                        x_offset = 0\n",
        "                        for img in pil_images:\n",
        "                            combined.paste(img, (x_offset, 0))\n",
        "                            x_offset += img.width\n",
        "                    else:\n",
        "                        # Grid layout for 3+ images\n",
        "                        cols = min(len(pil_images), 3)  # Max 3 columns\n",
        "                        rows = (len(pil_images) + cols - 1) // cols\n",
        "\n",
        "                        # Calculate sizes\n",
        "                        max_width = max(img.width for img in pil_images)\n",
        "                        max_height = max(img.height for img in pil_images)\n",
        "\n",
        "                        combined = Image.new('RGB', (max_width * cols, max_height * rows), (255, 255, 255))\n",
        "\n",
        "                        for i, img in enumerate(pil_images):\n",
        "                            row = i // cols\n",
        "                            col = i % cols\n",
        "                            combined.paste(img, (col * max_width, row * max_height))\n",
        "\n",
        "                    # Save combined figure\n",
        "                    combined_path = f\"{folder_path}/figure{page_index+1}_{group_idx+1}.png\"\n",
        "                    combined.save(combined_path)\n",
        "                    print(f\"[+] Combined figure saved as {combined_path}\")\n",
        "\n",
        "                except Exception as e:\n",
        "                    print(f\"[!] Error combining figure parts: {e}\")\n",
        "            else:\n",
        "                # Just a single image\n",
        "                img_data = image_data[group[0]]\n",
        "                base_image = img_data['base_image']\n",
        "                image_bytes = base_image[\"image\"]\n",
        "                image_ext = base_image[\"ext\"]\n",
        "\n",
        "                # Save image\n",
        "                image_name = f\"{folder_path}/figure{page_index+1}_{group_idx+1}.{image_ext}\"\n",
        "                with open(image_name, \"wb\") as image_file:\n",
        "                    image_file.write(image_bytes)\n",
        "                print(f\"[+] Figure saved as {image_name}\")\n",
        "\n",
        "            # Save caption if available\n",
        "            if caption_text:\n",
        "                caption_file = f\"{folder_path}/figure{page_index+1}_{group_idx+1}_caption.txt\"\n",
        "                with open(caption_file, \"w\", encoding=\"utf-8\") as f:\n",
        "                    f.write(caption_text)\n",
        "                caption_preview = caption_text[:50] + \"...\" if len(caption_text) > 50 else caption_text\n",
        "                print(f\"[+] Caption: {caption_preview}\")\n",
        "                total_captions += 1\n",
        "            else:\n",
        "                print(f\"[!] No caption found for figure {page_index+1}_{group_idx+1}\")\n",
        "\n",
        "    print(f\"Processed {file_path}: {total_figures} figures, {total_captions} captions found\")"
      ]
    },
    {
      "cell_type": "code",
      "source": [
        "def find_pdf_files(directory):\n",
        "    pdf_files = []\n",
        "    for root, dirs, files in os.walk(directory):\n",
        "        for file in files:\n",
        "            if file.lower().endswith('.pdf'):\n",
        "                pdf_files.append(os.path.join(root, file))\n",
        "    return pdf_files"
      ],
      "metadata": {
        "id": "Tvk5-o53y3wq"
      },
      "execution_count": null,
      "outputs": []
    },
    {
      "cell_type": "code",
      "execution_count": null,
      "metadata": {
        "id": "uiysM3xf_uh_",
        "outputId": "2564b7a2-b9b8-469d-a2cb-e7150494ee7c",
        "colab": {
          "base_uri": "https://localhost:8080/",
          "height": 1000
        }
      },
      "outputs": [
        {
          "output_type": "stream",
          "name": "stdout",
          "text": [
            "Drive already mounted at /content/drive; to attempt to forcibly remount, call drive.mount(\"/content/drive\", force_remount=True).\n",
            "Please upload a zip file containing your PDF files...\n"
          ]
        },
        {
          "output_type": "display_data",
          "data": {
            "text/plain": [
              "<IPython.core.display.HTML object>"
            ],
            "text/html": [
              "\n",
              "     <input type=\"file\" id=\"files-c10daa29-30d9-465e-b1fe-6dffe510d9e3\" name=\"files[]\" multiple disabled\n",
              "        style=\"border:none\" />\n",
              "     <output id=\"result-c10daa29-30d9-465e-b1fe-6dffe510d9e3\">\n",
              "      Upload widget is only available when the cell has been executed in the\n",
              "      current browser session. Please rerun this cell to enable.\n",
              "      </output>\n",
              "      <script>// Copyright 2017 Google LLC\n",
              "//\n",
              "// Licensed under the Apache License, Version 2.0 (the \"License\");\n",
              "// you may not use this file except in compliance with the License.\n",
              "// You may obtain a copy of the License at\n",
              "//\n",
              "//      http://www.apache.org/licenses/LICENSE-2.0\n",
              "//\n",
              "// Unless required by applicable law or agreed to in writing, software\n",
              "// distributed under the License is distributed on an \"AS IS\" BASIS,\n",
              "// WITHOUT WARRANTIES OR CONDITIONS OF ANY KIND, either express or implied.\n",
              "// See the License for the specific language governing permissions and\n",
              "// limitations under the License.\n",
              "\n",
              "/**\n",
              " * @fileoverview Helpers for google.colab Python module.\n",
              " */\n",
              "(function(scope) {\n",
              "function span(text, styleAttributes = {}) {\n",
              "  const element = document.createElement('span');\n",
              "  element.textContent = text;\n",
              "  for (const key of Object.keys(styleAttributes)) {\n",
              "    element.style[key] = styleAttributes[key];\n",
              "  }\n",
              "  return element;\n",
              "}\n",
              "\n",
              "// Max number of bytes which will be uploaded at a time.\n",
              "const MAX_PAYLOAD_SIZE = 100 * 1024;\n",
              "\n",
              "function _uploadFiles(inputId, outputId) {\n",
              "  const steps = uploadFilesStep(inputId, outputId);\n",
              "  const outputElement = document.getElementById(outputId);\n",
              "  // Cache steps on the outputElement to make it available for the next call\n",
              "  // to uploadFilesContinue from Python.\n",
              "  outputElement.steps = steps;\n",
              "\n",
              "  return _uploadFilesContinue(outputId);\n",
              "}\n",
              "\n",
              "// This is roughly an async generator (not supported in the browser yet),\n",
              "// where there are multiple asynchronous steps and the Python side is going\n",
              "// to poll for completion of each step.\n",
              "// This uses a Promise to block the python side on completion of each step,\n",
              "// then passes the result of the previous step as the input to the next step.\n",
              "function _uploadFilesContinue(outputId) {\n",
              "  const outputElement = document.getElementById(outputId);\n",
              "  const steps = outputElement.steps;\n",
              "\n",
              "  const next = steps.next(outputElement.lastPromiseValue);\n",
              "  return Promise.resolve(next.value.promise).then((value) => {\n",
              "    // Cache the last promise value to make it available to the next\n",
              "    // step of the generator.\n",
              "    outputElement.lastPromiseValue = value;\n",
              "    return next.value.response;\n",
              "  });\n",
              "}\n",
              "\n",
              "/**\n",
              " * Generator function which is called between each async step of the upload\n",
              " * process.\n",
              " * @param {string} inputId Element ID of the input file picker element.\n",
              " * @param {string} outputId Element ID of the output display.\n",
              " * @return {!Iterable<!Object>} Iterable of next steps.\n",
              " */\n",
              "function* uploadFilesStep(inputId, outputId) {\n",
              "  const inputElement = document.getElementById(inputId);\n",
              "  inputElement.disabled = false;\n",
              "\n",
              "  const outputElement = document.getElementById(outputId);\n",
              "  outputElement.innerHTML = '';\n",
              "\n",
              "  const pickedPromise = new Promise((resolve) => {\n",
              "    inputElement.addEventListener('change', (e) => {\n",
              "      resolve(e.target.files);\n",
              "    });\n",
              "  });\n",
              "\n",
              "  const cancel = document.createElement('button');\n",
              "  inputElement.parentElement.appendChild(cancel);\n",
              "  cancel.textContent = 'Cancel upload';\n",
              "  const cancelPromise = new Promise((resolve) => {\n",
              "    cancel.onclick = () => {\n",
              "      resolve(null);\n",
              "    };\n",
              "  });\n",
              "\n",
              "  // Wait for the user to pick the files.\n",
              "  const files = yield {\n",
              "    promise: Promise.race([pickedPromise, cancelPromise]),\n",
              "    response: {\n",
              "      action: 'starting',\n",
              "    }\n",
              "  };\n",
              "\n",
              "  cancel.remove();\n",
              "\n",
              "  // Disable the input element since further picks are not allowed.\n",
              "  inputElement.disabled = true;\n",
              "\n",
              "  if (!files) {\n",
              "    return {\n",
              "      response: {\n",
              "        action: 'complete',\n",
              "      }\n",
              "    };\n",
              "  }\n",
              "\n",
              "  for (const file of files) {\n",
              "    const li = document.createElement('li');\n",
              "    li.append(span(file.name, {fontWeight: 'bold'}));\n",
              "    li.append(span(\n",
              "        `(${file.type || 'n/a'}) - ${file.size} bytes, ` +\n",
              "        `last modified: ${\n",
              "            file.lastModifiedDate ? file.lastModifiedDate.toLocaleDateString() :\n",
              "                                    'n/a'} - `));\n",
              "    const percent = span('0% done');\n",
              "    li.appendChild(percent);\n",
              "\n",
              "    outputElement.appendChild(li);\n",
              "\n",
              "    const fileDataPromise = new Promise((resolve) => {\n",
              "      const reader = new FileReader();\n",
              "      reader.onload = (e) => {\n",
              "        resolve(e.target.result);\n",
              "      };\n",
              "      reader.readAsArrayBuffer(file);\n",
              "    });\n",
              "    // Wait for the data to be ready.\n",
              "    let fileData = yield {\n",
              "      promise: fileDataPromise,\n",
              "      response: {\n",
              "        action: 'continue',\n",
              "      }\n",
              "    };\n",
              "\n",
              "    // Use a chunked sending to avoid message size limits. See b/62115660.\n",
              "    let position = 0;\n",
              "    do {\n",
              "      const length = Math.min(fileData.byteLength - position, MAX_PAYLOAD_SIZE);\n",
              "      const chunk = new Uint8Array(fileData, position, length);\n",
              "      position += length;\n",
              "\n",
              "      const base64 = btoa(String.fromCharCode.apply(null, chunk));\n",
              "      yield {\n",
              "        response: {\n",
              "          action: 'append',\n",
              "          file: file.name,\n",
              "          data: base64,\n",
              "        },\n",
              "      };\n",
              "\n",
              "      let percentDone = fileData.byteLength === 0 ?\n",
              "          100 :\n",
              "          Math.round((position / fileData.byteLength) * 100);\n",
              "      percent.textContent = `${percentDone}% done`;\n",
              "\n",
              "    } while (position < fileData.byteLength);\n",
              "  }\n",
              "\n",
              "  // All done.\n",
              "  yield {\n",
              "    response: {\n",
              "      action: 'complete',\n",
              "    }\n",
              "  };\n",
              "}\n",
              "\n",
              "scope.google = scope.google || {};\n",
              "scope.google.colab = scope.google.colab || {};\n",
              "scope.google.colab._files = {\n",
              "  _uploadFiles,\n",
              "  _uploadFilesContinue,\n",
              "};\n",
              "})(self);\n",
              "</script> "
            ]
          },
          "metadata": {}
        },
        {
          "output_type": "stream",
          "name": "stdout",
          "text": [
            "Saving sample.zip to sample.zip\n",
            "Extracted sample.zip to /content/sample_pdfs/sample\n",
            "Found 100 PDF files to process\n"
          ]
        },
        {
          "output_type": "stream",
          "name": "stderr",
          "text": [
            "\r  0%|          | 0/100 [00:00<?, ?it/s]"
          ]
        },
        {
          "output_type": "stream",
          "name": "stdout",
          "text": [
            "[+] Combined figure saved as /content/training_data_images/1806.05575/figure6_1.png\n",
            "[+] Caption: Figure 3. CIFAR-10: Real example images (left), sa...\n",
            "[+] Figure saved as /content/training_data_images/1806.05575/figure7_1.png\n",
            "[+] Caption: Figure 6. Small ImageNet inpainting examples. Left...\n",
            "[+] Combined figure saved as /content/training_data_images/1806.05575/figure7_2.png\n",
            "[+] Caption: tially outperforms the baseline in terms of ﬁnal p...\n",
            "[+] Combined figure saved as /content/training_data_images/1806.05575/figure8_1.png\n",
            "[+] Caption: Figure 7. Class-conditional samples from PixelIQN....\n",
            "[+] Combined figure saved as /content/training_data_images/1806.05575/figure13_1.png\n",
            "[+] Caption: Figure 9. CelebA 64x64: Real example images (left)...\n",
            "[+] Figure saved as /content/training_data_images/1806.05575/figure14_1.png\n",
            "[+] Caption: Figure 10. Samples from PixelIQN trained on small ...\n",
            "[+] Combined figure saved as /content/training_data_images/1806.05575/figure15_1.png\n",
            "[+] Caption: Figure 11. Class-conditional samples from PixelIQN...\n"
          ]
        },
        {
          "output_type": "stream",
          "name": "stderr",
          "text": [
            "\r  1%|          | 1/100 [00:02<04:06,  2.49s/it]"
          ]
        },
        {
          "output_type": "stream",
          "name": "stdout",
          "text": [
            "[+] Figure saved as /content/training_data_images/1806.05575/figure16_1.png\n",
            "[+] Caption: Figure 12. Inpainting. Left column: Masked image g...\n",
            "Processed /content/sample_pdfs/sample/sample/1806.05575.pdf: 8 figures, 8 captions found\n",
            "[+] Combined figure saved as /content/training_data_images/1806.01946/figure1_1.png\n",
            "[+] Caption: Figure 1: Different valid goal states for\n",
            "the inst...\n",
            "[+] Combined figure saved as /content/training_data_images/1806.01946/figure5_1.png\n",
            "[+] Caption: Figure 3: Initial state and goal state for GridLU-...\n"
          ]
        },
        {
          "output_type": "stream",
          "name": "stderr",
          "text": [
            "\r  2%|▏         | 2/100 [00:03<02:38,  1.61s/it]"
          ]
        },
        {
          "output_type": "stream",
          "name": "stdout",
          "text": [
            "[+] Combined figure saved as /content/training_data_images/1806.01946/figure15_1.png\n",
            "[+] Caption: Figure 6: The dynamics of the GridLU world illustr...\n",
            "Processed /content/sample_pdfs/sample/sample/1806.01946.pdf: 3 figures, 3 captions found\n",
            "[+] Figure saved as /content/training_data_images/1807.01613v1/figure4_1.jpeg\n",
            "[+] Caption: Figure 2. 1-D Regression.\n",
            "Regression results on a ...\n",
            "[+] Figure saved as /content/training_data_images/1807.01613v1/figure5_1.png\n",
            "[+] Caption: Figure 3. Pixel-wise image regression on MNIST. Le...\n",
            "[+] Figure saved as /content/training_data_images/1807.01613v1/figure6_1.png\n",
            "[+] Caption: Figure 4. Pixel-wise image completion on CelebA. T...\n"
          ]
        },
        {
          "output_type": "stream",
          "name": "stderr",
          "text": [
            "\r  3%|▎         | 3/100 [00:03<01:39,  1.02s/it]"
          ]
        },
        {
          "output_type": "stream",
          "name": "stdout",
          "text": [
            "[+] Figure saved as /content/training_data_images/1807.01613v1/figure7_1.png\n",
            "[+] Caption: Figure 5. Flexible image completion. In contrast t...\n",
            "[+] Combined figure saved as /content/training_data_images/1807.01613v1/figure7_2.png\n",
            "[+] Caption: Figure 6. Image completion with a latent variable ...\n",
            "[+] Combined figure saved as /content/training_data_images/1807.01613v1/figure8_1.png\n",
            "[+] Caption: Figure 7. One-shot Omniglot classiﬁcation.\n",
            "At test...\n",
            "Processed /content/sample_pdfs/sample/sample/1807.01613v1.pdf: 6 figures, 6 captions found\n",
            "[+] Figure saved as /content/training_data_images/1804.02476/figure4_1.png\n",
            "[+] Caption: Figure 1. Flow diagram for daydream sampling.\n",
            "[+] Figure saved as /content/training_data_images/1804.02476/figure6_1.png\n",
            "[+] Caption: Figure 2. MNIST compression costs. Unordered compr...\n",
            "[+] Combined figure saved as /content/training_data_images/1804.02476/figure6_2.png\n",
            "[+] Caption: Figure 3. Visualisation of the ﬁrst two principal ...\n",
            "[+] Figure saved as /content/training_data_images/1804.02476/figure6_3.png\n",
            "[+] Caption: Figure 4. MNIST reconstructions. The codes for the...\n",
            "[+] Figure saved as /content/training_data_images/1804.02476/figure6_4.png\n",
            "[+] Caption: Figure 5. MNIST samples from ACN with unconditiona...\n",
            "[+] Figure saved as /content/training_data_images/1804.02476/figure7_1.png\n",
            "[+] Caption: Figure 8. CIFAR-10 samples from ACN with unconditi...\n",
            "[+] Figure saved as /content/training_data_images/1804.02476/figure7_2.png\n",
            "[+] Caption: Figure 6. MNIST daydream samples. The leftmost col...\n",
            "[+] Combined figure saved as /content/training_data_images/1804.02476/figure7_3.png\n",
            "[+] Caption: Figure 7. CIFAR-10 reconstructions.\n",
            "[+] Combined figure saved as /content/training_data_images/1804.02476/figure8_1.png\n",
            "[+] Caption: Figure 9. ImageNet daydream samples.\n",
            "[+] Combined figure saved as /content/training_data_images/1804.02476/figure8_2.png\n",
            "[+] Caption: Figure 10. ImageNet reconstructions.\n",
            "[+] Figure saved as /content/training_data_images/1804.02476/figure8_3.png\n",
            "[+] Caption: Figure 11. ImageNet samples from ACN with uncondit...\n",
            "[+] Figure saved as /content/training_data_images/1804.02476/figure8_4.png\n",
            "[+] Caption: Figure 12. CelebA reconstructions.\n",
            "[+] Figure saved as /content/training_data_images/1804.02476/figure8_5.png\n",
            "[+] Caption: Figure 13. CelebA samples from ACN with unconditio...\n",
            "[+] Combined figure saved as /content/training_data_images/1804.02476/figure11_1.png\n",
            "[+] Caption: Figure 14. CIFAR-10 nearest neighbours. The leftmo...\n",
            "[+] Figure saved as /content/training_data_images/1804.02476/figure12_1.png\n",
            "[+] Caption: Figure 15. ImageNet reconstructions.\n"
          ]
        },
        {
          "output_type": "stream",
          "name": "stderr",
          "text": [
            "\r  4%|▍         | 4/100 [00:10<05:00,  3.13s/it]"
          ]
        },
        {
          "output_type": "stream",
          "name": "stdout",
          "text": [
            "[+] Figure saved as /content/training_data_images/1804.02476/figure13_1.png\n",
            "[+] Caption: Figure 16. ImageNet daydream samples.\n",
            "Processed /content/sample_pdfs/sample/sample/1804.02476.pdf: 16 figures, 16 captions found\n",
            "Processed /content/sample_pdfs/sample/sample/1811.10475v1.pdf: 0 figures, 0 captions found\n",
            "[+] Combined figure saved as /content/training_data_images/1812.01608/figure2_1.png\n",
            "[+] Caption: Figure 1: A representation of Multidimensional Ups...\n",
            "[+] Combined figure saved as /content/training_data_images/1812.01608/figure3_1.png\n",
            "[+] Caption: Figure 2: The receptive ﬁeld in a Subscale Pixel N...\n",
            "[+] Figure saved as /content/training_data_images/1812.01608/figure6_1.jpeg\n",
            "[+] Caption: Figure 5: Left: 8-bit 128x128 RGB ImageNet samples...\n",
            "[+] Figure saved as /content/training_data_images/1812.01608/figure10_1.jpeg\n",
            "[+] Caption: Figure 6: 8-bit 256x256 RGB CelebA-HQ samples from...\n",
            "[+] Figure saved as /content/training_data_images/1812.01608/figure11_1.jpeg\n",
            "[+] Caption: Figure 7: 256x256 CelebA-HQ 5bit samples from SPN\n",
            "[+] Figure saved as /content/training_data_images/1812.01608/figure12_1.jpeg\n",
            "[+] Caption: Figure 8: 256x256 CelebA-HQ 3bit samples from SPN\n",
            "[+] Figure saved as /content/training_data_images/1812.01608/figure13_1.jpeg\n",
            "[+] Caption: Figure 9: 256x256 CelebA-HQ 3bit samples from SPN ...\n"
          ]
        },
        {
          "output_type": "stream",
          "name": "stderr",
          "text": [
            "\r  6%|▌         | 6/100 [00:12<03:25,  2.19s/it]"
          ]
        },
        {
          "output_type": "stream",
          "name": "stdout",
          "text": [
            "[+] Figure saved as /content/training_data_images/1812.01608/figure14_1.png\n",
            "[+] Caption: Figure 10: 128x128 ImageNet 3bit; upscaled 32x32 s...\n",
            "[+] Figure saved as /content/training_data_images/1812.01608/figure14_2.png\n",
            "[+] Caption: Figure 11: 128x128 ImageNet 3bit samples from mode...\n",
            "[+] Figure saved as /content/training_data_images/1812.01608/figure14_3.png\n",
            "[+] Caption: Figure 12: 128x128 ImageNet 3bit samples from SPN\n",
            "Processed /content/sample_pdfs/sample/sample/1812.01608.pdf: 10 figures, 10 captions found\n",
            "[+] Figure saved as /content/training_data_images/1811.09300v1/figure8_1.png\n",
            "[+] Caption: Figure 2: Evaluation Curves\n",
            "Processed /content/sample_pdfs/sample/sample/1811.09300v1.pdf: 1 figures, 1 captions found\n",
            "Processed /content/sample_pdfs/sample/sample/1811.02172v1.pdf: 0 figures, 0 captions found\n",
            "[+] Combined figure saved as /content/training_data_images/1807.04587/figure3_1.png\n",
            "[+] Caption: Figure 1: In BP and DTP, the ﬁnal layer target is ...\n"
          ]
        },
        {
          "output_type": "stream",
          "name": "stderr",
          "text": [
            "\r  9%|▉         | 9/100 [00:13<01:37,  1.07s/it]"
          ]
        },
        {
          "output_type": "stream",
          "name": "stdout",
          "text": [
            "[+] Combined figure saved as /content/training_data_images/1807.04587/figure17_1.png\n",
            "[+] Caption: Figure 7: MNIST reconstructions obtained by differ...\n",
            "[+] Combined figure saved as /content/training_data_images/1807.04587/figure17_2.png\n",
            "[+] Caption: Figure 6: Train (solid) and test (dashed) reconstr...\n",
            "Processed /content/sample_pdfs/sample/sample/1807.04587.pdf: 3 figures, 3 captions found\n",
            "[+] Figure saved as /content/training_data_images/1806.09055/figure3_1.png\n",
            "[+] Caption: Figure 1: An overview of DARTS: (a) Operations on ...\n",
            "Processed /content/sample_pdfs/sample/sample/1806.09055.pdf: 1 figures, 1 captions found\n",
            "[+] Figure saved as /content/training_data_images/1806.01186/figure1_1.png\n",
            "[!] No caption found for figure 1_1\n",
            "[+] Combined figure saved as /content/training_data_images/1806.01186/figure4_1.png\n",
            "[+] Caption: Figure 2 | Sushi environment.\n",
            "[+] Combined figure saved as /content/training_data_images/1806.01186/figure4_2.png\n",
            "[+] Caption: Figure 3 | Vase environment.\n"
          ]
        },
        {
          "output_type": "stream",
          "name": "stderr",
          "text": [
            "\r 11%|█         | 11/100 [00:13<01:10,  1.26it/s]"
          ]
        },
        {
          "output_type": "stream",
          "name": "stdout",
          "text": [
            "[+] Combined figure saved as /content/training_data_images/1806.01186/figure5_1.png\n",
            "[+] Caption: Figure 4 | Offsetting behavior in the Vase environ...\n",
            "[+] Combined figure saved as /content/training_data_images/1806.01186/figure5_2.png\n",
            "[+] Caption: However, there is a problem with directly comparin...\n",
            "[+] Combined figure saved as /content/training_data_images/1806.01186/figure6_1.png\n",
            "[+] Caption: Figure 6 | Box environment.\n",
            "[+] Combined figure saved as /content/training_data_images/1806.01186/figure10_1.png\n",
            "[+] Caption: Figure 7 | Scaled performance results for differen...\n",
            "Processed /content/sample_pdfs/sample/sample/1806.01186.pdf: 7 figures, 6 captions found\n",
            "Processed /content/sample_pdfs/sample/sample/1805.11593.pdf: 0 figures, 0 captions found\n",
            "[+] Combined figure saved as /content/training_data_images/1803.06376/figure6_1.png\n",
            "[+] Caption: Figure 1: Directional field plot for the 2-face\n",
            "co...\n",
            "[+] Figure saved as /content/training_data_images/1803.06376/figure6_2.png\n",
            "[+] Caption: Figure 2: Trajectory plot for the 2-face consist-\n",
            "...\n",
            "[+] Figure saved as /content/training_data_images/1803.06376/figure6_3.png\n",
            "[+] Caption: Figure 3\n",
            "[+] Figure saved as /content/training_data_images/1803.06376/figure6_4.png\n",
            "[+] Caption: Figure 4\n",
            "[+] Figure saved as /content/training_data_images/1803.06376/figure6_5.png\n",
            "[+] Caption: Figure 5: Intransitive behaviour for αv , αp, and\n",
            "...\n"
          ]
        },
        {
          "output_type": "stream",
          "name": "stderr",
          "text": [
            "\r 13%|█▎        | 13/100 [00:14<00:57,  1.50it/s]"
          ]
        },
        {
          "output_type": "stream",
          "name": "stdout",
          "text": [
            "[+] Combined figure saved as /content/training_data_images/1803.06376/figure8_1.png\n",
            "[+] Caption: players play strategy A, which absorbs the entire ...\n",
            "[+] Combined figure saved as /content/training_data_images/1803.06376/figure8_2.png\n",
            "[+] Caption: (a)\n",
            "(b)\n",
            "(c)\n",
            "Figure 7: Dynamics of 3 2-faces of the...\n",
            "[+] Figure saved as /content/training_data_images/1803.06376/figure8_3.png\n",
            "[+] Caption: Figure 8: Trajectory plot of the first CP game.\n",
            "[+] Combined figure saved as /content/training_data_images/1803.06376/figure8_4.png\n",
            "[+] Caption: (a)\n",
            "(b)\n",
            "Figure 6: (a) dynamics of [36, 35, 24, 3, ...\n",
            "Processed /content/sample_pdfs/sample/sample/1803.06376.pdf: 9 figures, 9 captions found\n",
            "[+] Combined figure saved as /content/training_data_images/1804.04438/figure3_1.png\n",
            "[+] Caption: Figure 1: (a) Generating deformed images: To rando...\n",
            "[+] Figure saved as /content/training_data_images/1804.04438/figure5_1.png\n",
            "[+] Caption: Figure 2: Pooling confers stability to deformation...\n",
            "[+] Combined figure saved as /content/training_data_images/1804.04438/figure6_1.png\n",
            "[+] Caption: Figure 3: Tasks requiring more deformation invaria...\n",
            "[+] Figure saved as /content/training_data_images/1804.04438/figure7_1.png\n",
            "[+] Caption: Figure 4: Training leads to smoother ﬁlters. (a) a...\n",
            "[+] Combined figure saved as /content/training_data_images/1804.04438/figure8_1.png\n",
            "[+] Caption: Figure 5: (a) Initialization with smoother random ...\n"
          ]
        },
        {
          "output_type": "stream",
          "name": "stderr",
          "text": [
            "\r 14%|█▍        | 14/100 [00:16<01:13,  1.17it/s]"
          ]
        },
        {
          "output_type": "stream",
          "name": "stdout",
          "text": [
            "[+] Figure saved as /content/training_data_images/1804.04438/figure12_1.png\n",
            "[!] No caption found for figure 12_1\n",
            "[+] Figure saved as /content/training_data_images/1804.04438/figure12_2.png\n",
            "[!] No caption found for figure 12_2\n",
            "[+] Figure saved as /content/training_data_images/1804.04438/figure12_3.png\n",
            "[!] No caption found for figure 12_3\n",
            "Processed /content/sample_pdfs/sample/sample/1804.04438.pdf: 8 figures, 5 captions found\n",
            "[+] Figure saved as /content/training_data_images/1811.05931v1/figure2_1.png\n",
            "[+] Caption: Figure 1: Screenshots from (a) the Cleanup game, (...\n",
            "[+] Figure saved as /content/training_data_images/1811.05931v1/figure4_1.png\n",
            "[+] Caption: Figure 2: (a) Agent Aj adjusts policy πj(s,a|ϕ) us...\n",
            "[+] Figure saved as /content/training_data_images/1811.05931v1/figure5_1.png\n",
            "[+] Caption: Figure 3: (a) Agents assigned and evolved with ind...\n",
            "[+] Figure saved as /content/training_data_images/1811.05931v1/figure6_1.png\n",
            "[+] Caption: Figure 4: Total episode rewards, aggregated over p...\n"
          ]
        },
        {
          "output_type": "stream",
          "name": "stderr",
          "text": [
            "\r 15%|█▌        | 15/100 [00:18<01:32,  1.08s/it]"
          ]
        },
        {
          "output_type": "stream",
          "name": "stdout",
          "text": [
            "[+] Figure saved as /content/training_data_images/1811.05931v1/figure7_1.png\n",
            "[+] Caption: Figure 5: Social outcome metrics for (a) Cleanup a...\n",
            "[+] Figure saved as /content/training_data_images/1811.05931v1/figure7_2.png\n",
            "[+] Caption: Figure 6: Distribution of layer 2 weights and bias...\n",
            "Processed /content/sample_pdfs/sample/sample/1811.05931v1.pdf: 6 figures, 6 captions found\n",
            "[+] Combined figure saved as /content/training_data_images/1804.00168/figure2_1.png\n",
            "[+] Caption: Figure 1: (a) Our environment is built of real-wor...\n",
            "[+] Combined figure saved as /content/training_data_images/1804.00168/figure4_1.png\n",
            "[+] Caption: Figure 2: (a) In the illustration of the goal desc...\n",
            "[+] Combined figure saved as /content/training_data_images/1804.00168/figure6_1.png\n",
            "[+] Caption: Figure 3: Average per-episode rewards (y axis) are...\n",
            "[+] Combined figure saved as /content/training_data_images/1804.00168/figure6_2.png\n",
            "[+] Caption: We visualise trajectories from the trained agent o...\n"
          ]
        },
        {
          "output_type": "stream",
          "name": "stderr",
          "text": [
            "\r 16%|█▌        | 16/100 [00:24<03:08,  2.24s/it]"
          ]
        },
        {
          "output_type": "stream",
          "name": "stdout",
          "text": [
            "[+] Figure saved as /content/training_data_images/1804.00168/figure7_1.png\n",
            "[+] Caption: Figure 5: Illustration of medium-sized held-out\n",
            "gr...\n",
            "[+] Figure saved as /content/training_data_images/1804.00168/figure9_1.png\n",
            "[+] Caption: Figure 6: Left: Illustration of training regimes: ...\n",
            "[+] Figure saved as /content/training_data_images/1804.00168/figure9_2.jpeg\n",
            "[!] No caption found for figure 9_2\n",
            "[+] Figure saved as /content/training_data_images/1804.00168/figure13_1.png\n",
            "[+] Caption: Figure 7: Learning curves of the CityNav agent (2L...\n",
            "[+] Figure saved as /content/training_data_images/1804.00168/figure14_1.png\n",
            "[+] Caption: Figure 8: Learning curves for CityNav agents with ...\n",
            "[+] Figure saved as /content/training_data_images/1804.00168/figure15_1.png\n",
            "[+] Caption: Figure 9: Decoding of the agent position (blue dot...\n",
            "Processed /content/sample_pdfs/sample/sample/1804.00168.pdf: 10 figures, 9 captions found\n",
            "[+] Combined figure saved as /content/training_data_images/1812.01461v1/figure1_1.png\n",
            "[+] Caption: Figure 1:\n",
            "Top, input video showing someone driving...\n",
            "[+] Combined figure saved as /content/training_data_images/1812.01461v1/figure3_1.png\n",
            "[+] Caption: Figure 2: Illustration of the general idea, descri...\n",
            "[+] Combined figure saved as /content/training_data_images/1812.01461v1/figure5_1.png\n",
            "[+] Caption: Figure 3: Example outputs of the model on blended ...\n",
            "[+] Figure saved as /content/training_data_images/1812.01461v1/figure6_1.jpeg\n",
            "[+] Caption: Figure 5: Top: frame from original video. 2nd row:...\n",
            "[+] Combined figure saved as /content/training_data_images/1812.01461v1/figure7_1.png\n",
            "[+] Caption: Figure 6: Example videos where our models produce ...\n",
            "[+] Figure saved as /content/training_data_images/1812.01461v1/figure8_1.jpeg\n",
            "[+] Caption: Figure 8:\n",
            "Comparison of the centrifuge with a meth...\n"
          ]
        },
        {
          "output_type": "stream",
          "name": "stderr",
          "text": [
            "\r 17%|█▋        | 17/100 [00:30<04:30,  3.25s/it]"
          ]
        },
        {
          "output_type": "stream",
          "name": "stdout",
          "text": [
            "[+] Combined figure saved as /content/training_data_images/1812.01461v1/figure8_2.png\n",
            "[+] Caption: Figure 7: Results of our model applied on real-wor...\n",
            "[+] Figure saved as /content/training_data_images/1812.01461v1/figure11_1.png\n",
            "[+] Caption: U-Net \n",
            "I3D encoder - Simple decoder\n",
            "(see Fig. 2)\n",
            "[+] Figure saved as /content/training_data_images/1812.01461v1/figure12_1.png\n",
            "[+] Caption: Figure 10: Details of our U-Net encoder-decoder ar...\n",
            "Processed /content/sample_pdfs/sample/sample/1812.01461v1.pdf: 9 figures, 9 captions found\n",
            "[+] Figure saved as /content/training_data_images/1808.00508v1/figure2_1.png\n",
            "[+] Caption: Figure 1: MLPs learn the identity function only fo...\n",
            "[+] Combined figure saved as /content/training_data_images/1808.00508v1/figure3_1.png\n",
            "[+] Caption: Figure 2: The Neural Accumulator (NAC) is a linear...\n",
            "[+] Combined figure saved as /content/training_data_images/1808.00508v1/figure7_1.png\n",
            "[+] Caption: We compare to three popular RNNs (UGRNN, LSTM and ...\n",
            "[+] Figure saved as /content/training_data_images/1808.00508v1/figure7_2.png\n",
            "[+] Caption: Figure 5:\n",
            "(above) Frames from the gridworld\n",
            "time t...\n"
          ]
        },
        {
          "output_type": "stream",
          "name": "stderr",
          "text": [
            " 19%|█▉        | 19/100 [00:31<02:31,  1.87s/it]"
          ]
        },
        {
          "output_type": "stream",
          "name": "stdout",
          "text": [
            "[+] Figure saved as /content/training_data_images/1808.00508v1/figure11_1.png\n",
            "[!] No caption found for figure 11_1\n",
            "[+] Figure saved as /content/training_data_images/1808.00508v1/figure11_2.png\n",
            "[!] No caption found for figure 11_2\n",
            "[+] Figure saved as /content/training_data_images/1808.00508v1/figure11_3.png\n",
            "[!] No caption found for figure 11_3\n",
            "[+] Figure saved as /content/training_data_images/1808.00508v1/figure11_4.png\n",
            "[!] No caption found for figure 11_4\n",
            "[+] Figure saved as /content/training_data_images/1808.00508v1/figure11_5.png\n",
            "[!] No caption found for figure 11_5\n",
            "[+] Figure saved as /content/training_data_images/1808.00508v1/figure11_6.png\n",
            "[!] No caption found for figure 11_6\n",
            "[+] Figure saved as /content/training_data_images/1808.00508v1/figure11_7.png\n",
            "[!] No caption found for figure 11_7\n",
            "[+] Figure saved as /content/training_data_images/1808.00508v1/figure11_8.png\n",
            "[!] No caption found for figure 11_8\n",
            "[+] Figure saved as /content/training_data_images/1808.00508v1/figure11_9.png\n",
            "[!] No caption found for figure 11_9\n",
            "[+] Figure saved as /content/training_data_images/1808.00508v1/figure11_10.png\n",
            "[!] No caption found for figure 11_10\n",
            "[+] Figure saved as /content/training_data_images/1808.00508v1/figure11_11.png\n",
            "[!] No caption found for figure 11_11\n",
            "[+] Figure saved as /content/training_data_images/1808.00508v1/figure11_12.png\n",
            "[!] No caption found for figure 11_12\n",
            "[+] Figure saved as /content/training_data_images/1808.00508v1/figure11_13.png\n",
            "[!] No caption found for figure 11_13\n",
            "Processed /content/sample_pdfs/sample/sample/1808.00508v1.pdf: 17 figures, 4 captions found\n",
            "[+] Combined figure saved as /content/training_data_images/1805.08498/figure9_1.png\n",
            "[+] Caption: Figure 4: 2D latent spaces learned by a VAE on the...\n",
            "Processed /content/sample_pdfs/sample/sample/1805.08498.pdf: 1 figures, 1 captions found\n",
            "[+] Combined figure saved as /content/training_data_images/1806.05034/figure2_1.png\n",
            "[+] Caption: Figure 1: The Probabilistic U-Net. (a) Sampling pr...\n",
            "[+] Figure saved as /content/training_data_images/1806.05034/figure6_1.png\n",
            "[+] Caption: Figure 3: Qualitative results. The ﬁrst row shows ...\n",
            "[+] Figure saved as /content/training_data_images/1806.05034/figure6_2.png\n",
            "[+] Caption: Figure 4: Comparison of approaches using the squar...\n",
            "[+] Figure saved as /content/training_data_images/1806.05034/figure13_1.jpeg\n",
            "[+] Caption: Figure 6: Visualization of the latent space for th...\n",
            "[+] Figure saved as /content/training_data_images/1806.05034/figure14_1.png\n",
            "[+] Caption: Figure 7: Visualization of the latent space for th...\n",
            "[+] Combined figure saved as /content/training_data_images/1806.05034/figure16_1.png\n",
            "[+] Caption: Figure 8: Reproduction of probabilities by the bas...\n",
            "[+] Combined figure saved as /content/training_data_images/1806.05034/figure17_1.png\n",
            "[+] Caption: Figure 9: Reproduction of probabilities by the bas...\n",
            "[+] Figure saved as /content/training_data_images/1806.05034/figure18_1.png\n",
            "[+] Caption: Figure 10: Reproduction of probabilities by our Pr...\n",
            "[+] Figure saved as /content/training_data_images/1806.05034/figure19_1.png\n",
            "[+] Caption: Figure 11: Ablation analysis. Comparison of archit...\n",
            "[!] Error combining figure parts: image file is truncated (6 bytes not processed)\n",
            "[+] Caption: Figure 13: Qualitative examples from the Probabili...\n",
            "[+] Figure saved as /content/training_data_images/1806.05034/figure23_1.jpeg\n",
            "[+] Caption: Figure 14: Qualitative examples from the Dropout U...\n",
            "[+] Figure saved as /content/training_data_images/1806.05034/figure24_1.png\n",
            "[+] Caption: Figure 15: Qualitative examples from the U-Net Ens...\n",
            "[+] Figure saved as /content/training_data_images/1806.05034/figure25_1.png\n",
            "[+] Caption: Figure 16: Qualitative examples from the M-Heads (...\n",
            "[+] Combined figure saved as /content/training_data_images/1806.05034/figure26_1.png\n",
            "[+] Caption: Figure 17: Qualitative examples from the Image2Ima...\n"
          ]
        },
        {
          "output_type": "stream",
          "name": "stderr",
          "text": [
            "\r 20%|██        | 20/100 [00:35<03:38,  2.73s/it]"
          ]
        },
        {
          "output_type": "stream",
          "name": "stdout",
          "text": [
            "[+] Figure saved as /content/training_data_images/1806.05034/figure27_1.jpeg\n",
            "[+] Caption: Figure 18: Qualitative examples from the Probabili...\n",
            "Processed /content/sample_pdfs/sample/sample/1806.05034.pdf: 15 figures, 15 captions found\n",
            "[+] Figure saved as /content/training_data_images/1805.11592/figure2_1.png\n",
            "[+] Caption: Figure 1: Illustration of the domain gap that exis...\n",
            "[+] Figure saved as /content/training_data_images/1805.11592/figure3_1.png\n",
            "[+] Caption: Figure 2: For the path shown in (a), t-SNE project...\n",
            "[+] Figure saved as /content/training_data_images/1805.11592/figure4_1.png\n",
            "[+] Caption: Figure 3: Illustration of the network architecture...\n",
            "[+] Figure saved as /content/training_data_images/1805.11592/figure5_1.png\n",
            "[+] Caption: Figure 4: (a) Visualization of two embedding space...\n",
            "[+] Figure saved as /content/training_data_images/1805.11592/figure6_1.png\n",
            "[+] Caption: Figure 5: Cycle-consistency evaluation considering...\n",
            "[+] Figure saved as /content/training_data_images/1805.11592/figure7_1.png\n",
            "[+] Caption: Figure 6: For each embedding method, we visualize ...\n",
            "[+] Figure saved as /content/training_data_images/1805.11592/figure8_1.png\n",
            "[+] Caption: Figure 7: (Left) Visualization of select activatio...\n",
            "[+] Figure saved as /content/training_data_images/1805.11592/figure9_1.png\n",
            "[+] Caption: Figure 8: Learning curves of our combined TDC+CMC ...\n",
            "[+] Figure saved as /content/training_data_images/1805.11592/figure12_1.png\n",
            "[+] Caption: Figure 9: First frames of all videos in our datase...\n",
            "[+] Figure saved as /content/training_data_images/1805.11592/figure13_1.png\n",
            "[+] Caption: Figure 10: Learning curves of our algorithm on MON...\n"
          ]
        },
        {
          "output_type": "stream",
          "name": "stderr",
          "text": [
            "\r 21%|██        | 21/100 [00:37<03:02,  2.31s/it]"
          ]
        },
        {
          "output_type": "stream",
          "name": "stdout",
          "text": [
            "[+] Figure saved as /content/training_data_images/1805.11592/figure15_1.png\n",
            "[+] Caption: Figure 11: Visualization of the t-SNE projection o...\n",
            "Processed /content/sample_pdfs/sample/sample/1805.11592.pdf: 11 figures, 11 captions found\n"
          ]
        },
        {
          "output_type": "stream",
          "name": "stderr",
          "text": [
            "\r 22%|██▏       | 22/100 [00:37<02:15,  1.73s/it]"
          ]
        },
        {
          "output_type": "stream",
          "name": "stdout",
          "text": [
            "[+] Combined figure saved as /content/training_data_images/1811.09353v1/figure2_1.png\n",
            "[+] Caption: Figure 1: Fragment of the segmental neural languag...\n",
            "Processed /content/sample_pdfs/sample/sample/1811.09353v1.pdf: 1 figures, 1 captions found\n",
            "[+] Combined figure saved as /content/training_data_images/1811.01483v1/figure3_1.png\n",
            "[+] Caption: Figure 1: Left: Contingent region in FREEWAY; an o...\n",
            "[+] Figure saved as /content/training_data_images/1811.01483v1/figure5_1.png\n",
            "[+] Caption: Figure 2: Learning curves on several Atari games: ...\n",
            "[+] Figure saved as /content/training_data_images/1811.01483v1/figure8_1.png\n",
            "[+] Caption: Figure 3: Performance plot of ADM trained online u...\n",
            "[+] Figure saved as /content/training_data_images/1811.01483v1/figure8_2.png\n",
            "[+] Caption: Figure 4: Curves of ARI score during training, ave...\n",
            "[+] Figure saved as /content/training_data_images/1811.01483v1/figure13_1.png\n",
            "[+] Caption: Figure 5: Learning curves on several Atari games: ...\n"
          ]
        },
        {
          "output_type": "stream",
          "name": "stderr",
          "text": [
            "\r 23%|██▎       | 23/100 [00:39<02:07,  1.66s/it]"
          ]
        },
        {
          "output_type": "stream",
          "name": "stdout",
          "text": [
            "[+] Combined figure saved as /content/training_data_images/1811.01483v1/figure14_1.png\n",
            "[+] Caption: Figure 6: Sample of clustering result for VENTURE,...\n",
            "Processed /content/sample_pdfs/sample/sample/1811.01483v1.pdf: 6 figures, 6 captions found\n",
            "[+] Figure saved as /content/training_data_images/1810.08647v1/figure3_1.png\n",
            "[+] Caption: Figure 1:\n",
            "Causal\n",
            "diagram\n",
            "of\n",
            "agent\n",
            "A’s effect on B’...\n",
            "[+] Figure saved as /content/training_data_images/1810.08647v1/figure4_1.png\n",
            "[+] Caption: Figure 2: The communication model has two\n",
            "A2C head...\n",
            "[+] Figure saved as /content/training_data_images/1810.08647v1/figure4_2.png\n",
            "[+] Caption: Figure 3: The Model of Other Agents (MOA) archi-\n",
            "t...\n",
            "[+] Figure saved as /content/training_data_images/1810.08647v1/figure5_1.png\n",
            "[+] Caption: Figure 4: Causal diagram in the MOA\n",
            "case. Shaded n...\n",
            "[+] Combined figure saved as /content/training_data_images/1810.08647v1/figure5_2.png\n",
            "[+] Caption: Figure 5: The two SSD environments, Cleanup (left)...\n",
            "[+] Combined figure saved as /content/training_data_images/1810.08647v1/figure7_1.png\n",
            "[+] Caption: Figure 6: Total collective reward obtained in all ...\n",
            "[+] Figure saved as /content/training_data_images/1810.08647v1/figure7_2.png\n",
            "[+] Caption: Figure 7:\n",
            "A mo-\n",
            "ment of high influ-\n",
            "ence when the ...\n",
            "[+] Figure saved as /content/training_data_images/1810.08647v1/figure8_1.png\n",
            "[+] Caption: Figure 8: Metrics describing the quality of learne...\n",
            "[+] Combined figure saved as /content/training_data_images/1810.08647v1/figure13_1.png\n",
            "[+] Caption: Figure 9: Schelling diagrams for the two social di...\n",
            "[+] Figure saved as /content/training_data_images/1810.08647v1/figure13_2.png\n",
            "[+] Caption: Figure 10: The Box trapped environment in which\n",
            "th...\n",
            "[+] Combined figure saved as /content/training_data_images/1810.08647v1/figure14_1.png\n",
            "[+] Caption: Most importantly though, Figure 11b shows the infl...\n",
            "[+] Figure saved as /content/training_data_images/1810.08647v1/figure16_1.png\n",
            "[+] Caption: Figure 12: A moment of\n",
            "high influence between the\n",
            "...\n"
          ]
        },
        {
          "output_type": "stream",
          "name": "stderr",
          "text": [
            "\r 24%|██▍       | 24/100 [00:40<02:05,  1.65s/it]"
          ]
        },
        {
          "output_type": "stream",
          "name": "stdout",
          "text": [
            "[+] Combined figure saved as /content/training_data_images/1810.08647v1/figure17_1.png\n",
            "[+] Caption: experiment, and plot the results in Figure 13. Onc...\n",
            "[+] Combined figure saved as /content/training_data_images/1810.08647v1/figure18_1.png\n",
            "[+] Caption: Figure 14: Total collective reward over the top 5 ...\n",
            "Processed /content/sample_pdfs/sample/sample/1810.08647v1.pdf: 14 figures, 14 captions found\n",
            "[+] Combined figure saved as /content/training_data_images/1807.05960/figure3_1.png\n",
            "[+] Caption: Figure 1: High-level intuition for LEO. While\n",
            "MAML...\n",
            "[+] Combined figure saved as /content/training_data_images/1807.05960/figure3_2.png\n",
            "[+] Caption: Figure 2: Overview of the architecture of LEO.\n",
            "[+] Combined figure saved as /content/training_data_images/1807.05960/figure7_1.png\n",
            "[+] Caption: Figure 3: Meta-learning with LEO of a multimodal t...\n"
          ]
        },
        {
          "output_type": "stream",
          "name": "stderr",
          "text": [
            "\r 25%|██▌       | 25/100 [00:43<02:22,  1.91s/it]"
          ]
        },
        {
          "output_type": "stream",
          "name": "stdout",
          "text": [
            "[+] Combined figure saved as /content/training_data_images/1807.05960/figure9_1.png\n",
            "[+] Caption: Figure 4: t-SNE plot of latent space codes before ...\n",
            "[+] Combined figure saved as /content/training_data_images/1807.05960/figure10_1.png\n",
            "[+] Caption: Figure 5: Curvature and coverage metrics for a num...\n",
            "Processed /content/sample_pdfs/sample/sample/1807.05960.pdf: 5 figures, 5 captions found\n",
            "[+] Combined figure saved as /content/training_data_images/1804.01756/figure6_1.png\n",
            "[+] Caption: Figure 2: The negative variational lower bound (le...\n",
            "[+] Combined figure saved as /content/training_data_images/1804.01756/figure6_2.png\n",
            "[+] Caption: At the end of training, our VAE reached a negative...\n",
            "[+] Combined figure saved as /content/training_data_images/1804.01756/figure7_1.png\n",
            "[+] Caption: batch of images with many classes and samples. To ...\n",
            "[+] Combined figure saved as /content/training_data_images/1804.01756/figure7_2.png\n",
            "[+] Caption: Figure 5: Comparison of samples from CIFAR. The 24...\n",
            "[+] Combined figure saved as /content/training_data_images/1804.01756/figure8_1.png\n",
            "[+] Caption: Figure 6: Left: the training curves of DNC and Kan...\n",
            "[+] Figure saved as /content/training_data_images/1804.01756/figure11_1.png\n",
            "[+] Caption: Figure 8: Iteratively sampled priors from VAE, for...\n",
            "[+] Combined figure saved as /content/training_data_images/1804.01756/figure11_2.png\n",
            "[+] Caption: Figure 7: Interpolation for Omniglot and CIFAR ima...\n",
            "[+] Figure saved as /content/training_data_images/1804.01756/figure13_1.png\n",
            "[+] Caption: Figure 10: Covariance between memory rows is impor...\n"
          ]
        },
        {
          "output_type": "stream",
          "name": "stderr",
          "text": [
            "\r 26%|██▌       | 26/100 [00:44<02:15,  1.83s/it]"
          ]
        },
        {
          "output_type": "stream",
          "name": "stdout",
          "text": [
            "[+] Combined figure saved as /content/training_data_images/1804.01756/figure14_1.png\n",
            "[+] Caption: Figure 11: The KL-divergence between yt (left) and...\n",
            "Processed /content/sample_pdfs/sample/sample/1804.01756.pdf: 9 figures, 9 captions found\n",
            "[+] Figure saved as /content/training_data_images/1809.07435/figure4_1.png\n",
            "[+] Caption: Figure 1: The checkered grid world environment. Tr...\n"
          ]
        },
        {
          "output_type": "stream",
          "name": "stderr",
          "text": [
            "\r 27%|██▋       | 27/100 [00:45<01:39,  1.37s/it]"
          ]
        },
        {
          "output_type": "stream",
          "name": "stdout",
          "text": [
            "[+] Figure saved as /content/training_data_images/1809.07435/figure5_1.png\n",
            "[+] Caption: Figure 2: Checkered grid world policy evaluation r...\n",
            "[+] Figure saved as /content/training_data_images/1809.07435/figure5_2.png\n",
            "[+] Caption: Figure 3: Checkered grid world reward sequence rec...\n",
            "[+] Figure saved as /content/training_data_images/1809.07435/figure5_3.png\n",
            "[+] Caption: Figure 4: The wavy ring world environment. Each st...\n",
            "[+] Figure saved as /content/training_data_images/1809.07435/figure6_1.png\n",
            "[+] Caption: Figure 5: Wavy ring world results. Despite the use...\n",
            "Processed /content/sample_pdfs/sample/sample/1809.07435.pdf: 5 figures, 5 captions found\n",
            "[+] Figure saved as /content/training_data_images/1810.05017v1/figure2_1.png\n",
            "[+] Caption: Figure 1: Starting from a dataset of demonstration...\n",
            "[+] Figure saved as /content/training_data_images/1810.05017v1/figure3_1.png\n",
            "[+] Caption: Figure 2: Imitation actor algorithm (left) and ill...\n",
            "[+] Figure saved as /content/training_data_images/1810.05017v1/figure4_1.png\n",
            "[+] Caption: Figure 3: Network architecture. Since high-ﬁdelity...\n",
            "[+] Figure saved as /content/training_data_images/1810.05017v1/figure6_1.png\n",
            "[+] Caption: Figure 4: One-shot high-ﬁdelity imitation. Given n...\n",
            "[+] Combined figure saved as /content/training_data_images/1810.05017v1/figure7_1.png\n",
            "[+] Caption: Figure 5: More demonstrations improve generalizati...\n"
          ]
        },
        {
          "output_type": "stream",
          "name": "stderr",
          "text": [
            "\r 28%|██▊       | 28/100 [00:52<03:48,  3.17s/it]"
          ]
        },
        {
          "output_type": "stream",
          "name": "stdout",
          "text": [
            "[+] Combined figure saved as /content/training_data_images/1810.05017v1/figure8_1.png\n",
            "[+] Caption: Figure 7: Efﬁcient task policy. The task policy (w...\n",
            "Processed /content/sample_pdfs/sample/sample/1810.05017v1.pdf: 6 figures, 6 captions found\n",
            "[+] Combined figure saved as /content/training_data_images/1811.06407v1/figure4_1.png\n",
            "[+] Caption: We now describe the architectures we use in our ex...\n",
            "[+] Combined figure saved as /content/training_data_images/1811.06407v1/figure6_1.png\n",
            "[+] Caption: Figure 2:\n",
            "Frames from the agent moving at random i...\n",
            "[+] Combined figure saved as /content/training_data_images/1811.06407v1/figure6_2.png\n",
            "[+] Caption: Figure 3: Examples of agent observations for diffe...\n",
            "[+] Combined figure saved as /content/training_data_images/1811.06407v1/figure8_1.png\n",
            "[+] Caption: Figure 4: Example predictions for terrain. In each...\n",
            "[+] Figure saved as /content/training_data_images/1811.06407v1/figure8_2.png\n",
            "[+] Caption: Figure 5: Symmetry of the\n",
            "(x, y, θ) prediction wit...\n",
            "[+] Combined figure saved as /content/training_data_images/1811.06407v1/figure9_1.png\n",
            "[+] Caption: Figure 6: Example predictions for non teleport and...\n",
            "[+] Combined figure saved as /content/training_data_images/1811.06407v1/figure10_1.png\n",
            "[+] Caption: Figure 7:\n",
            "Example predictions for two hallways. Gr...\n",
            "Processed /content/sample_pdfs/sample/sample/1811.06407v1.pdf: 7 figures, 7 captions found\n"
          ]
        },
        {
          "output_type": "stream",
          "name": "stderr",
          "text": [
            " 30%|███       | 30/100 [00:55<02:32,  2.18s/it]"
          ]
        },
        {
          "output_type": "stream",
          "name": "stdout",
          "text": [
            "[+] Figure saved as /content/training_data_images/1806.07917/figure2_1.png\n",
            "[+] Caption: Figure 1: Baldwinian evolution (left) versus Lamar...\n",
            "[+] Combined figure saved as /content/training_data_images/1806.07917/figure8_1.png\n",
            "[+] Caption: Figure 3: Comparison of the speed of ﬁtting of the...\n",
            "[+] Figure saved as /content/training_data_images/1806.07917/figure10_1.png\n",
            "[+] Caption: Figure 7: Hyperparameter evolution shown at 25 eve...\n",
            "Processed /content/sample_pdfs/sample/sample/1806.07917.pdf: 3 figures, 3 captions found\n"
          ]
        },
        {
          "output_type": "stream",
          "name": "stderr",
          "text": [
            "\r 31%|███       | 31/100 [00:55<01:49,  1.58s/it]"
          ]
        },
        {
          "output_type": "stream",
          "name": "stdout",
          "text": [
            "[+] Combined figure saved as /content/training_data_images/1810.08163v1/figure3_1.png\n",
            "[+] Caption: Figure 1: Left: Trajectory-centric planning over m...\n",
            "[+] Figure saved as /content/training_data_images/1810.08163v1/figure13_1.png\n",
            "[+] Caption: Figure 5: Simple maze example, with two coins.\n",
            "Processed /content/sample_pdfs/sample/sample/1810.08163v1.pdf: 2 figures, 2 captions found\n",
            "Processed /content/sample_pdfs/sample/sample/1808.01340.pdf: 0 figures, 0 captions found\n",
            "Processed /content/sample_pdfs/sample/sample/1805.08913.pdf: 0 figures, 0 captions found\n",
            "[+] Figure saved as /content/training_data_images/1806.10474/figure4_1.jpeg\n",
            "[+] Caption: Figure 1: Schematic overview of an autoregressive ...\n",
            "[+] Combined figure saved as /content/training_data_images/1806.10474/figure7_1.png\n",
            "[+] Caption: Figure 2: Predictability proﬁles:\n",
            "NLLs obtained by...\n",
            "Processed /content/sample_pdfs/sample/sample/1806.10474.pdf: 2 figures, 2 captions found\n",
            "[+] Combined figure saved as /content/training_data_images/1807.04225v1/figure1_1.png\n",
            "[+] Caption: Figure 1. Raven-style Progressive Matrices. In (a)...\n",
            "[+] Combined figure saved as /content/training_data_images/1807.04225v1/figure2_1.png\n",
            "[+] Caption: Figure 2. A difﬁcult PGM and a depiction of relati...\n",
            "[+] Combined figure saved as /content/training_data_images/1807.04225v1/figure5_1.png\n",
            "[+] Caption: Figure 3. WReN model A CNN processes each context ...\n",
            "[+] Combined figure saved as /content/training_data_images/1807.04225v1/figure6_1.png\n",
            "[+] Caption: Figure 4. The effect of distraction.\n",
            "In both PGMs,...\n",
            "[+] Figure saved as /content/training_data_images/1807.04225v1/figure7_1.png\n",
            "[+] Caption: Figure 5. Relationship between answer accuracy and...\n",
            "[+] Figure saved as /content/training_data_images/1807.04225v1/figure12_1.png\n",
            "[!] No caption found for figure 12_1\n",
            "[+] Figure saved as /content/training_data_images/1807.04225v1/figure12_2.png\n",
            "[!] No caption found for figure 12_2\n",
            "[+] Figure saved as /content/training_data_images/1807.04225v1/figure12_3.png\n",
            "[!] No caption found for figure 12_3\n",
            "[+] Figure saved as /content/training_data_images/1807.04225v1/figure12_4.png\n",
            "[!] No caption found for figure 12_4\n",
            "[+] Figure saved as /content/training_data_images/1807.04225v1/figure12_5.png\n",
            "[!] No caption found for figure 12_5\n",
            "[+] Figure saved as /content/training_data_images/1807.04225v1/figure12_6.png\n",
            "[!] No caption found for figure 12_6\n",
            "[+] Figure saved as /content/training_data_images/1807.04225v1/figure12_7.png\n",
            "[!] No caption found for figure 12_7\n",
            "[+] Figure saved as /content/training_data_images/1807.04225v1/figure12_8.png\n",
            "[!] No caption found for figure 12_8\n",
            "[+] Figure saved as /content/training_data_images/1807.04225v1/figure12_9.png\n",
            "[!] No caption found for figure 12_9\n",
            "[+] Figure saved as /content/training_data_images/1807.04225v1/figure12_10.png\n",
            "[!] No caption found for figure 12_10\n",
            "[+] Figure saved as /content/training_data_images/1807.04225v1/figure12_11.png\n",
            "[!] No caption found for figure 12_11\n",
            "[+] Figure saved as /content/training_data_images/1807.04225v1/figure12_12.png\n",
            "[!] No caption found for figure 12_12\n",
            "[+] Figure saved as /content/training_data_images/1807.04225v1/figure12_13.png\n",
            "[!] No caption found for figure 12_13\n",
            "[+] Figure saved as /content/training_data_images/1807.04225v1/figure12_14.png\n",
            "[!] No caption found for figure 12_14\n",
            "[+] Figure saved as /content/training_data_images/1807.04225v1/figure12_15.png\n",
            "[!] No caption found for figure 12_15\n",
            "[+] Figure saved as /content/training_data_images/1807.04225v1/figure12_16.png\n",
            "[!] No caption found for figure 12_16\n",
            "[+] Figure saved as /content/training_data_images/1807.04225v1/figure12_17.png\n",
            "[!] No caption found for figure 12_17\n",
            "[+] Figure saved as /content/training_data_images/1807.04225v1/figure12_18.png\n",
            "[!] No caption found for figure 12_18\n",
            "[+] Figure saved as /content/training_data_images/1807.04225v1/figure12_19.png\n",
            "[!] No caption found for figure 12_19\n",
            "[+] Figure saved as /content/training_data_images/1807.04225v1/figure12_20.png\n",
            "[!] No caption found for figure 12_20\n",
            "[+] Figure saved as /content/training_data_images/1807.04225v1/figure12_21.png\n",
            "[!] No caption found for figure 12_21\n",
            "[+] Figure saved as /content/training_data_images/1807.04225v1/figure12_22.png\n",
            "[!] No caption found for figure 12_22\n",
            "[+] Figure saved as /content/training_data_images/1807.04225v1/figure12_23.png\n",
            "[!] No caption found for figure 12_23\n",
            "[+] Figure saved as /content/training_data_images/1807.04225v1/figure12_24.png\n",
            "[!] No caption found for figure 12_24\n",
            "[+] Figure saved as /content/training_data_images/1807.04225v1/figure12_25.png\n",
            "[!] No caption found for figure 12_25\n",
            "[+] Figure saved as /content/training_data_images/1807.04225v1/figure12_26.png\n",
            "[!] No caption found for figure 12_26\n",
            "[+] Figure saved as /content/training_data_images/1807.04225v1/figure12_27.png\n",
            "[!] No caption found for figure 12_27\n",
            "[+] Figure saved as /content/training_data_images/1807.04225v1/figure12_28.png\n",
            "[!] No caption found for figure 12_28\n",
            "[+] Figure saved as /content/training_data_images/1807.04225v1/figure12_29.png\n",
            "[!] No caption found for figure 12_29\n",
            "[+] Figure saved as /content/training_data_images/1807.04225v1/figure12_30.png\n",
            "[!] No caption found for figure 12_30\n",
            "[+] Figure saved as /content/training_data_images/1807.04225v1/figure12_31.png\n",
            "[!] No caption found for figure 12_31\n",
            "[+] Figure saved as /content/training_data_images/1807.04225v1/figure12_32.png\n",
            "[!] No caption found for figure 12_32\n",
            "[+] Figure saved as /content/training_data_images/1807.04225v1/figure12_33.png\n",
            "[!] No caption found for figure 12_33\n",
            "[+] Figure saved as /content/training_data_images/1807.04225v1/figure12_34.png\n",
            "[!] No caption found for figure 12_34\n",
            "[+] Figure saved as /content/training_data_images/1807.04225v1/figure12_35.png\n",
            "[!] No caption found for figure 12_35\n",
            "[+] Figure saved as /content/training_data_images/1807.04225v1/figure12_36.png\n",
            "[!] No caption found for figure 12_36\n",
            "[+] Figure saved as /content/training_data_images/1807.04225v1/figure12_37.png\n",
            "[!] No caption found for figure 12_37\n",
            "[+] Figure saved as /content/training_data_images/1807.04225v1/figure12_38.png\n",
            "[!] No caption found for figure 12_38\n",
            "[+] Figure saved as /content/training_data_images/1807.04225v1/figure12_39.png\n",
            "[!] No caption found for figure 12_39\n",
            "[+] Figure saved as /content/training_data_images/1807.04225v1/figure12_40.png\n",
            "[!] No caption found for figure 12_40\n",
            "[+] Figure saved as /content/training_data_images/1807.04225v1/figure12_41.png\n",
            "[!] No caption found for figure 12_41\n",
            "[+] Figure saved as /content/training_data_images/1807.04225v1/figure12_42.png\n",
            "[!] No caption found for figure 12_42\n",
            "[+] Figure saved as /content/training_data_images/1807.04225v1/figure12_43.png\n",
            "[!] No caption found for figure 12_43\n",
            "[+] Figure saved as /content/training_data_images/1807.04225v1/figure12_44.png\n",
            "[!] No caption found for figure 12_44\n",
            "[+] Figure saved as /content/training_data_images/1807.04225v1/figure12_45.png\n",
            "[!] No caption found for figure 12_45\n",
            "[+] Figure saved as /content/training_data_images/1807.04225v1/figure12_46.png\n",
            "[!] No caption found for figure 12_46\n",
            "[+] Figure saved as /content/training_data_images/1807.04225v1/figure12_47.png\n",
            "[!] No caption found for figure 12_47\n",
            "[+] Figure saved as /content/training_data_images/1807.04225v1/figure12_48.png\n",
            "[!] No caption found for figure 12_48\n",
            "[+] Figure saved as /content/training_data_images/1807.04225v1/figure12_49.png\n",
            "[!] No caption found for figure 12_49\n",
            "[+] Figure saved as /content/training_data_images/1807.04225v1/figure12_50.png\n",
            "[!] No caption found for figure 12_50\n",
            "[+] Figure saved as /content/training_data_images/1807.04225v1/figure12_51.png\n",
            "[!] No caption found for figure 12_51\n",
            "[+] Figure saved as /content/training_data_images/1807.04225v1/figure12_52.png\n",
            "[!] No caption found for figure 12_52\n",
            "[+] Figure saved as /content/training_data_images/1807.04225v1/figure12_53.png\n",
            "[!] No caption found for figure 12_53\n",
            "[+] Figure saved as /content/training_data_images/1807.04225v1/figure12_54.png\n",
            "[!] No caption found for figure 12_54\n",
            "[+] Figure saved as /content/training_data_images/1807.04225v1/figure12_55.png\n",
            "[!] No caption found for figure 12_55\n",
            "[+] Figure saved as /content/training_data_images/1807.04225v1/figure12_56.png\n",
            "[!] No caption found for figure 12_56\n",
            "[+] Figure saved as /content/training_data_images/1807.04225v1/figure12_57.png\n",
            "[!] No caption found for figure 12_57\n",
            "[+] Figure saved as /content/training_data_images/1807.04225v1/figure12_58.png\n",
            "[!] No caption found for figure 12_58\n",
            "[+] Figure saved as /content/training_data_images/1807.04225v1/figure12_59.png\n",
            "[!] No caption found for figure 12_59\n",
            "[+] Figure saved as /content/training_data_images/1807.04225v1/figure12_60.png\n",
            "[!] No caption found for figure 12_60\n",
            "[+] Figure saved as /content/training_data_images/1807.04225v1/figure12_61.png\n",
            "[!] No caption found for figure 12_61\n",
            "[+] Figure saved as /content/training_data_images/1807.04225v1/figure12_62.png\n",
            "[!] No caption found for figure 12_62\n",
            "[+] Figure saved as /content/training_data_images/1807.04225v1/figure12_63.png\n",
            "[!] No caption found for figure 12_63\n",
            "[+] Figure saved as /content/training_data_images/1807.04225v1/figure12_64.png\n",
            "[!] No caption found for figure 12_64\n",
            "[+] Figure saved as /content/training_data_images/1807.04225v1/figure12_65.png\n",
            "[!] No caption found for figure 12_65\n",
            "[+] Figure saved as /content/training_data_images/1807.04225v1/figure12_66.png\n",
            "[!] No caption found for figure 12_66\n",
            "[+] Figure saved as /content/training_data_images/1807.04225v1/figure12_67.png\n",
            "[!] No caption found for figure 12_67\n",
            "[+] Figure saved as /content/training_data_images/1807.04225v1/figure12_68.png\n",
            "[!] No caption found for figure 12_68\n",
            "[+] Figure saved as /content/training_data_images/1807.04225v1/figure12_69.png\n",
            "[!] No caption found for figure 12_69\n",
            "[+] Figure saved as /content/training_data_images/1807.04225v1/figure12_70.png\n",
            "[!] No caption found for figure 12_70\n",
            "[+] Figure saved as /content/training_data_images/1807.04225v1/figure12_71.png\n",
            "[!] No caption found for figure 12_71\n",
            "[+] Figure saved as /content/training_data_images/1807.04225v1/figure12_72.png\n",
            "[!] No caption found for figure 12_72\n",
            "[+] Figure saved as /content/training_data_images/1807.04225v1/figure12_73.png\n",
            "[!] No caption found for figure 12_73\n",
            "[+] Figure saved as /content/training_data_images/1807.04225v1/figure12_74.png\n",
            "[!] No caption found for figure 12_74\n",
            "[+] Figure saved as /content/training_data_images/1807.04225v1/figure12_75.png\n",
            "[!] No caption found for figure 12_75\n",
            "[+] Figure saved as /content/training_data_images/1807.04225v1/figure12_76.png\n",
            "[!] No caption found for figure 12_76\n",
            "[+] Figure saved as /content/training_data_images/1807.04225v1/figure12_77.png\n",
            "[!] No caption found for figure 12_77\n",
            "[+] Figure saved as /content/training_data_images/1807.04225v1/figure12_78.png\n",
            "[!] No caption found for figure 12_78\n",
            "[+] Figure saved as /content/training_data_images/1807.04225v1/figure12_79.png\n",
            "[!] No caption found for figure 12_79\n",
            "[+] Figure saved as /content/training_data_images/1807.04225v1/figure12_80.png\n",
            "[!] No caption found for figure 12_80\n",
            "[+] Figure saved as /content/training_data_images/1807.04225v1/figure12_81.png\n",
            "[!] No caption found for figure 12_81\n",
            "[+] Figure saved as /content/training_data_images/1807.04225v1/figure12_82.png\n",
            "[!] No caption found for figure 12_82\n",
            "[+] Figure saved as /content/training_data_images/1807.04225v1/figure12_83.png\n",
            "[!] No caption found for figure 12_83\n",
            "[+] Figure saved as /content/training_data_images/1807.04225v1/figure12_84.png\n",
            "[!] No caption found for figure 12_84\n",
            "[+] Figure saved as /content/training_data_images/1807.04225v1/figure12_85.png\n",
            "[!] No caption found for figure 12_85\n",
            "[+] Figure saved as /content/training_data_images/1807.04225v1/figure12_86.png\n",
            "[!] No caption found for figure 12_86\n",
            "[+] Figure saved as /content/training_data_images/1807.04225v1/figure12_87.png\n",
            "[!] No caption found for figure 12_87\n",
            "[+] Figure saved as /content/training_data_images/1807.04225v1/figure12_88.png\n",
            "[!] No caption found for figure 12_88\n",
            "[+] Figure saved as /content/training_data_images/1807.04225v1/figure12_89.png\n",
            "[!] No caption found for figure 12_89\n",
            "[+] Figure saved as /content/training_data_images/1807.04225v1/figure12_90.png\n",
            "[!] No caption found for figure 12_90\n",
            "[+] Figure saved as /content/training_data_images/1807.04225v1/figure12_91.png\n",
            "[!] No caption found for figure 12_91\n",
            "[+] Figure saved as /content/training_data_images/1807.04225v1/figure12_92.png\n",
            "[!] No caption found for figure 12_92\n",
            "[+] Figure saved as /content/training_data_images/1807.04225v1/figure12_93.png\n",
            "[!] No caption found for figure 12_93\n",
            "[+] Figure saved as /content/training_data_images/1807.04225v1/figure12_94.png\n",
            "[!] No caption found for figure 12_94\n",
            "[+] Figure saved as /content/training_data_images/1807.04225v1/figure12_95.png\n",
            "[!] No caption found for figure 12_95\n",
            "[+] Figure saved as /content/training_data_images/1807.04225v1/figure12_96.png\n",
            "[!] No caption found for figure 12_96\n",
            "[+] Figure saved as /content/training_data_images/1807.04225v1/figure12_97.png\n",
            "[!] No caption found for figure 12_97\n",
            "[+] Figure saved as /content/training_data_images/1807.04225v1/figure12_98.png\n",
            "[!] No caption found for figure 12_98\n",
            "[+] Figure saved as /content/training_data_images/1807.04225v1/figure12_99.png\n",
            "[!] No caption found for figure 12_99\n",
            "[+] Figure saved as /content/training_data_images/1807.04225v1/figure12_100.png\n",
            "[!] No caption found for figure 12_100\n",
            "[+] Figure saved as /content/training_data_images/1807.04225v1/figure12_101.png\n",
            "[!] No caption found for figure 12_101\n",
            "[+] Figure saved as /content/training_data_images/1807.04225v1/figure12_102.png\n",
            "[!] No caption found for figure 12_102\n",
            "[+] Figure saved as /content/training_data_images/1807.04225v1/figure12_103.png\n",
            "[!] No caption found for figure 12_103\n",
            "[+] Figure saved as /content/training_data_images/1807.04225v1/figure12_104.png\n",
            "[!] No caption found for figure 12_104\n",
            "[+] Figure saved as /content/training_data_images/1807.04225v1/figure12_105.png\n",
            "[!] No caption found for figure 12_105\n",
            "[+] Figure saved as /content/training_data_images/1807.04225v1/figure12_106.png\n",
            "[!] No caption found for figure 12_106\n",
            "[+] Figure saved as /content/training_data_images/1807.04225v1/figure12_107.png\n",
            "[!] No caption found for figure 12_107\n",
            "[+] Figure saved as /content/training_data_images/1807.04225v1/figure12_108.png\n",
            "[!] No caption found for figure 12_108\n",
            "[+] Figure saved as /content/training_data_images/1807.04225v1/figure12_109.png\n",
            "[!] No caption found for figure 12_109\n",
            "[+] Figure saved as /content/training_data_images/1807.04225v1/figure12_110.png\n",
            "[!] No caption found for figure 12_110\n",
            "[+] Figure saved as /content/training_data_images/1807.04225v1/figure12_111.png\n",
            "[!] No caption found for figure 12_111\n",
            "[+] Figure saved as /content/training_data_images/1807.04225v1/figure12_112.png\n",
            "[!] No caption found for figure 12_112\n",
            "[+] Figure saved as /content/training_data_images/1807.04225v1/figure12_113.png\n",
            "[!] No caption found for figure 12_113\n",
            "[+] Figure saved as /content/training_data_images/1807.04225v1/figure12_114.png\n",
            "[!] No caption found for figure 12_114\n",
            "[+] Figure saved as /content/training_data_images/1807.04225v1/figure12_115.png\n",
            "[!] No caption found for figure 12_115\n",
            "[+] Figure saved as /content/training_data_images/1807.04225v1/figure12_116.png\n",
            "[!] No caption found for figure 12_116\n",
            "[+] Figure saved as /content/training_data_images/1807.04225v1/figure12_117.png\n",
            "[!] No caption found for figure 12_117\n",
            "[+] Figure saved as /content/training_data_images/1807.04225v1/figure12_118.png\n",
            "[!] No caption found for figure 12_118\n",
            "[+] Figure saved as /content/training_data_images/1807.04225v1/figure12_119.png\n",
            "[!] No caption found for figure 12_119\n",
            "[+] Figure saved as /content/training_data_images/1807.04225v1/figure12_120.png\n",
            "[!] No caption found for figure 12_120\n",
            "[+] Figure saved as /content/training_data_images/1807.04225v1/figure12_121.png\n",
            "[!] No caption found for figure 12_121\n",
            "[+] Figure saved as /content/training_data_images/1807.04225v1/figure12_122.png\n",
            "[!] No caption found for figure 12_122\n",
            "[+] Figure saved as /content/training_data_images/1807.04225v1/figure12_123.png\n",
            "[!] No caption found for figure 12_123\n",
            "[+] Figure saved as /content/training_data_images/1807.04225v1/figure12_124.png\n",
            "[!] No caption found for figure 12_124\n",
            "[+] Figure saved as /content/training_data_images/1807.04225v1/figure12_125.png\n",
            "[!] No caption found for figure 12_125\n",
            "[+] Figure saved as /content/training_data_images/1807.04225v1/figure12_126.png\n",
            "[!] No caption found for figure 12_126\n",
            "[+] Figure saved as /content/training_data_images/1807.04225v1/figure12_127.png\n",
            "[!] No caption found for figure 12_127\n",
            "[+] Figure saved as /content/training_data_images/1807.04225v1/figure12_128.png\n",
            "[!] No caption found for figure 12_128\n",
            "[+] Figure saved as /content/training_data_images/1807.04225v1/figure12_129.png\n",
            "[!] No caption found for figure 12_129\n",
            "[+] Figure saved as /content/training_data_images/1807.04225v1/figure12_130.png\n",
            "[!] No caption found for figure 12_130\n",
            "[+] Figure saved as /content/training_data_images/1807.04225v1/figure12_131.png\n",
            "[!] No caption found for figure 12_131\n",
            "[+] Figure saved as /content/training_data_images/1807.04225v1/figure12_132.png\n",
            "[!] No caption found for figure 12_132\n",
            "[+] Figure saved as /content/training_data_images/1807.04225v1/figure12_133.png\n",
            "[!] No caption found for figure 12_133\n",
            "[+] Figure saved as /content/training_data_images/1807.04225v1/figure12_134.png\n",
            "[!] No caption found for figure 12_134\n",
            "[+] Figure saved as /content/training_data_images/1807.04225v1/figure12_135.png\n",
            "[!] No caption found for figure 12_135\n",
            "[+] Figure saved as /content/training_data_images/1807.04225v1/figure12_136.png\n",
            "[!] No caption found for figure 12_136\n",
            "[+] Figure saved as /content/training_data_images/1807.04225v1/figure12_137.png\n",
            "[!] No caption found for figure 12_137\n",
            "[+] Figure saved as /content/training_data_images/1807.04225v1/figure12_138.png\n",
            "[!] No caption found for figure 12_138\n",
            "[+] Figure saved as /content/training_data_images/1807.04225v1/figure12_139.png\n",
            "[!] No caption found for figure 12_139\n",
            "[+] Figure saved as /content/training_data_images/1807.04225v1/figure12_140.png\n",
            "[!] No caption found for figure 12_140\n",
            "[+] Figure saved as /content/training_data_images/1807.04225v1/figure12_141.png\n",
            "[!] No caption found for figure 12_141\n",
            "[+] Figure saved as /content/training_data_images/1807.04225v1/figure12_142.png\n",
            "[!] No caption found for figure 12_142\n",
            "[+] Figure saved as /content/training_data_images/1807.04225v1/figure12_143.png\n",
            "[!] No caption found for figure 12_143\n",
            "[+] Figure saved as /content/training_data_images/1807.04225v1/figure12_144.png\n",
            "[!] No caption found for figure 12_144\n",
            "[+] Figure saved as /content/training_data_images/1807.04225v1/figure12_145.png\n",
            "[!] No caption found for figure 12_145\n",
            "[+] Figure saved as /content/training_data_images/1807.04225v1/figure12_146.png\n",
            "[!] No caption found for figure 12_146\n",
            "[+] Figure saved as /content/training_data_images/1807.04225v1/figure12_147.png\n",
            "[!] No caption found for figure 12_147\n",
            "[+] Figure saved as /content/training_data_images/1807.04225v1/figure12_148.png\n",
            "[!] No caption found for figure 12_148\n",
            "[+] Figure saved as /content/training_data_images/1807.04225v1/figure12_149.png\n",
            "[!] No caption found for figure 12_149\n",
            "[+] Figure saved as /content/training_data_images/1807.04225v1/figure12_150.png\n",
            "[!] No caption found for figure 12_150\n",
            "[+] Figure saved as /content/training_data_images/1807.04225v1/figure12_151.png\n",
            "[!] No caption found for figure 12_151\n",
            "[+] Figure saved as /content/training_data_images/1807.04225v1/figure12_152.png\n",
            "[!] No caption found for figure 12_152\n",
            "[+] Figure saved as /content/training_data_images/1807.04225v1/figure12_153.png\n",
            "[!] No caption found for figure 12_153\n"
          ]
        },
        {
          "output_type": "stream",
          "name": "stderr",
          "text": [
            "\r 35%|███▌      | 35/100 [01:03<01:59,  1.83s/it]"
          ]
        },
        {
          "output_type": "stream",
          "name": "stdout",
          "text": [
            "[+] Figure saved as /content/training_data_images/1807.04225v1/figure13_1.png\n",
            "[!] No caption found for figure 13_1\n",
            "[+] Figure saved as /content/training_data_images/1807.04225v1/figure13_2.png\n",
            "[!] No caption found for figure 13_2\n",
            "[+] Figure saved as /content/training_data_images/1807.04225v1/figure13_3.png\n",
            "[!] No caption found for figure 13_3\n",
            "[+] Figure saved as /content/training_data_images/1807.04225v1/figure13_4.png\n",
            "[!] No caption found for figure 13_4\n",
            "[+] Figure saved as /content/training_data_images/1807.04225v1/figure13_5.png\n",
            "[!] No caption found for figure 13_5\n",
            "[+] Figure saved as /content/training_data_images/1807.04225v1/figure13_6.png\n",
            "[!] No caption found for figure 13_6\n",
            "[+] Figure saved as /content/training_data_images/1807.04225v1/figure13_7.png\n",
            "[!] No caption found for figure 13_7\n",
            "[+] Figure saved as /content/training_data_images/1807.04225v1/figure13_8.png\n",
            "[!] No caption found for figure 13_8\n",
            "[+] Figure saved as /content/training_data_images/1807.04225v1/figure13_9.png\n",
            "[!] No caption found for figure 13_9\n",
            "[+] Figure saved as /content/training_data_images/1807.04225v1/figure13_10.png\n",
            "[!] No caption found for figure 13_10\n",
            "[+] Figure saved as /content/training_data_images/1807.04225v1/figure13_11.png\n",
            "[!] No caption found for figure 13_11\n",
            "[+] Figure saved as /content/training_data_images/1807.04225v1/figure13_12.png\n",
            "[!] No caption found for figure 13_12\n",
            "[+] Figure saved as /content/training_data_images/1807.04225v1/figure13_13.png\n",
            "[!] No caption found for figure 13_13\n",
            "[+] Figure saved as /content/training_data_images/1807.04225v1/figure13_14.png\n",
            "[!] No caption found for figure 13_14\n",
            "[+] Figure saved as /content/training_data_images/1807.04225v1/figure13_15.png\n",
            "[!] No caption found for figure 13_15\n",
            "[+] Figure saved as /content/training_data_images/1807.04225v1/figure13_16.png\n",
            "[!] No caption found for figure 13_16\n",
            "[+] Figure saved as /content/training_data_images/1807.04225v1/figure13_17.png\n",
            "[!] No caption found for figure 13_17\n",
            "[+] Figure saved as /content/training_data_images/1807.04225v1/figure13_18.png\n",
            "[!] No caption found for figure 13_18\n",
            "[+] Figure saved as /content/training_data_images/1807.04225v1/figure13_19.png\n",
            "[!] No caption found for figure 13_19\n",
            "[+] Figure saved as /content/training_data_images/1807.04225v1/figure13_20.png\n",
            "[!] No caption found for figure 13_20\n",
            "[+] Figure saved as /content/training_data_images/1807.04225v1/figure13_21.png\n",
            "[!] No caption found for figure 13_21\n",
            "[+] Figure saved as /content/training_data_images/1807.04225v1/figure13_22.png\n",
            "[!] No caption found for figure 13_22\n",
            "[+] Figure saved as /content/training_data_images/1807.04225v1/figure13_23.png\n",
            "[!] No caption found for figure 13_23\n",
            "[+] Figure saved as /content/training_data_images/1807.04225v1/figure13_24.png\n",
            "[!] No caption found for figure 13_24\n",
            "[+] Figure saved as /content/training_data_images/1807.04225v1/figure13_25.png\n",
            "[!] No caption found for figure 13_25\n",
            "[+] Figure saved as /content/training_data_images/1807.04225v1/figure13_26.png\n",
            "[!] No caption found for figure 13_26\n",
            "[+] Figure saved as /content/training_data_images/1807.04225v1/figure13_27.png\n",
            "[!] No caption found for figure 13_27\n",
            "[+] Figure saved as /content/training_data_images/1807.04225v1/figure13_28.png\n",
            "[!] No caption found for figure 13_28\n",
            "[+] Figure saved as /content/training_data_images/1807.04225v1/figure13_29.png\n",
            "[!] No caption found for figure 13_29\n",
            "[+] Figure saved as /content/training_data_images/1807.04225v1/figure13_30.png\n",
            "[!] No caption found for figure 13_30\n",
            "[+] Figure saved as /content/training_data_images/1807.04225v1/figure13_31.png\n",
            "[!] No caption found for figure 13_31\n",
            "[+] Figure saved as /content/training_data_images/1807.04225v1/figure13_32.png\n",
            "[!] No caption found for figure 13_32\n",
            "[+] Figure saved as /content/training_data_images/1807.04225v1/figure13_33.png\n",
            "[!] No caption found for figure 13_33\n",
            "[+] Figure saved as /content/training_data_images/1807.04225v1/figure13_34.png\n",
            "[!] No caption found for figure 13_34\n",
            "[+] Figure saved as /content/training_data_images/1807.04225v1/figure13_35.png\n",
            "[!] No caption found for figure 13_35\n",
            "[+] Figure saved as /content/training_data_images/1807.04225v1/figure13_36.png\n",
            "[!] No caption found for figure 13_36\n",
            "[+] Figure saved as /content/training_data_images/1807.04225v1/figure13_37.png\n",
            "[!] No caption found for figure 13_37\n",
            "[+] Figure saved as /content/training_data_images/1807.04225v1/figure13_38.png\n",
            "[!] No caption found for figure 13_38\n",
            "[+] Figure saved as /content/training_data_images/1807.04225v1/figure13_39.png\n",
            "[!] No caption found for figure 13_39\n",
            "[+] Figure saved as /content/training_data_images/1807.04225v1/figure13_40.png\n",
            "[!] No caption found for figure 13_40\n",
            "[+] Figure saved as /content/training_data_images/1807.04225v1/figure13_41.png\n",
            "[!] No caption found for figure 13_41\n",
            "[+] Figure saved as /content/training_data_images/1807.04225v1/figure13_42.png\n",
            "[!] No caption found for figure 13_42\n",
            "[+] Figure saved as /content/training_data_images/1807.04225v1/figure13_43.png\n",
            "[!] No caption found for figure 13_43\n",
            "[+] Figure saved as /content/training_data_images/1807.04225v1/figure13_44.png\n",
            "[!] No caption found for figure 13_44\n",
            "[+] Figure saved as /content/training_data_images/1807.04225v1/figure13_45.png\n",
            "[!] No caption found for figure 13_45\n",
            "[+] Figure saved as /content/training_data_images/1807.04225v1/figure13_46.png\n",
            "[!] No caption found for figure 13_46\n",
            "[+] Figure saved as /content/training_data_images/1807.04225v1/figure13_47.png\n",
            "[!] No caption found for figure 13_47\n",
            "[+] Figure saved as /content/training_data_images/1807.04225v1/figure13_48.png\n",
            "[!] No caption found for figure 13_48\n",
            "[+] Figure saved as /content/training_data_images/1807.04225v1/figure13_49.png\n",
            "[!] No caption found for figure 13_49\n",
            "[+] Figure saved as /content/training_data_images/1807.04225v1/figure13_50.png\n",
            "[!] No caption found for figure 13_50\n",
            "[+] Figure saved as /content/training_data_images/1807.04225v1/figure13_51.png\n",
            "[!] No caption found for figure 13_51\n",
            "[+] Figure saved as /content/training_data_images/1807.04225v1/figure13_52.png\n",
            "[!] No caption found for figure 13_52\n",
            "[+] Figure saved as /content/training_data_images/1807.04225v1/figure13_53.png\n",
            "[!] No caption found for figure 13_53\n",
            "[+] Figure saved as /content/training_data_images/1807.04225v1/figure13_54.png\n",
            "[!] No caption found for figure 13_54\n",
            "[+] Figure saved as /content/training_data_images/1807.04225v1/figure13_55.png\n",
            "[!] No caption found for figure 13_55\n",
            "[+] Figure saved as /content/training_data_images/1807.04225v1/figure13_56.png\n",
            "[!] No caption found for figure 13_56\n",
            "[+] Figure saved as /content/training_data_images/1807.04225v1/figure13_57.png\n",
            "[!] No caption found for figure 13_57\n",
            "[+] Figure saved as /content/training_data_images/1807.04225v1/figure13_58.png\n",
            "[!] No caption found for figure 13_58\n",
            "[+] Figure saved as /content/training_data_images/1807.04225v1/figure13_59.png\n",
            "[!] No caption found for figure 13_59\n",
            "[+] Figure saved as /content/training_data_images/1807.04225v1/figure13_60.png\n",
            "[!] No caption found for figure 13_60\n",
            "[+] Figure saved as /content/training_data_images/1807.04225v1/figure13_61.png\n",
            "[!] No caption found for figure 13_61\n",
            "[+] Figure saved as /content/training_data_images/1807.04225v1/figure13_62.png\n",
            "[!] No caption found for figure 13_62\n",
            "[+] Figure saved as /content/training_data_images/1807.04225v1/figure13_63.png\n",
            "[!] No caption found for figure 13_63\n",
            "[+] Figure saved as /content/training_data_images/1807.04225v1/figure13_64.png\n",
            "[!] No caption found for figure 13_64\n",
            "[+] Figure saved as /content/training_data_images/1807.04225v1/figure13_65.png\n",
            "[!] No caption found for figure 13_65\n",
            "[+] Figure saved as /content/training_data_images/1807.04225v1/figure13_66.png\n",
            "[!] No caption found for figure 13_66\n",
            "[+] Figure saved as /content/training_data_images/1807.04225v1/figure13_67.png\n",
            "[!] No caption found for figure 13_67\n",
            "[+] Figure saved as /content/training_data_images/1807.04225v1/figure13_68.png\n",
            "[!] No caption found for figure 13_68\n",
            "[+] Figure saved as /content/training_data_images/1807.04225v1/figure13_69.png\n",
            "[!] No caption found for figure 13_69\n",
            "[+] Figure saved as /content/training_data_images/1807.04225v1/figure13_70.png\n",
            "[!] No caption found for figure 13_70\n",
            "[+] Figure saved as /content/training_data_images/1807.04225v1/figure13_71.png\n",
            "[!] No caption found for figure 13_71\n",
            "[+] Figure saved as /content/training_data_images/1807.04225v1/figure13_72.png\n",
            "[!] No caption found for figure 13_72\n",
            "[+] Figure saved as /content/training_data_images/1807.04225v1/figure13_73.png\n",
            "[!] No caption found for figure 13_73\n",
            "[+] Figure saved as /content/training_data_images/1807.04225v1/figure13_74.png\n",
            "[!] No caption found for figure 13_74\n",
            "[+] Figure saved as /content/training_data_images/1807.04225v1/figure13_75.png\n",
            "[!] No caption found for figure 13_75\n",
            "[+] Figure saved as /content/training_data_images/1807.04225v1/figure13_76.png\n",
            "[!] No caption found for figure 13_76\n",
            "[+] Figure saved as /content/training_data_images/1807.04225v1/figure13_77.png\n",
            "[!] No caption found for figure 13_77\n",
            "[+] Figure saved as /content/training_data_images/1807.04225v1/figure13_78.png\n",
            "[!] No caption found for figure 13_78\n",
            "[+] Figure saved as /content/training_data_images/1807.04225v1/figure13_79.png\n",
            "[!] No caption found for figure 13_79\n",
            "[+] Figure saved as /content/training_data_images/1807.04225v1/figure13_80.png\n",
            "[!] No caption found for figure 13_80\n",
            "[+] Figure saved as /content/training_data_images/1807.04225v1/figure13_81.png\n",
            "[!] No caption found for figure 13_81\n",
            "[+] Figure saved as /content/training_data_images/1807.04225v1/figure13_82.png\n",
            "[!] No caption found for figure 13_82\n",
            "[+] Figure saved as /content/training_data_images/1807.04225v1/figure13_83.png\n",
            "[!] No caption found for figure 13_83\n",
            "[+] Figure saved as /content/training_data_images/1807.04225v1/figure13_84.png\n",
            "[!] No caption found for figure 13_84\n",
            "[+] Figure saved as /content/training_data_images/1807.04225v1/figure13_85.png\n",
            "[!] No caption found for figure 13_85\n",
            "[+] Figure saved as /content/training_data_images/1807.04225v1/figure13_86.png\n",
            "[!] No caption found for figure 13_86\n",
            "[+] Figure saved as /content/training_data_images/1807.04225v1/figure13_87.png\n",
            "[!] No caption found for figure 13_87\n",
            "[+] Figure saved as /content/training_data_images/1807.04225v1/figure13_88.png\n",
            "[!] No caption found for figure 13_88\n",
            "[+] Figure saved as /content/training_data_images/1807.04225v1/figure13_89.png\n",
            "[!] No caption found for figure 13_89\n",
            "[+] Figure saved as /content/training_data_images/1807.04225v1/figure13_90.png\n",
            "[!] No caption found for figure 13_90\n",
            "[+] Figure saved as /content/training_data_images/1807.04225v1/figure13_91.png\n",
            "[!] No caption found for figure 13_91\n",
            "[+] Figure saved as /content/training_data_images/1807.04225v1/figure13_92.png\n",
            "[!] No caption found for figure 13_92\n",
            "[+] Figure saved as /content/training_data_images/1807.04225v1/figure13_93.png\n",
            "[!] No caption found for figure 13_93\n",
            "[+] Figure saved as /content/training_data_images/1807.04225v1/figure13_94.png\n",
            "[!] No caption found for figure 13_94\n",
            "[+] Figure saved as /content/training_data_images/1807.04225v1/figure13_95.png\n",
            "[!] No caption found for figure 13_95\n",
            "[+] Figure saved as /content/training_data_images/1807.04225v1/figure13_96.png\n",
            "[!] No caption found for figure 13_96\n",
            "[+] Figure saved as /content/training_data_images/1807.04225v1/figure13_97.png\n",
            "[!] No caption found for figure 13_97\n",
            "[+] Figure saved as /content/training_data_images/1807.04225v1/figure13_98.png\n",
            "[!] No caption found for figure 13_98\n",
            "[+] Figure saved as /content/training_data_images/1807.04225v1/figure13_99.png\n",
            "[!] No caption found for figure 13_99\n",
            "[+] Figure saved as /content/training_data_images/1807.04225v1/figure13_100.png\n",
            "[!] No caption found for figure 13_100\n",
            "[+] Figure saved as /content/training_data_images/1807.04225v1/figure13_101.png\n",
            "[!] No caption found for figure 13_101\n",
            "[+] Figure saved as /content/training_data_images/1807.04225v1/figure13_102.png\n",
            "[!] No caption found for figure 13_102\n",
            "[+] Figure saved as /content/training_data_images/1807.04225v1/figure13_103.png\n",
            "[!] No caption found for figure 13_103\n",
            "[+] Figure saved as /content/training_data_images/1807.04225v1/figure13_104.png\n",
            "[!] No caption found for figure 13_104\n",
            "[+] Figure saved as /content/training_data_images/1807.04225v1/figure13_105.png\n",
            "[!] No caption found for figure 13_105\n",
            "[+] Figure saved as /content/training_data_images/1807.04225v1/figure13_106.png\n",
            "[!] No caption found for figure 13_106\n",
            "[+] Figure saved as /content/training_data_images/1807.04225v1/figure13_107.png\n",
            "[!] No caption found for figure 13_107\n",
            "[+] Figure saved as /content/training_data_images/1807.04225v1/figure13_108.png\n",
            "[!] No caption found for figure 13_108\n",
            "[+] Figure saved as /content/training_data_images/1807.04225v1/figure13_109.png\n",
            "[!] No caption found for figure 13_109\n",
            "[+] Figure saved as /content/training_data_images/1807.04225v1/figure13_110.png\n",
            "[!] No caption found for figure 13_110\n",
            "[+] Figure saved as /content/training_data_images/1807.04225v1/figure13_111.png\n",
            "[!] No caption found for figure 13_111\n",
            "[+] Figure saved as /content/training_data_images/1807.04225v1/figure13_112.png\n",
            "[!] No caption found for figure 13_112\n",
            "[+] Figure saved as /content/training_data_images/1807.04225v1/figure13_113.png\n",
            "[!] No caption found for figure 13_113\n",
            "[+] Figure saved as /content/training_data_images/1807.04225v1/figure13_114.png\n",
            "[!] No caption found for figure 13_114\n",
            "[+] Figure saved as /content/training_data_images/1807.04225v1/figure13_115.png\n",
            "[!] No caption found for figure 13_115\n",
            "[+] Figure saved as /content/training_data_images/1807.04225v1/figure13_116.png\n",
            "[!] No caption found for figure 13_116\n",
            "[+] Figure saved as /content/training_data_images/1807.04225v1/figure13_117.png\n",
            "[!] No caption found for figure 13_117\n",
            "[+] Figure saved as /content/training_data_images/1807.04225v1/figure13_118.png\n",
            "[!] No caption found for figure 13_118\n",
            "[+] Figure saved as /content/training_data_images/1807.04225v1/figure13_119.png\n",
            "[!] No caption found for figure 13_119\n",
            "[+] Figure saved as /content/training_data_images/1807.04225v1/figure13_120.png\n",
            "[!] No caption found for figure 13_120\n",
            "[+] Figure saved as /content/training_data_images/1807.04225v1/figure13_121.png\n",
            "[!] No caption found for figure 13_121\n",
            "[+] Figure saved as /content/training_data_images/1807.04225v1/figure13_122.png\n",
            "[!] No caption found for figure 13_122\n",
            "[+] Figure saved as /content/training_data_images/1807.04225v1/figure13_123.png\n",
            "[!] No caption found for figure 13_123\n",
            "[+] Figure saved as /content/training_data_images/1807.04225v1/figure13_124.png\n",
            "[!] No caption found for figure 13_124\n",
            "[+] Figure saved as /content/training_data_images/1807.04225v1/figure13_125.png\n",
            "[!] No caption found for figure 13_125\n",
            "[+] Figure saved as /content/training_data_images/1807.04225v1/figure13_126.png\n",
            "[!] No caption found for figure 13_126\n",
            "[+] Figure saved as /content/training_data_images/1807.04225v1/figure13_127.png\n",
            "[!] No caption found for figure 13_127\n",
            "[+] Figure saved as /content/training_data_images/1807.04225v1/figure13_128.png\n",
            "[!] No caption found for figure 13_128\n",
            "[+] Figure saved as /content/training_data_images/1807.04225v1/figure13_129.png\n",
            "[!] No caption found for figure 13_129\n",
            "[+] Figure saved as /content/training_data_images/1807.04225v1/figure13_130.png\n",
            "[!] No caption found for figure 13_130\n",
            "[+] Figure saved as /content/training_data_images/1807.04225v1/figure13_131.png\n",
            "[!] No caption found for figure 13_131\n",
            "[+] Figure saved as /content/training_data_images/1807.04225v1/figure13_132.png\n",
            "[!] No caption found for figure 13_132\n",
            "[+] Figure saved as /content/training_data_images/1807.04225v1/figure13_133.png\n",
            "[!] No caption found for figure 13_133\n",
            "[+] Figure saved as /content/training_data_images/1807.04225v1/figure13_134.png\n",
            "[!] No caption found for figure 13_134\n",
            "[+] Figure saved as /content/training_data_images/1807.04225v1/figure13_135.png\n",
            "[!] No caption found for figure 13_135\n",
            "[+] Figure saved as /content/training_data_images/1807.04225v1/figure13_136.png\n",
            "[!] No caption found for figure 13_136\n",
            "[+] Figure saved as /content/training_data_images/1807.04225v1/figure13_137.png\n",
            "[!] No caption found for figure 13_137\n",
            "[+] Figure saved as /content/training_data_images/1807.04225v1/figure13_138.png\n",
            "[!] No caption found for figure 13_138\n",
            "[+] Figure saved as /content/training_data_images/1807.04225v1/figure13_139.png\n",
            "[!] No caption found for figure 13_139\n",
            "[+] Figure saved as /content/training_data_images/1807.04225v1/figure13_140.png\n",
            "[!] No caption found for figure 13_140\n",
            "[+] Figure saved as /content/training_data_images/1807.04225v1/figure13_141.png\n",
            "[!] No caption found for figure 13_141\n",
            "[+] Figure saved as /content/training_data_images/1807.04225v1/figure13_142.png\n",
            "[!] No caption found for figure 13_142\n",
            "[+] Figure saved as /content/training_data_images/1807.04225v1/figure13_143.png\n",
            "[!] No caption found for figure 13_143\n",
            "[+] Figure saved as /content/training_data_images/1807.04225v1/figure13_144.png\n",
            "[!] No caption found for figure 13_144\n",
            "[+] Figure saved as /content/training_data_images/1807.04225v1/figure13_145.png\n",
            "[!] No caption found for figure 13_145\n",
            "[+] Figure saved as /content/training_data_images/1807.04225v1/figure13_146.png\n",
            "[!] No caption found for figure 13_146\n",
            "[+] Figure saved as /content/training_data_images/1807.04225v1/figure13_147.png\n",
            "[!] No caption found for figure 13_147\n",
            "[+] Figure saved as /content/training_data_images/1807.04225v1/figure13_148.png\n",
            "[!] No caption found for figure 13_148\n",
            "[+] Figure saved as /content/training_data_images/1807.04225v1/figure13_149.png\n",
            "[!] No caption found for figure 13_149\n",
            "[+] Figure saved as /content/training_data_images/1807.04225v1/figure13_150.png\n",
            "[!] No caption found for figure 13_150\n",
            "[+] Figure saved as /content/training_data_images/1807.04225v1/figure13_151.png\n",
            "[!] No caption found for figure 13_151\n",
            "[+] Figure saved as /content/training_data_images/1807.04225v1/figure13_152.png\n",
            "[!] No caption found for figure 13_152\n",
            "[+] Figure saved as /content/training_data_images/1807.04225v1/figure13_153.png\n",
            "[!] No caption found for figure 13_153\n",
            "[+] Figure saved as /content/training_data_images/1807.04225v1/figure15_1.png\n",
            "[+] Caption: Figure 8. Relationship between answer accuracy and...\n",
            "[+] Figure saved as /content/training_data_images/1807.04225v1/figure15_2.png\n",
            "[+] Caption: Figure 6. Relationship between answer accuracy and...\n",
            "[+] Figure saved as /content/training_data_images/1807.04225v1/figure15_3.png\n",
            "[+] Caption: Figure 7. Relationship between answer accuracy and...\n",
            "[+] Figure saved as /content/training_data_images/1807.04225v1/figure17_1.png\n",
            "[+] Caption: Figure 9. Answer key to puzzles in section A.2\n",
            "Processed /content/sample_pdfs/sample/sample/1807.04225v1.pdf: 315 figures, 9 captions found\n",
            "Processed /content/sample_pdfs/sample/sample/1803.03835.pdf: 0 figures, 0 captions found\n"
          ]
        },
        {
          "output_type": "stream",
          "name": "stderr",
          "text": [
            "\r 37%|███▋      | 37/100 [01:03<01:24,  1.34s/it]"
          ]
        },
        {
          "output_type": "stream",
          "name": "stdout",
          "text": [
            "[+] Combined figure saved as /content/training_data_images/1811.05154v1/figure9_1.png\n",
            "[+] Caption: Figure 1: The expected n-round regret of UCB1, TS,...\n",
            "Processed /content/sample_pdfs/sample/sample/1811.05154v1.pdf: 1 figures, 1 captions found\n",
            "[+] Combined figure saved as /content/training_data_images/1810.09026v1/figure5_1.png\n",
            "[+] Caption: Figure 1: Learning Dynamics in Matching Pennies: (...\n",
            "[+] Combined figure saved as /content/training_data_images/1810.09026v1/figure20_1.png\n",
            "[+] Caption: Figure 3: Matching Pennies\n",
            "[+] Combined figure saved as /content/training_data_images/1810.09026v1/figure20_2.png\n",
            "[+] Caption: Figure 4: Rock-Paper-Scissors\n"
          ]
        },
        {
          "output_type": "stream",
          "name": "stderr",
          "text": [
            "\r 38%|███▊      | 38/100 [01:05<01:20,  1.30s/it]"
          ]
        },
        {
          "output_type": "stream",
          "name": "stdout",
          "text": [
            "[+] Combined figure saved as /content/training_data_images/1810.09026v1/figure20_3.png\n",
            "[+] Caption: Figure 6: Replicator Dynamics in\n",
            "the Shapley Game\n",
            "[+] Combined figure saved as /content/training_data_images/1810.09026v1/figure20_4.png\n",
            "[+] Caption: Figure 5: Bias Rock-Paper-Scissors\n",
            "[+] Combined figure saved as /content/training_data_images/1810.09026v1/figure20_5.png\n",
            "[+] Caption: Figure 7: RPG dynamics in the\n",
            "Shapley Game\n",
            "[+] Figure saved as /content/training_data_images/1810.09026v1/figure27_1.png\n",
            "[+] Caption: Figure 10: Regression CFR convergence results; x-a...\n",
            "Processed /content/sample_pdfs/sample/sample/1810.09026v1.pdf: 7 figures, 7 captions found\n"
          ]
        },
        {
          "output_type": "stream",
          "name": "stderr",
          "text": [
            "\r 39%|███▉      | 39/100 [01:05<01:05,  1.08s/it]"
          ]
        },
        {
          "output_type": "stream",
          "name": "stdout",
          "text": [
            "[+] Figure saved as /content/training_data_images/1805.12387/figure5_1.png\n",
            "[+] Caption: Figure 1: The system is running in circles for 25 ...\n",
            "[+] Figure saved as /content/training_data_images/1805.12387/figure5_2.png\n",
            "[+] Caption: Figure 2: The system goes straight to the magenta ...\n",
            "[+] Figure saved as /content/training_data_images/1805.12387/figure5_3.png\n",
            "[+] Caption: Figure 3: The system is going toward the blue ball...\n",
            "[+] Figure saved as /content/training_data_images/1805.12387/figure5_4.png\n",
            "[+] Caption: Figure 4: The system turns when facing a wall.\n",
            "[+] Figure saved as /content/training_data_images/1805.12387/figure6_1.png\n",
            "[+] Caption: Figure 5: Switching goals using a the switching ag...\n",
            "[+] Figure saved as /content/training_data_images/1805.12387/figure6_2.png\n",
            "[+] Caption: Figure 6: Sequence of the posteriors of the differ...\n",
            "[+] Figure saved as /content/training_data_images/1805.12387/figure6_3.png\n",
            "[+] Caption: Figure 7: The system is choosing its action unifor...\n",
            "Processed /content/sample_pdfs/sample/sample/1805.12387.pdf: 7 figures, 7 captions found\n",
            "[+] Figure saved as /content/training_data_images/1804.03980/figure2_1.png\n",
            "[+] Caption: Figure 1: High-level overview of the negotiation e...\n",
            "[+] Combined figure saved as /content/training_data_images/1804.03980/figure5_1.png\n",
            "[+] Caption: Figure 2: a) Training curves for self-interested a...\n",
            "[+] Combined figure saved as /content/training_data_images/1804.03980/figure8_1.png\n",
            "[+] Caption: Figure 3: a) Unigram statistics of symbol usage br...\n",
            "[+] Figure saved as /content/training_data_images/1804.03980/figure10_1.png\n",
            "[+] Caption: Figure 4: PCA plot of whitened opponent ID embeddi...\n"
          ]
        },
        {
          "output_type": "stream",
          "name": "stderr",
          "text": [
            "\r 40%|████      | 40/100 [01:05<00:55,  1.09it/s]"
          ]
        },
        {
          "output_type": "stream",
          "name": "stdout",
          "text": [
            "[+] Combined figure saved as /content/training_data_images/1804.03980/figure14_1.png\n",
            "[+] Caption: Figure 5: a) Unigram statistics of symbol usage br...\n",
            "[+] Figure saved as /content/training_data_images/1804.03980/figure14_2.png\n",
            "[+] Caption: Figure 6: Bigram usage in all interaction pairs be...\n",
            "Processed /content/sample_pdfs/sample/sample/1804.03980.pdf: 6 figures, 6 captions found\n",
            "Processed /content/sample_pdfs/sample/sample/1811.07871v1.pdf: 0 figures, 0 captions found\n",
            "[+] Combined figure saved as /content/training_data_images/1804.03984/figure2_1.png\n",
            "[+] Caption: Figure 1: High-level overview of the referential g...\n",
            "[+] Figure saved as /content/training_data_images/1804.03984/figure5_1.png\n",
            "[+] Caption: Figure 2: Training curves of different experimenta...\n",
            "[+] Combined figure saved as /content/training_data_images/1804.03984/figure7_1.png\n",
            "[+] Caption: Figure 3: left: Three languages with different pro...\n"
          ]
        },
        {
          "output_type": "stream",
          "name": "stderr",
          "text": [
            "\r 42%|████▏     | 42/100 [01:10<01:30,  1.56s/it]"
          ]
        },
        {
          "output_type": "stream",
          "name": "stdout",
          "text": [
            "[+] Combined figure saved as /content/training_data_images/1804.03984/figure9_1.png\n",
            "[+] Caption: Figure 4: Target images and their associated messa...\n",
            "Processed /content/sample_pdfs/sample/sample/1804.03984.pdf: 4 figures, 4 captions found\n",
            "[+] Combined figure saved as /content/training_data_images/1812.01483v1/figure2_1.png\n",
            "[+] Caption: Figure 1: Joint unsupervised learning of task segm...\n",
            "[+] Figure saved as /content/training_data_images/1812.01483v1/figure6_1.jpeg\n",
            "[+] Caption: Figure 3: Example of multi-task\n",
            "environment (2D gr...\n",
            "[+] Combined figure saved as /content/training_data_images/1812.01483v1/figure8_1.png\n",
            "[+] Caption: the correct order, without mistakes (i.e. without ...\n",
            "[+] Combined figure saved as /content/training_data_images/1812.01483v1/figure15_1.png\n",
            "[+] Caption: In Figure 10, we investigate termination locations...\n"
          ]
        },
        {
          "output_type": "stream",
          "name": "stderr",
          "text": [
            "\r 43%|████▎     | 43/100 [01:12<01:25,  1.50s/it]"
          ]
        },
        {
          "output_type": "stream",
          "name": "stdout",
          "text": [
            "[+] Figure saved as /content/training_data_images/1812.01483v1/figure16_1.png\n",
            "[+] Caption: Figure 10: Heatmap of termination locations for ea...\n",
            "[+] Combined figure saved as /content/training_data_images/1812.01483v1/figure16_2.png\n",
            "[+] Caption: Figure 8: Example of sub-task policies discovered ...\n",
            "Processed /content/sample_pdfs/sample/sample/1812.01483v1.pdf: 6 figures, 6 captions found\n"
          ]
        },
        {
          "output_type": "stream",
          "name": "stderr",
          "text": [
            "\r 44%|████▍     | 44/100 [01:13<01:18,  1.40s/it]"
          ]
        },
        {
          "output_type": "stream",
          "name": "stdout",
          "text": [
            "[+] Combined figure saved as /content/training_data_images/1811.01458v1/figure2_1.png\n",
            "[+] Caption: Figure 1: a) In an MDP the action u is sampled fro...\n",
            "[+] Figure saved as /content/training_data_images/1811.01458v1/figure5_1.png\n",
            "[+] Caption: Figure 3: BAD, both with and without counterfactua...\n",
            "[+] Combined figure saved as /content/training_data_images/1811.01458v1/figure7_1.png\n",
            "[+] Caption: Figure 4: a) Hanabi training curves for BAD and th...\n",
            "Processed /content/sample_pdfs/sample/sample/1811.01458v1.pdf: 3 figures, 3 captions found\n",
            "Processed /content/sample_pdfs/sample/sample/1805.09208.pdf: 0 figures, 0 captions found\n",
            "[+] Figure saved as /content/training_data_images/1806.11006/figure3_1.png\n",
            "[+] Caption: Figure 1. Illustration of method of learned moment...\n",
            "[+] Combined figure saved as /content/training_data_images/1806.11006/figure7_1.png\n",
            "[+] Caption: To answer the ﬁrst question – does learning moment...\n",
            "[+] Combined figure saved as /content/training_data_images/1806.11006/figure8_1.png\n",
            "[+] Caption: Figure 3. Left pane is Inception Score vs. and rig...\n",
            "[+] Figure saved as /content/training_data_images/1806.11006/figure8_2.png\n",
            "[+] Caption: Figure 4. Inception Score and FID for different mo...\n"
          ]
        },
        {
          "output_type": "stream",
          "name": "stderr",
          "text": [
            "\r 46%|████▌     | 46/100 [01:14<00:54,  1.01s/it]"
          ]
        },
        {
          "output_type": "stream",
          "name": "stdout",
          "text": [
            "[+] Combined figure saved as /content/training_data_images/1806.11006/figure13_1.png\n",
            "[+] Caption: Figure 5. Samples for only activation features, gr...\n",
            "[+] Combined figure saved as /content/training_data_images/1806.11006/figure13_2.png\n",
            "[+] Caption: Figure 6. CelebA samples for large generator train...\n",
            "Processed /content/sample_pdfs/sample/sample/1806.11006.pdf: 6 figures, 6 captions found\n"
          ]
        },
        {
          "output_type": "stream",
          "name": "stderr",
          "text": [
            "\r 47%|████▋     | 47/100 [01:14<00:43,  1.22it/s]"
          ]
        },
        {
          "output_type": "stream",
          "name": "stdout",
          "text": [
            "[+] Combined figure saved as /content/training_data_images/1807.00196/figure6_1.png\n",
            "[+] Caption: Figure 3: Learning dynamics for computing equilibr...\n",
            "Processed /content/sample_pdfs/sample/sample/1807.00196.pdf: 1 figures, 1 captions found\n",
            "[+] Figure saved as /content/training_data_images/1807.01670/figure2_1.png\n",
            "[+] Caption: Figure 1: Example descriptions with corresponding ...\n",
            "[+] Figure saved as /content/training_data_images/1807.01670/figure3_1.png\n",
            "[+] Caption: Figure 2: Diagram of our model. A representation n...\n",
            "[+] Figure saved as /content/training_data_images/1807.01670/figure4_1.png\n",
            "[+] Caption: Figure 3: Samples generated from the synthetic (to...\n",
            "[+] Figure saved as /content/training_data_images/1807.01670/figure5_1.png\n",
            "[+] Caption: Figure 4: ELBO numbers for the model variants unde...\n",
            "[+] Figure saved as /content/training_data_images/1807.01670/figure6_1.png\n",
            "[+] Caption: Figure 5: Top, visual diagram of scene transformat...\n",
            "[+] Figure saved as /content/training_data_images/1807.01670/figure8_1.png\n",
            "[+] Caption: Figure 6: a) t-SNE of single description encodings...\n",
            "[+] Figure saved as /content/training_data_images/1807.01670/figure13_1.png\n",
            "[!] No caption found for figure 13_1\n",
            "[+] Figure saved as /content/training_data_images/1807.01670/figure13_2.png\n",
            "[!] No caption found for figure 13_2\n",
            "[+] Figure saved as /content/training_data_images/1807.01670/figure13_3.png\n",
            "[!] No caption found for figure 13_3\n",
            "[+] Figure saved as /content/training_data_images/1807.01670/figure13_4.png\n",
            "[!] No caption found for figure 13_4\n",
            "[+] Figure saved as /content/training_data_images/1807.01670/figure13_5.png\n",
            "[!] No caption found for figure 13_5\n",
            "[+] Figure saved as /content/training_data_images/1807.01670/figure13_6.png\n",
            "[!] No caption found for figure 13_6\n",
            "[+] Figure saved as /content/training_data_images/1807.01670/figure13_7.png\n",
            "[!] No caption found for figure 13_7\n",
            "[+] Figure saved as /content/training_data_images/1807.01670/figure13_8.png\n",
            "[!] No caption found for figure 13_8\n",
            "[+] Figure saved as /content/training_data_images/1807.01670/figure13_9.png\n",
            "[!] No caption found for figure 13_9\n",
            "[+] Figure saved as /content/training_data_images/1807.01670/figure13_10.png\n",
            "[!] No caption found for figure 13_10\n",
            "[+] Figure saved as /content/training_data_images/1807.01670/figure14_1.png\n",
            "[!] No caption found for figure 14_1\n",
            "[+] Figure saved as /content/training_data_images/1807.01670/figure14_2.png\n",
            "[!] No caption found for figure 14_2\n",
            "[+] Figure saved as /content/training_data_images/1807.01670/figure14_3.png\n",
            "[!] No caption found for figure 14_3\n",
            "[+] Figure saved as /content/training_data_images/1807.01670/figure14_4.png\n",
            "[!] No caption found for figure 14_4\n",
            "[+] Figure saved as /content/training_data_images/1807.01670/figure14_5.png\n",
            "[!] No caption found for figure 14_5\n",
            "[+] Figure saved as /content/training_data_images/1807.01670/figure14_6.png\n",
            "[!] No caption found for figure 14_6\n",
            "[+] Figure saved as /content/training_data_images/1807.01670/figure14_7.png\n",
            "[!] No caption found for figure 14_7\n",
            "[+] Figure saved as /content/training_data_images/1807.01670/figure14_8.png\n",
            "[!] No caption found for figure 14_8\n",
            "[+] Figure saved as /content/training_data_images/1807.01670/figure14_9.png\n",
            "[!] No caption found for figure 14_9\n",
            "[+] Figure saved as /content/training_data_images/1807.01670/figure14_10.png\n",
            "[!] No caption found for figure 14_10\n",
            "[+] Figure saved as /content/training_data_images/1807.01670/figure15_1.png\n",
            "[!] No caption found for figure 15_1\n",
            "[+] Figure saved as /content/training_data_images/1807.01670/figure15_2.png\n",
            "[!] No caption found for figure 15_2\n",
            "[+] Figure saved as /content/training_data_images/1807.01670/figure15_3.png\n",
            "[!] No caption found for figure 15_3\n",
            "[+] Figure saved as /content/training_data_images/1807.01670/figure15_4.png\n",
            "[!] No caption found for figure 15_4\n",
            "[+] Figure saved as /content/training_data_images/1807.01670/figure15_5.png\n",
            "[!] No caption found for figure 15_5\n",
            "[+] Figure saved as /content/training_data_images/1807.01670/figure15_6.png\n",
            "[!] No caption found for figure 15_6\n",
            "[+] Figure saved as /content/training_data_images/1807.01670/figure15_7.png\n",
            "[!] No caption found for figure 15_7\n",
            "[+] Figure saved as /content/training_data_images/1807.01670/figure15_8.png\n",
            "[!] No caption found for figure 15_8\n",
            "[+] Figure saved as /content/training_data_images/1807.01670/figure15_9.png\n",
            "[!] No caption found for figure 15_9\n",
            "[+] Figure saved as /content/training_data_images/1807.01670/figure15_10.png\n",
            "[!] No caption found for figure 15_10\n"
          ]
        },
        {
          "output_type": "stream",
          "name": "stderr",
          "text": [
            "\r 48%|████▊     | 48/100 [01:18<01:26,  1.67s/it]"
          ]
        },
        {
          "output_type": "stream",
          "name": "stdout",
          "text": [
            "[+] Figure saved as /content/training_data_images/1807.01670/figure16_1.png\n",
            "[!] No caption found for figure 16_1\n",
            "[+] Figure saved as /content/training_data_images/1807.01670/figure16_2.png\n",
            "[!] No caption found for figure 16_2\n",
            "[+] Figure saved as /content/training_data_images/1807.01670/figure16_3.png\n",
            "[!] No caption found for figure 16_3\n",
            "[+] Figure saved as /content/training_data_images/1807.01670/figure16_4.png\n",
            "[!] No caption found for figure 16_4\n",
            "[+] Figure saved as /content/training_data_images/1807.01670/figure16_5.png\n",
            "[!] No caption found for figure 16_5\n",
            "[+] Figure saved as /content/training_data_images/1807.01670/figure16_6.png\n",
            "[!] No caption found for figure 16_6\n",
            "[+] Figure saved as /content/training_data_images/1807.01670/figure16_7.png\n",
            "[!] No caption found for figure 16_7\n",
            "[+] Figure saved as /content/training_data_images/1807.01670/figure16_8.png\n",
            "[!] No caption found for figure 16_8\n",
            "[+] Figure saved as /content/training_data_images/1807.01670/figure16_9.png\n",
            "[!] No caption found for figure 16_9\n",
            "[+] Figure saved as /content/training_data_images/1807.01670/figure16_10.png\n",
            "[!] No caption found for figure 16_10\n",
            "Processed /content/sample_pdfs/sample/sample/1807.01670.pdf: 46 figures, 6 captions found\n",
            "[+] Combined figure saved as /content/training_data_images/1812.02216v1/figure8_1.png\n",
            "[+] Caption: We ﬁrst consider some illustrative tabular cases o...\n",
            "[+] Combined figure saved as /content/training_data_images/1812.02216v1/figure9_1.png\n",
            "[+] Caption: Figure 2 examines the transfer policies in detail ...\n",
            "[+] Figure saved as /content/training_data_images/1812.02216v1/figure10_1.jpeg\n",
            "[+] Caption: Figure 3: “Tricky” task with planar manipulator. T...\n",
            "[+] Figure saved as /content/training_data_images/1812.02216v1/figure10_2.jpeg\n",
            "[+] Caption: Figure 4: “Tricky” task with mobile bodies. “Trick...\n",
            "[+] Combined figure saved as /content/training_data_images/1812.02216v1/figure20_1.png\n",
            "[+] Caption: Figure 5: Additional results for ﬁgure 1 (tabular)...\n"
          ]
        },
        {
          "output_type": "stream",
          "name": "stderr",
          "text": [
            "\r 49%|████▉     | 49/100 [01:19<01:22,  1.62s/it]"
          ]
        },
        {
          "output_type": "stream",
          "name": "stdout",
          "text": [
            "[+] Combined figure saved as /content/training_data_images/1812.02216v1/figure21_1.png\n",
            "[+] Caption: Figure 6: Additional results for ﬁgure 2 (point ma...\n",
            "[+] Figure saved as /content/training_data_images/1812.02216v1/figure22_1.jpeg\n",
            "[+] Caption: Figure 8: Additional results for ﬁgure 4 (mobile b...\n",
            "Processed /content/sample_pdfs/sample/sample/1812.02216v1.pdf: 7 figures, 7 captions found\n",
            "[+] Combined figure saved as /content/training_data_images/1810.09951v1/figure4_1.png\n",
            "[+] Caption: Fig. 1: Network architecture. Input images in each...\n"
          ]
        },
        {
          "output_type": "stream",
          "name": "stderr",
          "text": [
            "\r 50%|█████     | 50/100 [01:20<01:05,  1.31s/it]"
          ]
        },
        {
          "output_type": "stream",
          "name": "stdout",
          "text": [
            "[+] Combined figure saved as /content/training_data_images/1810.09951v1/figure15_1.png\n",
            "[+] Caption: Fig. 4: Eﬀect of ghost clusters. Each row shows sh...\n",
            "Processed /content/sample_pdfs/sample/sample/1810.09951v1.pdf: 2 figures, 2 captions found\n",
            "[+] Figure saved as /content/training_data_images/1810.10802/figure1_1.png\n",
            "[!] No caption found for figure 1_1\n",
            "Processed /content/sample_pdfs/sample/sample/1810.10802.pdf: 1 figures, 0 captions found\n",
            "Processed /content/sample_pdfs/sample/sample/1805.06370.pdf: 0 figures, 0 captions found\n",
            "[+] Combined figure saved as /content/training_data_images/1806.02215/figure7_1.png\n",
            "[+] Caption: Figure 1: Results of SpIN for solving two-dimensio...\n",
            "[+] Combined figure saved as /content/training_data_images/1806.02215/figure8_1.png\n",
            "[+] Caption: (b) Frames which most (top) and least (bottom) act...\n",
            "[+] Figure saved as /content/training_data_images/1806.02215/figure18_1.png\n",
            "[+] Caption: Figure 3: Training curves on bouncing ball videos\n",
            "[+] Figure saved as /content/training_data_images/1806.02215/figure19_1.png\n",
            "[+] Caption: Figure 4: Comparison of Successor Features and SpI...\n",
            "[+] Combined figure saved as /content/training_data_images/1806.02215/figure20_1.png\n",
            "[+] Caption: Figure 5: Beam Rider\n",
            "[+] Combined figure saved as /content/training_data_images/1806.02215/figure21_1.png\n",
            "[+] Caption: Figure 6: Breakout\n",
            "[+] Combined figure saved as /content/training_data_images/1806.02215/figure22_1.png\n",
            "[+] Caption: Figure 7: Freeway\n",
            "[+] Combined figure saved as /content/training_data_images/1806.02215/figure23_1.png\n",
            "[+] Caption: Figure 8: Montezuma’s Revenge\n",
            "[+] Combined figure saved as /content/training_data_images/1806.02215/figure24_1.png\n",
            "[+] Caption: Figure 9: Ms. PacMan\n"
          ]
        },
        {
          "output_type": "stream",
          "name": "stderr",
          "text": [
            "\r 53%|█████▎    | 53/100 [01:22<00:47,  1.02s/it]"
          ]
        },
        {
          "output_type": "stream",
          "name": "stdout",
          "text": [
            "[+] Combined figure saved as /content/training_data_images/1806.02215/figure25_1.png\n",
            "[+] Caption: Figure 10: Seaquest\n",
            "[+] Combined figure saved as /content/training_data_images/1806.02215/figure26_1.png\n",
            "[+] Caption: Figure 11: Space Invaders\n",
            "Processed /content/sample_pdfs/sample/sample/1806.02215.pdf: 11 figures, 11 captions found\n",
            "[+] Figure saved as /content/training_data_images/1807.03819/figure6_1.png\n",
            "[+] Caption: Figure 3: Ponder time of UT with dynamic halting f...\n",
            "[+] Figure saved as /content/training_data_images/1807.03819/figure13_1.png\n",
            "[+] Caption: Figure 4: The Universal Transformer with position ...\n",
            "[+] Combined figure saved as /content/training_data_images/1807.03819/figure18_1.png\n",
            "[+] Caption: Figure 5: Visualization of the attention distribut...\n",
            "[+] Combined figure saved as /content/training_data_images/1807.03819/figure19_1.png\n",
            "[+] Caption: Figure 6: Visualization of the attention distribut...\n",
            "[+] Combined figure saved as /content/training_data_images/1807.03819/figure20_1.png\n",
            "[+] Caption: Figure 7: Visualization of the attention distribut...\n",
            "[+] Figure saved as /content/training_data_images/1807.03819/figure22_1.png\n",
            "[!] No caption found for figure 22_1\n",
            "[+] Figure saved as /content/training_data_images/1807.03819/figure22_2.png\n",
            "[!] No caption found for figure 22_2\n"
          ]
        },
        {
          "output_type": "stream",
          "name": "stderr",
          "text": [
            "\r 54%|█████▍    | 54/100 [01:24<00:54,  1.19s/it]"
          ]
        },
        {
          "output_type": "stream",
          "name": "stdout",
          "text": [
            "[+] Combined figure saved as /content/training_data_images/1807.03819/figure23_1.png\n",
            "[+] Caption: Figure 7: Visualization of the attention distribut...\n",
            "Processed /content/sample_pdfs/sample/sample/1807.03819.pdf: 8 figures, 6 captions found\n"
          ]
        },
        {
          "output_type": "stream",
          "name": "stderr",
          "text": [
            "\r 55%|█████▌    | 55/100 [01:25<00:45,  1.02s/it]"
          ]
        },
        {
          "output_type": "stream",
          "name": "stdout",
          "text": [
            "[+] Figure saved as /content/training_data_images/1806.04624v1/figure6_1.png\n",
            "[+] Caption: Figure 2: (a) compares variants of ER and REM-Dyna...\n",
            "Processed /content/sample_pdfs/sample/sample/1806.04624v1.pdf: 1 figures, 1 captions found\n"
          ]
        },
        {
          "output_type": "stream",
          "name": "stderr",
          "text": [
            "\r 56%|█████▌    | 56/100 [01:25<00:37,  1.16it/s]"
          ]
        },
        {
          "output_type": "stream",
          "name": "stdout",
          "text": [
            "[+] Combined figure saved as /content/training_data_images/1806.06923/figure4_1.png\n",
            "[+] Caption: Figure 1. Network architectures for DQN and recent...\n",
            "[+] Combined figure saved as /content/training_data_images/1806.06923/figure6_1.png\n",
            "[+] Caption: Figure 2. Effect of varying N and N ′, the number ...\n",
            "Processed /content/sample_pdfs/sample/sample/1806.06923.pdf: 2 figures, 2 captions found\n"
          ]
        },
        {
          "output_type": "stream",
          "name": "stderr",
          "text": [
            "\r 57%|█████▋    | 57/100 [01:25<00:29,  1.46it/s]"
          ]
        },
        {
          "output_type": "stream",
          "name": "stdout",
          "text": [
            "[+] Combined figure saved as /content/training_data_images/1807.09387v1/figure7_1.png\n",
            "[+] Caption: Figure 4: Two different item distribution schedule...\n",
            "Processed /content/sample_pdfs/sample/sample/1807.09387v1.pdf: 1 figures, 1 captions found\n",
            "[+] Combined figure saved as /content/training_data_images/1807.03149v1/figure2_1.png\n",
            "[+] Caption: Figure 1: The Minecraft random walk dataset for lo...\n",
            "[+] Combined figure saved as /content/training_data_images/1807.03149v1/figure5_1.png\n",
            "[+] Caption: Figure 4: The loss and predictive MSE for both the...\n",
            "[+] Combined figure saved as /content/training_data_images/1807.03149v1/figure6_1.png\n",
            "[+] Caption: Figure 5: Generated samples from the generative mo...\n",
            "[+] Combined figure saved as /content/training_data_images/1807.03149v1/figure7_1.png\n",
            "[+] Caption: Figure 6: Attention over the context images in the...\n",
            "[+] Combined figure saved as /content/training_data_images/1807.03149v1/figure8_1.png\n",
            "[+] Caption: Figure 7: Localization with the discriminative and...\n"
          ]
        },
        {
          "output_type": "stream",
          "name": "stderr",
          "text": [
            "\r 58%|█████▊    | 58/100 [01:27<00:48,  1.15s/it]"
          ]
        },
        {
          "output_type": "stream",
          "name": "stdout",
          "text": [
            "[+] Combined figure saved as /content/training_data_images/1807.03149v1/figure13_1.png\n",
            "[+] Caption: Figure 9: Localization with the discriminative and...\n",
            "Processed /content/sample_pdfs/sample/sample/1807.03149v1.pdf: 6 figures, 6 captions found\n",
            "[+] Combined figure saved as /content/training_data_images/1811.11359/figure8_1.png\n",
            "[+] Caption: Figure 1: a) Percentage of goals successfully achi...\n",
            "[+] Combined figure saved as /content/training_data_images/1811.11359/figure8_2.png\n",
            "[+] Caption: Figure 2: Average achieved frames for point mass (...\n"
          ]
        },
        {
          "output_type": "stream",
          "name": "stderr",
          "text": [
            "\r 59%|█████▉    | 59/100 [01:30<00:57,  1.41s/it]"
          ]
        },
        {
          "output_type": "stream",
          "name": "stdout",
          "text": [
            "[+] Combined figure saved as /content/training_data_images/1811.11359/figure9_1.png\n",
            "[+] Caption: Figure 3: Quantitative evaluation of goal achievem...\n",
            "[+] Combined figure saved as /content/training_data_images/1811.11359/figure9_2.png\n",
            "[+] Caption: Figure 4: Per-dimension quantitative evaluation of...\n",
            "[+] Figure saved as /content/training_data_images/1811.11359/figure10_1.png\n",
            "[+] Caption: Figure 5:\n",
            "Average achieved frames over 30 trials f...\n",
            "[+] Figure saved as /content/training_data_images/1811.11359/figure16_1.png\n",
            "[+] Caption: Figure 6: Results for Control Suite tasks using th...\n",
            "[+] Figure saved as /content/training_data_images/1811.11359/figure17_1.jpeg\n",
            "[+] Caption: Figure 8: Per-dimension quantitative evaluation on...\n",
            "Processed /content/sample_pdfs/sample/sample/1811.11359.pdf: 7 figures, 7 captions found\n",
            "[+] Combined figure saved as /content/training_data_images/1804.02341/figure2_1.png\n",
            "[+] Caption: Figure 1: The two-person image description game. S...\n",
            "[+] Combined figure saved as /content/training_data_images/1804.02341/figure2_2.png\n",
            "[+] Caption: Figure 2: Example images of the dataset. There are...\n",
            "[+] Figure saved as /content/training_data_images/1804.02341/figure3_1.png\n",
            "[+] Caption: Figure 3: Agent model architecture. The visual mod...\n",
            "[+] Combined figure saved as /content/training_data_images/1804.02341/figure5_1.png\n",
            "[+] Caption: Figure 4: Progress during the training (best seen ...\n"
          ]
        },
        {
          "output_type": "stream",
          "name": "stderr",
          "text": [
            "\r 60%|██████    | 60/100 [01:31<00:55,  1.38s/it]"
          ]
        },
        {
          "output_type": "stream",
          "name": "stdout",
          "text": [
            "[+] Combined figure saved as /content/training_data_images/1804.02341/figure16_1.png\n",
            "[+] Caption: Figure 5: Ten communication examples when the spea...\n",
            "[+] Combined figure saved as /content/training_data_images/1804.02341/figure17_1.png\n",
            "[+] Caption: Figure 6: Scatter plots of the image embedding fro...\n",
            "Processed /content/sample_pdfs/sample/sample/1804.02341.pdf: 6 figures, 6 captions found\n",
            "[+] Combined figure saved as /content/training_data_images/1804.01118/figure1_1.png\n",
            "[+] Caption: Figure 1. SPIRAL takes as input either random nois...\n",
            "[+] Combined figure saved as /content/training_data_images/1804.01118/figure2_1.png\n",
            "[+] Caption: Figure 2. The SPIRAL architecture. (a) An executio...\n",
            "[+] Figure saved as /content/training_data_images/1804.01118/figure5_1.png\n",
            "[+] Caption: Figure 3. Illustration\n",
            "of\n",
            "the\n",
            "agent’s\n",
            "action\n",
            "space...\n",
            "[+] Combined figure saved as /content/training_data_images/1804.01118/figure6_1.png\n",
            "[+] Caption: Figure 5. Omniglot.\n",
            "(a) A SPIRAL agent is trained ...\n",
            "[+] Combined figure saved as /content/training_data_images/1804.01118/figure6_2.png\n",
            "[+] Caption: Figure 4. MNIST. (a) A SPIRAL agent is trained to ...\n",
            "[+] Combined figure saved as /content/training_data_images/1804.01118/figure7_1.png\n",
            "[+] Caption: Figure 6. Image parsing using the SPIRAL agent tra...\n",
            "[+] Combined figure saved as /content/training_data_images/1804.01118/figure7_2.png\n",
            "[+] Caption: Figure 7. CELEBA reconstructions. The SPIRAL agent...\n"
          ]
        },
        {
          "output_type": "stream",
          "name": "stderr",
          "text": [
            "\r 61%|██████    | 61/100 [01:38<02:00,  3.09s/it]"
          ]
        },
        {
          "output_type": "stream",
          "name": "stdout",
          "text": [
            "[+] Combined figure saved as /content/training_data_images/1804.01118/figure8_1.png\n",
            "[+] Caption: Figure 10. 3D scene reconstructions.\n",
            "The SPIRAL ag...\n",
            "[+] Combined figure saved as /content/training_data_images/1804.01118/figure8_2.png\n",
            "[+] Caption: Figure 8. ℓ2-distance between reconstructions and ...\n",
            "Processed /content/sample_pdfs/sample/sample/1804.01118.pdf: 9 figures, 9 captions found\n",
            "[+] Combined figure saved as /content/training_data_images/1811.04551v3/figure2_1.png\n",
            "[+] Caption: Figure 1: Image-based control domains used in our ...\n",
            "[+] Combined figure saved as /content/training_data_images/1811.04551v3/figure16_1.png\n",
            "[+] Caption: Figure 8: Open-loop video predictions for test epi...\n",
            "[+] Figure saved as /content/training_data_images/1811.04551v3/figure17_1.png\n",
            "[+] Caption: Figure 9: Open-loop state diagnostics. We freeze t...\n"
          ]
        },
        {
          "output_type": "stream",
          "name": "stderr",
          "text": [
            "\r 62%|██████▏   | 62/100 [01:50<03:37,  5.72s/it]"
          ]
        },
        {
          "output_type": "stream",
          "name": "stdout",
          "text": [
            "[+] Combined figure saved as /content/training_data_images/1811.04551v3/figure18_1.png\n",
            "[+] Caption: Figure 10: Planning performance on the cheetah run...\n",
            "Processed /content/sample_pdfs/sample/sample/1811.04551v3.pdf: 4 figures, 4 captions found\n",
            "[+] Figure saved as /content/training_data_images/1807.02089/figure8_1.png\n",
            "[+] Caption: Figure 2. Empirical distribution of the log10 dela...\n",
            "Processed /content/sample_pdfs/sample/sample/1807.02089.pdf: 1 figures, 1 captions found\n",
            "[+] Combined figure saved as /content/training_data_images/1807.09647/figure7_1.png\n",
            "[+] Caption: Figure 1: The DeepSea MDP\n"
          ]
        },
        {
          "output_type": "stream",
          "name": "stderr",
          "text": [
            "\r 64%|██████▍   | 64/100 [01:52<02:10,  3.62s/it]"
          ]
        },
        {
          "output_type": "stream",
          "name": "stdout",
          "text": [
            "[+] Combined figure saved as /content/training_data_images/1807.09647/figure9_1.png\n",
            "[+] Caption: Figure 3: Value (as deﬁned in (14)) and log visita...\n",
            "[+] Combined figure saved as /content/training_data_images/1807.09647/figure9_2.png\n",
            "[+] Caption: Figure 4: Value (as deﬁned in (14)) and log visita...\n",
            "Processed /content/sample_pdfs/sample/sample/1807.09647.pdf: 3 figures, 3 captions found\n",
            "[+] Combined figure saved as /content/training_data_images/1808.00300/figure2_1.png\n",
            "[+] Caption: Fig. 1: Given a natural image and a textual questi...\n",
            "[+] Figure saved as /content/training_data_images/1808.00300/figure5_1.jpeg\n",
            "[+] Caption: Fig. 2: Our hard attention replaces commonly used ...\n",
            "[+] Combined figure saved as /content/training_data_images/1808.00300/figure14_1.png\n",
            "[+] Caption: Fig. 3: Qualitative comparison between our variant...\n"
          ]
        },
        {
          "output_type": "stream",
          "name": "stderr",
          "text": [
            "\r 65%|██████▌   | 65/100 [01:55<01:57,  3.36s/it]"
          ]
        },
        {
          "output_type": "stream",
          "name": "stdout",
          "text": [
            "[+] Combined figure saved as /content/training_data_images/1808.00300/figure15_1.png\n",
            "[+] Caption: Fig. 4: We show additional results with our AdaHAN...\n",
            "[+] Combined figure saved as /content/training_data_images/1808.00300/figure16_1.png\n",
            "[+] Caption: Fig. 5: Validation accuracy plots on CLEVR of the ...\n",
            "Processed /content/sample_pdfs/sample/sample/1808.00300.pdf: 5 figures, 5 captions found\n",
            "[+] Combined figure saved as /content/training_data_images/1811.08469v1/figure4_1.png\n",
            "[+] Caption: Figure 1: Illustration\n",
            "of the tandem game.\n",
            "Processed /content/sample_pdfs/sample/sample/1811.08469v1.pdf: 1 figures, 1 captions found\n",
            "[+] Figure saved as /content/training_data_images/1811.09656v1/figure3_1.png\n",
            "[+] Caption: episodes are initialized along the motion capture ...\n",
            "[+] Figure saved as /content/training_data_images/1811.09656v1/figure5_1.png\n",
            "[+] Caption: Figure 2: Training settings for explicit training ...\n",
            "[+] Figure saved as /content/training_data_images/1811.09656v1/figure5_2.png\n",
            "[+] Caption: Figure 3: Cold-switching among a set of behaviors ...\n",
            "[+] Figure saved as /content/training_data_images/1811.09656v1/figure7_1.png\n",
            "[+] Caption: Figure 5: A. Go-to-target: in this task, the agent...\n",
            "[+] Combined figure saved as /content/training_data_images/1811.09656v1/figure9_1.png\n",
            "[+] Caption: Figure 7: Example agent-view frames and correspond...\n",
            "[+] Figure saved as /content/training_data_images/1811.09656v1/figure14_1.png\n",
            "[!] No caption found for figure 14_1\n",
            "[+] Figure saved as /content/training_data_images/1811.09656v1/figure15_1.png\n",
            "[!] No caption found for figure 15_1\n",
            "[+] Figure saved as /content/training_data_images/1811.09656v1/figure15_2.png\n",
            "[!] No caption found for figure 15_2\n",
            "[+] Figure saved as /content/training_data_images/1811.09656v1/figure17_1.png\n",
            "[!] No caption found for figure 17_1\n"
          ]
        },
        {
          "output_type": "stream",
          "name": "stderr",
          "text": [
            "\r 67%|██████▋   | 67/100 [02:02<01:54,  3.47s/it]"
          ]
        },
        {
          "output_type": "stream",
          "name": "stdout",
          "text": [
            "[+] Figure saved as /content/training_data_images/1811.09656v1/figure18_1.png\n",
            "[!] No caption found for figure 18_1\n",
            "Processed /content/sample_pdfs/sample/sample/1811.09656v1.pdf: 10 figures, 5 captions found\n",
            "[+] Combined figure saved as /content/training_data_images/1807.10066v1/figure2_1.png\n",
            "[+] Caption: Figure 1: Network architecture. We build upon I3D ...\n",
            "[+] Figure saved as /content/training_data_images/1807.10066v1/figure3_1.png\n",
            "[+] Caption: Figure 2: Per-class performance. Performance of ou...\n"
          ]
        },
        {
          "output_type": "stream",
          "name": "stderr",
          "text": [
            "\r 68%|██████▊   | 68/100 [02:04<01:40,  3.13s/it]"
          ]
        },
        {
          "output_type": "stream",
          "name": "stdout",
          "text": [
            "[+] Combined figure saved as /content/training_data_images/1807.10066v1/figure4_1.png\n",
            "[+] Caption: Figure 3: Ablations. Validation performance curves...\n",
            "Processed /content/sample_pdfs/sample/sample/1807.10066v1.pdf: 3 figures, 3 captions found\n",
            "[+] Figure saved as /content/training_data_images/1808.09352/figure2_1.png\n",
            "[+] Caption: Figure 1: The Sally-Anne experiment setup from Bar...\n"
          ]
        },
        {
          "output_type": "stream",
          "name": "stderr",
          "text": [
            "\r 69%|██████▉   | 69/100 [02:05<01:18,  2.54s/it]"
          ]
        },
        {
          "output_type": "stream",
          "name": "stdout",
          "text": [
            "[+] Combined figure saved as /content/training_data_images/1808.09352/figure6_1.png\n",
            "[+] Caption: Figure 3: Memory Network and Multiple Observer Mod...\n",
            "Processed /content/sample_pdfs/sample/sample/1808.09352.pdf: 2 figures, 2 captions found\n",
            "Processed /content/sample_pdfs/sample/sample/1812.01647v1.pdf: 0 figures, 0 captions found\n"
          ]
        },
        {
          "output_type": "stream",
          "name": "stderr",
          "text": [
            "\r 71%|███████   | 71/100 [02:05<00:45,  1.56s/it]"
          ]
        },
        {
          "output_type": "stream",
          "name": "stdout",
          "text": [
            "[+] Figure saved as /content/training_data_images/1805.11199/figure9_1.png\n",
            "[+] Caption: Figure 4: StarCraft navigation results. Figure 4a ...\n",
            "Processed /content/sample_pdfs/sample/sample/1805.11199.pdf: 1 figures, 1 captions found\n",
            "Processed /content/sample_pdfs/sample/sample/1811.11214.pdf: 0 figures, 0 captions found\n",
            "[+] Figure saved as /content/training_data_images/1807.03748/figure2_1.png\n",
            "[+] Caption: Figure 1: Overview of Contrastive Predictive Codin...\n",
            "[+] Figure saved as /content/training_data_images/1807.03748/figure5_1.png\n",
            "[+] Caption: Figure 2: t-SNE visualization of audio (speech)\n",
            "re...\n",
            "[+] Figure saved as /content/training_data_images/1807.03748/figure5_2.png\n",
            "[+] Caption: Figure 3: Average accuracy of predicting the\n",
            "posit...\n"
          ]
        },
        {
          "output_type": "stream",
          "name": "stderr",
          "text": [
            "\r 73%|███████▎  | 73/100 [02:06<00:31,  1.17s/it]"
          ]
        },
        {
          "output_type": "stream",
          "name": "stdout",
          "text": [
            "[+] Combined figure saved as /content/training_data_images/1807.03748/figure7_1.png\n",
            "[+] Caption: Figure 5: Every row shows image patches that activ...\n",
            "[+] Figure saved as /content/training_data_images/1807.03748/figure9_1.png\n",
            "[+] Caption: Figure 6: Reinforcement Learning results for 5 Dee...\n",
            "Processed /content/sample_pdfs/sample/sample/1807.03748.pdf: 5 figures, 5 captions found\n"
          ]
        },
        {
          "output_type": "stream",
          "name": "stderr",
          "text": [
            "\r 74%|███████▍  | 74/100 [02:07<00:26,  1.00s/it]"
          ]
        },
        {
          "output_type": "stream",
          "name": "stdout",
          "text": [
            "[+] Figure saved as /content/training_data_images/1811.06272v1/figure7_1.png\n",
            "[+] Caption: Figure 2: Experimental results on PO-SOKOBAN envir...\n",
            "[+] Figure saved as /content/training_data_images/1811.06272v1/figure14_1.png\n",
            "[+] Caption: Figure 3: Top: PO-SOKOBAN. Shown on the left is a ...\n",
            "[+] Combined figure saved as /content/training_data_images/1811.06272v1/figure15_1.png\n",
            "[+] Caption: Figure 4: Analysis of the model mismatch of the le...\n",
            "Processed /content/sample_pdfs/sample/sample/1811.06272v1.pdf: 3 figures, 3 captions found\n",
            "[+] Combined figure saved as /content/training_data_images/1808.10485v1/figure2_1.png\n",
            "[+] Caption: Figure 1: An example sentence with syntactic, Prop...\n",
            "Processed /content/sample_pdfs/sample/sample/1808.10485v1.pdf: 1 figures, 1 captions found\n",
            "[+] Combined figure saved as /content/training_data_images/1806.03863/figure11_1.png\n",
            "[+] Caption: All the results above were obtained when training ...\n"
          ]
        },
        {
          "output_type": "stream",
          "name": "stderr",
          "text": [
            "\r 76%|███████▌  | 76/100 [02:09<00:26,  1.11s/it]"
          ]
        },
        {
          "output_type": "stream",
          "name": "stdout",
          "text": [
            "[+] Combined figure saved as /content/training_data_images/1806.03863/figure11_2.png\n",
            "[+] Caption: Fig. 5. Example outputs on a subset of frames one ...\n",
            "[+] Combined figure saved as /content/training_data_images/1806.03863/figure15_1.png\n",
            "[+] Caption: Fig. 9. Timeline for GPU usage for a sequential Pa...\n",
            "[+] Figure saved as /content/training_data_images/1806.03863/figure17_1.png\n",
            "[+] Caption: Fig. 10. Performance/eﬃciency trade-oﬀintroduced b...\n",
            "Processed /content/sample_pdfs/sample/sample/1806.03863.pdf: 4 figures, 4 captions found\n"
          ]
        },
        {
          "output_type": "stream",
          "name": "stderr",
          "text": [
            "\r 77%|███████▋  | 77/100 [02:10<00:25,  1.11s/it]"
          ]
        },
        {
          "output_type": "stream",
          "name": "stdout",
          "text": [
            "[+] Combined figure saved as /content/training_data_images/1812.00898v1/figure2_1.png\n",
            "[+] Caption: Figure 1: We build agents that can generate progra...\n",
            "[+] Combined figure saved as /content/training_data_images/1812.00898v1/figure4_1.png\n",
            "[+] Caption: Figure 3: (a) Discriminator’s architecture. It tak...\n",
            "Processed /content/sample_pdfs/sample/sample/1812.00898v1.pdf: 2 figures, 2 captions found\n",
            "[+] Figure saved as /content/training_data_images/1803.08884/figure3_1.png\n",
            "[+] Caption: Figure 1: Screenshots from (A) the Cleanup game, (...\n",
            "[+] Figure saved as /content/training_data_images/1803.08884/figure4_1.png\n",
            "[+] Caption: Figure 2: The public goods game (Cleanup) and the ...\n",
            "[+] Figure saved as /content/training_data_images/1803.08884/figure5_1.png\n",
            "[+] Caption: Figure 3: Advantageous inequity aversion facilitat...\n",
            "[+] Figure saved as /content/training_data_images/1803.08884/figure6_1.png\n",
            "[+] Caption: In Harvest, we enforce cooperation by modifying th...\n",
            "[+] Figure saved as /content/training_data_images/1803.08884/figure7_1.png\n",
            "[+] Caption: Figure 5: Inequity aversion promotes cooperation b...\n",
            "[+] Figure saved as /content/training_data_images/1803.08884/figure10_1.png\n",
            "[+] Caption: Figure 6: These Schelling diagrams demonstrate tha...\n",
            "[+] Figure saved as /content/training_data_images/1803.08884/figure11_1.png\n",
            "[+] Caption: Figure 7: Behavioral economics laboratory paradigm...\n"
          ]
        },
        {
          "output_type": "stream",
          "name": "stderr",
          "text": [
            "\r 78%|███████▊  | 78/100 [02:11<00:23,  1.08s/it]"
          ]
        },
        {
          "output_type": "stream",
          "name": "stdout",
          "text": [
            "[+] Figure saved as /content/training_data_images/1803.08884/figure12_1.png\n",
            "[+] Caption: Figure 8: Inequity aversion alters the effective p...\n",
            "Processed /content/sample_pdfs/sample/sample/1803.08884.pdf: 8 figures, 8 captions found\n",
            "[+] Combined figure saved as /content/training_data_images/1807.03064/figure3_1.png\n",
            "[+] Caption: Figure 1: Random policy trajectories in a S-shaped...\n",
            "[+] Combined figure saved as /content/training_data_images/1807.03064/figure3_2.png\n",
            "[+] Caption: Figure 2: Random policy trajectories in a layout w...\n",
            "[+] Figure saved as /content/training_data_images/1807.03064/figure3_3.png\n",
            "[+] Caption: Figure 3: Left: Random policy trajectories in U-sh...\n",
            "[+] Combined figure saved as /content/training_data_images/1807.03064/figure4_1.png\n",
            "[+] Caption: Figure 4: Predictions of MC (left) and TD (right) ...\n",
            "[+] Combined figure saved as /content/training_data_images/1807.03064/figure4_2.png\n",
            "[+] Caption: Figure 5: Predictions of MC (left) and TD (right) ...\n",
            "[+] Figure saved as /content/training_data_images/1807.03064/figure6_1.png\n",
            "[+] Caption: Figure 7: Plot of the analytic solution for TD in ...\n",
            "[+] Combined figure saved as /content/training_data_images/1807.03064/figure9_1.png\n",
            "[+] Caption: Figure 8: Hand-designed “oracle” embedding with di...\n",
            "[+] Combined figure saved as /content/training_data_images/1807.03064/figure9_2.png\n",
            "[+] Caption: Figure 9: Left: MSVE with and without the oracle e...\n"
          ]
        },
        {
          "output_type": "stream",
          "name": "stderr",
          "text": [
            "\r 79%|███████▉  | 79/100 [02:14<00:30,  1.47s/it]"
          ]
        },
        {
          "output_type": "stream",
          "name": "stdout",
          "text": [
            "[+] Combined figure saved as /content/training_data_images/1807.03064/figure10_1.png\n",
            "[+] Caption: Figure 10: Warping of the original 2-dimensional s...\n",
            "[+] Combined figure saved as /content/training_data_images/1807.03064/figure10_2.png\n",
            "[+] Caption: Figure 11: MSVE of value function estimates learnt...\n",
            "[+] Combined figure saved as /content/training_data_images/1807.03064/figure11_1.png\n",
            "[+] Caption: Figure 12: Successor Features targets with γ = 0.9...\n",
            "Processed /content/sample_pdfs/sample/sample/1807.03064.pdf: 11 figures, 11 captions found\n",
            "Processed /content/sample_pdfs/sample/sample/1811.07004v1.pdf: 0 figures, 0 captions found\n",
            "Processed /content/sample_pdfs/sample/sample/1805.10265.pdf: 0 figures, 0 captions found\n"
          ]
        },
        {
          "output_type": "stream",
          "name": "stderr",
          "text": [
            "\r 82%|████████▏ | 82/100 [02:14<00:13,  1.35it/s]"
          ]
        },
        {
          "output_type": "stream",
          "name": "stdout",
          "text": [
            "[+] Combined figure saved as /content/training_data_images/1811.04017v2/figure2_1.png\n",
            "[+] Caption: Figure 1: General struc-\n",
            "ture of a tensor chain\n",
            "Fi...\n",
            "[+] Figure saved as /content/training_data_images/1811.04017v2/figure2_2.png\n",
            "[+] Caption: Figure 3: Chain structure of a\n",
            "SPDZ tensor\n",
            "Processed /content/sample_pdfs/sample/sample/1811.04017v2.pdf: 2 figures, 2 captions found\n",
            "[+] Figure saved as /content/training_data_images/1807.05211v1/figure2_1.jpeg\n",
            "[+] Caption: Figure 1: Graph of the environment built from a si...\n",
            "[+] Combined figure saved as /content/training_data_images/1807.05211v1/figure3_1.png\n",
            "[+] Caption: Figure 2: Example imagery from the omnidirectional...\n",
            "[+] Combined figure saved as /content/training_data_images/1807.05211v1/figure4_1.png\n",
            "[+] Caption: Figure 3: Trajectories from a variety of initial l...\n",
            "[+] Figure saved as /content/training_data_images/1807.05211v1/figure11_1.jpeg\n",
            "[!] No caption found for figure 11_1\n",
            "[+] Figure saved as /content/training_data_images/1807.05211v1/figure12_1.png\n",
            "[!] No caption found for figure 12_1\n",
            "[+] Figure saved as /content/training_data_images/1807.05211v1/figure12_2.png\n",
            "[!] No caption found for figure 12_2\n"
          ]
        },
        {
          "output_type": "stream",
          "name": "stderr",
          "text": [
            "\r 83%|████████▎ | 83/100 [02:15<00:12,  1.41it/s]"
          ]
        },
        {
          "output_type": "stream",
          "name": "stdout",
          "text": [
            "[+] Combined figure saved as /content/training_data_images/1807.05211v1/figure13_1.png\n",
            "[+] Caption: Each deployment trajectory is presented individual...\n",
            "[+] Figure saved as /content/training_data_images/1807.05211v1/figure14_1.jpeg\n",
            "[!] No caption found for figure 14_1\n",
            "[+] Figure saved as /content/training_data_images/1807.05211v1/figure14_2.jpeg\n",
            "[!] No caption found for figure 14_2\n",
            "[+] Figure saved as /content/training_data_images/1807.05211v1/figure14_3.jpeg\n",
            "[!] No caption found for figure 14_3\n",
            "[+] Figure saved as /content/training_data_images/1807.05211v1/figure14_4.jpeg\n",
            "[!] No caption found for figure 14_4\n",
            "[+] Figure saved as /content/training_data_images/1807.05211v1/figure14_5.jpeg\n",
            "[!] No caption found for figure 14_5\n",
            "[+] Figure saved as /content/training_data_images/1807.05211v1/figure14_6.jpeg\n",
            "[!] No caption found for figure 14_6\n",
            "[+] Figure saved as /content/training_data_images/1807.05211v1/figure14_7.jpeg\n",
            "[!] No caption found for figure 14_7\n",
            "[+] Figure saved as /content/training_data_images/1807.05211v1/figure14_8.jpeg\n",
            "[!] No caption found for figure 14_8\n",
            "[+] Figure saved as /content/training_data_images/1807.05211v1/figure14_9.jpeg\n",
            "[!] No caption found for figure 14_9\n",
            "[+] Figure saved as /content/training_data_images/1807.05211v1/figure14_10.jpeg\n",
            "[!] No caption found for figure 14_10\n",
            "[+] Figure saved as /content/training_data_images/1807.05211v1/figure14_11.jpeg\n",
            "[!] No caption found for figure 14_11\n",
            "[+] Figure saved as /content/training_data_images/1807.05211v1/figure14_12.jpeg\n",
            "[!] No caption found for figure 14_12\n",
            "[+] Figure saved as /content/training_data_images/1807.05211v1/figure15_1.jpeg\n",
            "[!] No caption found for figure 15_1\n",
            "[+] Figure saved as /content/training_data_images/1807.05211v1/figure15_2.jpeg\n",
            "[!] No caption found for figure 15_2\n",
            "[+] Figure saved as /content/training_data_images/1807.05211v1/figure15_3.jpeg\n",
            "[!] No caption found for figure 15_3\n",
            "[+] Figure saved as /content/training_data_images/1807.05211v1/figure15_4.jpeg\n",
            "[!] No caption found for figure 15_4\n",
            "[+] Figure saved as /content/training_data_images/1807.05211v1/figure15_5.jpeg\n",
            "[!] No caption found for figure 15_5\n",
            "[+] Figure saved as /content/training_data_images/1807.05211v1/figure15_6.jpeg\n",
            "[!] No caption found for figure 15_6\n",
            "[+] Figure saved as /content/training_data_images/1807.05211v1/figure15_7.jpeg\n",
            "[!] No caption found for figure 15_7\n",
            "[+] Figure saved as /content/training_data_images/1807.05211v1/figure15_8.jpeg\n",
            "[!] No caption found for figure 15_8\n",
            "[+] Figure saved as /content/training_data_images/1807.05211v1/figure15_9.jpeg\n",
            "[!] No caption found for figure 15_9\n",
            "[+] Figure saved as /content/training_data_images/1807.05211v1/figure15_10.jpeg\n",
            "[!] No caption found for figure 15_10\n",
            "[+] Figure saved as /content/training_data_images/1807.05211v1/figure15_11.jpeg\n",
            "[!] No caption found for figure 15_11\n",
            "[+] Figure saved as /content/training_data_images/1807.05211v1/figure15_12.jpeg\n",
            "[!] No caption found for figure 15_12\n",
            "Processed /content/sample_pdfs/sample/sample/1807.05211v1.pdf: 31 figures, 4 captions found\n",
            "[+] Figure saved as /content/training_data_images/1806.01780/figure1_1.png\n",
            "[+] Caption: Figure 1. Scheme of Mix & Match– each box represen...\n",
            "[+] Combined figure saved as /content/training_data_images/1806.01780/figure5_1.png\n",
            "[+] Caption: Figure 2. Schemes of variours settings M&M can be ...\n",
            "[+] Figure saved as /content/training_data_images/1806.01780/figure6_1.png\n",
            "[+] Caption: Figure 4. Human normalised score through training ...\n",
            "[+] Combined figure saved as /content/training_data_images/1806.01780/figure6_2.png\n",
            "[+] Caption: Figure 5. Left: Exemplary α value through time fro...\n",
            "[+] Combined figure saved as /content/training_data_images/1806.01780/figure6_3.png\n",
            "[+] Caption: Figure 3. Comparison of M&M and its variations to ...\n",
            "[+] Combined figure saved as /content/training_data_images/1806.01780/figure7_1.png\n",
            "[+] Caption: Figure 6. Comparison of the M&M agent and various ...\n",
            "[+] Figure saved as /content/training_data_images/1806.01780/figure7_2.png\n",
            "[+] Caption: Figure 7. Human normalised score through training ...\n",
            "[+] Figure saved as /content/training_data_images/1806.01780/figure7_3.png\n",
            "[+] Caption: Figure 8. Exemplary α values through time from sin...\n",
            "[+] Combined figure saved as /content/training_data_images/1806.01780/figure8_1.png\n",
            "[+] Caption: Figure 9. Performance of M&M applied to the multit...\n"
          ]
        },
        {
          "output_type": "stream",
          "name": "stderr",
          "text": [
            "\r 84%|████████▍ | 84/100 [02:20<00:27,  1.70s/it]"
          ]
        },
        {
          "output_type": "stream",
          "name": "stdout",
          "text": [
            "[+] Combined figure saved as /content/training_data_images/1806.01780/figure9_1.png\n",
            "[+] Caption: Figure 10. Exemplary tasks of interest from DM Lab...\n",
            "Processed /content/sample_pdfs/sample/sample/1806.01780.pdf: 10 figures, 10 captions found\n",
            "[+] Combined figure saved as /content/training_data_images/1806.03107/figure7_1.png\n",
            "[+] Caption: Figure 2: MiniPacman. Left: A full frame from the ...\n",
            "[+] Figure saved as /content/training_data_images/1806.03107/figure7_2.png\n",
            "[+] Caption: Figure 3: Moving MNIST. Left: Rows are example inp...\n",
            "[+] Combined figure saved as /content/training_data_images/1806.03107/figure8_1.png\n",
            "[+] Caption: Figure 4: Skip-state prediction for 1D signal. The...\n",
            "[+] Figure saved as /content/training_data_images/1806.03107/figure9_1.png\n",
            "[+] Caption: Figure 6: Rollout from the model. The model was tr...\n",
            "[+] Combined figure saved as /content/training_data_images/1806.03107/figure9_2.png\n",
            "[+] Caption: Figure 5: Beliefs of the model. Left: Independent ...\n",
            "[+] Figure saved as /content/training_data_images/1806.03107/figure14_1.png\n",
            "[+] Caption: Figure 7: Recurrent variational auto-encoder. Gene...\n"
          ]
        },
        {
          "output_type": "stream",
          "name": "stderr",
          "text": [
            "\r 85%|████████▌ | 85/100 [02:21<00:23,  1.59s/it]"
          ]
        },
        {
          "output_type": "stream",
          "name": "stdout",
          "text": [
            "[+] Figure saved as /content/training_data_images/1806.03107/figure15_1.png\n",
            "[+] Caption: Figure 8: Deep version of the model from Figure 1....\n",
            "Processed /content/sample_pdfs/sample/sample/1806.03107.pdf: 7 figures, 7 captions found\n",
            "[+] Figure saved as /content/training_data_images/1811.10928/figure8_1.png\n",
            "[+] Caption: Figure 3: Node expansions for Sokoban on log-scale...\n",
            "[+] Figure saved as /content/training_data_images/1811.10928/figure12_1.png\n",
            "[+] Caption: Figure 4: Learning curves of A3C for the 4 chosen ...\n",
            "Processed /content/sample_pdfs/sample/sample/1811.10928.pdf: 2 figures, 2 captions found\n",
            "[+] Figure saved as /content/training_data_images/1807.05162v1/figure2_1.png\n",
            "[+] Caption: Figure 1: The full visual speech recognition syste...\n",
            "[+] Combined figure saved as /content/training_data_images/1807.05162v1/figure9_1.png\n",
            "[+] Caption: By predicting phonemes directly, we also side-step...\n",
            "[+] Combined figure saved as /content/training_data_images/1807.05162v1/figure9_2.png\n",
            "[+] Caption: Figure 5: Saliency map for “kind of” and the top-3...\n",
            "[+] Combined figure saved as /content/training_data_images/1807.05162v1/figure16_1.png\n",
            "[+] Caption: Figure 7: Saliency maps, the top-3 predictions of ...\n",
            "[+] Figure saved as /content/training_data_images/1807.05162v1/figure18_1.png\n",
            "[+] Caption: Figure 8: Heatmap showing the performance of V2P o...\n"
          ]
        },
        {
          "output_type": "stream",
          "name": "stderr",
          "text": [
            "\r 87%|████████▋ | 87/100 [02:23<00:17,  1.33s/it]"
          ]
        },
        {
          "output_type": "stream",
          "name": "stdout",
          "text": [
            "[+] Figure saved as /content/training_data_images/1807.05162v1/figure19_1.jpeg\n",
            "[+] Caption: Figure 9: Random sample of test-set lip images fro...\n",
            "Processed /content/sample_pdfs/sample/sample/1807.05162v1.pdf: 6 figures, 6 captions found\n",
            "[+] Combined figure saved as /content/training_data_images/1811.09716v1/figure4_1.png\n",
            "[+] Caption: Figure 3: Illustration of the negative of the loss...\n",
            "[+] Combined figure saved as /content/training_data_images/1811.09716v1/figure7_1.png\n",
            "[+] Caption: Figure 8: Similar plot to Fig. 3, but where the lo...\n",
            "[+] Combined figure saved as /content/training_data_images/1811.09716v1/figure8_1.png\n",
            "[+] Caption: Figure 11: Visualizations of perturbed images and ...\n",
            "[+] Combined figure saved as /content/training_data_images/1811.09716v1/figure8_2.png\n",
            "[+] Caption: Figure 10: Evolution throughout the course of CURE...\n"
          ]
        },
        {
          "output_type": "stream",
          "name": "stderr",
          "text": [
            "\r 88%|████████▊ | 88/100 [02:26<00:21,  1.75s/it]"
          ]
        },
        {
          "output_type": "stream",
          "name": "stdout",
          "text": [
            "[+] Combined figure saved as /content/training_data_images/1811.09716v1/figure11_1.png\n",
            "[+] Caption: Figure 13: Illustration of the negative of the los...\n",
            "Processed /content/sample_pdfs/sample/sample/1811.09716v1.pdf: 5 figures, 5 captions found\n",
            "[+] Figure saved as /content/training_data_images/1808.07992v1/figure4_1.png\n",
            "[+] Caption: Fig. 1: Gestational Age (GA) vs Birth Weight (BW) ...\n",
            "[+] Figure saved as /content/training_data_images/1808.07992v1/figure5_1.png\n",
            "[+] Caption: Fig. 2: ROC curve for standard random forest (RF),...\n",
            "Processed /content/sample_pdfs/sample/sample/1808.07992v1.pdf: 2 figures, 2 captions found\n",
            "Processed /content/sample_pdfs/sample/sample/1809.02292v2.pdf: 0 figures, 0 captions found\n",
            "[+] Combined figure saved as /content/training_data_images/1806.06920/figure7_1.png\n",
            "[+] Caption: For our experiments we evaluate our MPO algorithm ...\n"
          ]
        },
        {
          "output_type": "stream",
          "name": "stderr",
          "text": [
            "\r 91%|█████████ | 91/100 [02:29<00:12,  1.36s/it]"
          ]
        },
        {
          "output_type": "stream",
          "name": "stdout",
          "text": [
            "[+] Figure saved as /content/training_data_images/1806.06920/figure11_1.jpeg\n",
            "[+] Caption: Figure 4: Complete comparison of results for the c...\n",
            "Processed /content/sample_pdfs/sample/sample/1806.06920.pdf: 2 figures, 2 captions found\n",
            "Processed /content/sample_pdfs/sample/sample/1805.09247.pdf: 0 figures, 0 captions found\n",
            "[+] Figure saved as /content/training_data_images/1803.06959/figure3_1.png\n",
            "[+] Caption: Figure 1: Memorizing networks are more sensitive t...\n",
            "[+] Combined figure saved as /content/training_data_images/1803.06959/figure4_1.png\n",
            "[+] Caption: Figure 2: Memorizing networks are more sensitive t...\n",
            "[+] Combined figure saved as /content/training_data_images/1803.06959/figure6_1.png\n",
            "[+] Caption: Figure 4: Single direction reliance as a signal fo...\n",
            "[+] Combined figure saved as /content/training_data_images/1803.06959/figure7_1.png\n",
            "[+] Caption: Figure 6: Batch normalization decreases class sele...\n",
            "[+] Combined figure saved as /content/training_data_images/1803.06959/figure8_1.png\n",
            "[+] Caption: Figure 7:\n",
            "Selective and non-selective directions a...\n",
            "[+] Figure saved as /content/training_data_images/1803.06959/figure13_1.png\n",
            "[!] No caption found for figure 13_1\n",
            "[+] Figure saved as /content/training_data_images/1803.06959/figure14_1.png\n",
            "[!] No caption found for figure 14_1\n",
            "[+] Figure saved as /content/training_data_images/1803.06959/figure14_2.png\n",
            "[!] No caption found for figure 14_2\n",
            "[+] Figure saved as /content/training_data_images/1803.06959/figure14_3.png\n",
            "[!] No caption found for figure 14_3\n",
            "[+] Figure saved as /content/training_data_images/1803.06959/figure14_4.png\n",
            "[!] No caption found for figure 14_4\n"
          ]
        },
        {
          "output_type": "stream",
          "name": "stderr",
          "text": [
            "\r 93%|█████████▎| 93/100 [02:34<00:11,  1.70s/it]"
          ]
        },
        {
          "output_type": "stream",
          "name": "stdout",
          "text": [
            "[+] Figure saved as /content/training_data_images/1803.06959/figure15_1.png\n",
            "[!] No caption found for figure 15_1\n",
            "[+] Figure saved as /content/training_data_images/1803.06959/figure15_2.png\n",
            "[!] No caption found for figure 15_2\n",
            "[+] Figure saved as /content/training_data_images/1803.06959/figure15_3.png\n",
            "[!] No caption found for figure 15_3\n",
            "[+] Figure saved as /content/training_data_images/1803.06959/figure15_4.png\n",
            "[!] No caption found for figure 15_4\n",
            "[+] Figure saved as /content/training_data_images/1803.06959/figure15_5.png\n",
            "[!] No caption found for figure 15_5\n",
            "Processed /content/sample_pdfs/sample/sample/1803.06959.pdf: 15 figures, 5 captions found\n",
            "[+] Figure saved as /content/training_data_images/1802.10567/figure6_1.jpeg\n",
            "[+] Caption: Figure 2. Learning times for a subset of the 13 au...\n",
            "[+] Combined figure saved as /content/training_data_images/1802.10567/figure7_1.png\n",
            "[+] Caption: Figure 4. Depiction of the agent stacking two bloc...\n",
            "[+] Combined figure saved as /content/training_data_images/1802.10567/figure7_2.png\n",
            "[+] Caption: Figure 6. The ’clean-up’ task. The images depict a...\n"
          ]
        },
        {
          "output_type": "stream",
          "name": "stderr",
          "text": [
            "\r 94%|█████████▍| 94/100 [02:38<00:12,  2.15s/it]"
          ]
        },
        {
          "output_type": "stream",
          "name": "stdout",
          "text": [
            "[+] Combined figure saved as /content/training_data_images/1802.10567/figure8_1.png\n",
            "[+] Caption: Figure 9. Learning statistics for a real robot exp...\n",
            "[+] Figure saved as /content/training_data_images/1802.10567/figure8_2.png\n",
            "[+] Caption: Figure 10. Image sequence depicting a trained SAC-...\n",
            "[+] Figure saved as /content/training_data_images/1802.10567/figure8_3.jpeg\n",
            "[+] Caption: Figure 8. Expected reward in the ’clean-up’ experi...\n",
            "[+] Combined figure saved as /content/training_data_images/1802.10567/figure16_1.png\n",
            "[+] Caption: Figure 12. Comparison of full auxiliary and extrin...\n",
            "[+] Figure saved as /content/training_data_images/1802.10567/figure16_2.jpeg\n",
            "[+] Caption: The learned distribution of Q values at the end of...\n",
            "Processed /content/sample_pdfs/sample/sample/1802.10567.pdf: 8 figures, 8 captions found\n"
          ]
        },
        {
          "output_type": "stream",
          "name": "stderr",
          "text": [
            "\r 95%|█████████▌| 95/100 [02:39<00:08,  1.79s/it]"
          ]
        },
        {
          "output_type": "stream",
          "name": "stdout",
          "text": [
            "[+] Combined figure saved as /content/training_data_images/1803.09001/figure4_1.png\n",
            "[+] Caption: Fig. 1: a) Dayan’s grid world. Arrows indicate the...\n",
            "[+] Figure saved as /content/training_data_images/1803.09001/figure4_2.png\n",
            "[+] Caption: Fig. 2: All predictors learn from scratch with new...\n",
            "[+] Figure saved as /content/training_data_images/1803.09001/figure5_1.jpeg\n",
            "[+] Caption: Fig. 3: The user controls the robot arm using a jo...\n",
            "[+] Figure saved as /content/training_data_images/1803.09001/figure5_2.png\n",
            "[+] Caption: Fig. 4: A 12 minute run tracing the maze circuit. ...\n",
            "[+] Figure saved as /content/training_data_images/1803.09001/figure6_1.png\n",
            "[+] Caption: Fig. 5: The same results as Figure 4, but with the...\n",
            "Processed /content/sample_pdfs/sample/sample/1803.09001.pdf: 5 figures, 5 captions found\n",
            "[+] Combined figure saved as /content/training_data_images/1806.01261/figure8_1.png\n",
            "[+] Caption: Figure 2: Diﬀerent graph representations. (a) A mo...\n",
            "[+] Figure saved as /content/training_data_images/1806.01261/figure16_1.png\n",
            "[+] Caption: Figure 4: Diﬀerent internal GN block conﬁgurations...\n"
          ]
        },
        {
          "output_type": "stream",
          "name": "stderr",
          "text": [
            "\r 96%|█████████▌| 96/100 [02:40<00:06,  1.64s/it]"
          ]
        },
        {
          "output_type": "stream",
          "name": "stdout",
          "text": [
            "[+] Figure saved as /content/training_data_images/1806.01261/figure21_1.png\n",
            "[!] No caption found for figure 21_1\n",
            "[+] Figure saved as /content/training_data_images/1806.01261/figure21_2.png\n",
            "[!] No caption found for figure 21_2\n",
            "[+] Figure saved as /content/training_data_images/1806.01261/figure21_3.png\n",
            "[!] No caption found for figure 21_3\n",
            "Processed /content/sample_pdfs/sample/sample/1806.01261.pdf: 5 figures, 2 captions found\n",
            "[+] Figure saved as /content/training_data_images/1807.02033/figure5_1.jpeg\n",
            "[+] Caption: Figure 2: JUMP is trained using an approximate pos...\n",
            "[+] Combined figure saved as /content/training_data_images/1807.02033/figure6_1.png\n",
            "[+] Caption: Figure 3: In the “Color Reaction” narrative, shape...\n"
          ]
        },
        {
          "output_type": "stream",
          "name": "stderr",
          "text": [
            "\r 97%|█████████▋| 97/100 [02:40<00:04,  1.38s/it]"
          ]
        },
        {
          "output_type": "stream",
          "name": "stdout",
          "text": [
            "[+] Combined figure saved as /content/training_data_images/1807.02033/figure7_1.png\n",
            "[+] Caption: Figure 4: In the Traveling Salesman narrative, one...\n",
            "[+] Combined figure saved as /content/training_data_images/1807.02033/figure7_2.png\n",
            "[+] Caption: Figure 5: Quantitative comparisons between JUMP an...\n",
            "[+] Figure saved as /content/training_data_images/1807.02033/figure8_1.png\n",
            "[+] Caption: Figure 6: A cube in a room, with MNIST digits engr...\n",
            "Processed /content/sample_pdfs/sample/sample/1807.02033.pdf: 5 figures, 5 captions found\n",
            "[+] Combined figure saved as /content/training_data_images/1810.10510v1/figure9_1.png\n",
            "[+] Caption: Figure 3: Semantic keypoint transfer. The\n",
            "annotate...\n",
            "[+] Combined figure saved as /content/training_data_images/1810.10510v1/figure9_2.png\n",
            "[+] Caption: Figure 4: Instance-level matching. Top row: inlier...\n",
            "[+] Combined figure saved as /content/training_data_images/1810.10510v1/figure14_1.png\n",
            "[+] Caption: Figure 5: Additional examples of semantic keypoint...\n",
            "[+] Combined figure saved as /content/training_data_images/1810.10510v1/figure15_1.png\n",
            "[+] Caption: Figure 6: Additional examples of semantic keypoint...\n",
            "[+] Combined figure saved as /content/training_data_images/1810.10510v1/figure16_1.png\n",
            "[+] Caption: Figure 7: Examples of query images that are more a...\n",
            "[+] Combined figure saved as /content/training_data_images/1810.10510v1/figure17_1.png\n",
            "[+] Caption: Figure 8: Examples of query images that are more a...\n",
            "[+] Combined figure saved as /content/training_data_images/1810.10510v1/figure18_1.png\n",
            "[+] Caption: Figure 9: Examples of query images that are more a...\n",
            "[+] Combined figure saved as /content/training_data_images/1810.10510v1/figure19_1.png\n",
            "[+] Caption: Figure 10: Comparison with the state of the art la...\n"
          ]
        },
        {
          "output_type": "stream",
          "name": "stderr",
          "text": [
            "\r 98%|█████████▊| 98/100 [02:50<00:06,  3.44s/it]"
          ]
        },
        {
          "output_type": "stream",
          "name": "stdout",
          "text": [
            "[+] Combined figure saved as /content/training_data_images/1810.10510v1/figure19_2.png\n",
            "[+] Caption: Figure 11: Indoor Venues Dataset (IVD). We show so...\n",
            "Processed /content/sample_pdfs/sample/sample/1810.10510v1.pdf: 9 figures, 9 captions found\n",
            "[+] Combined figure saved as /content/training_data_images/1805.09786/figure2_1.png\n",
            "[+] Caption: Figure 1: An intuitive depiction of how images mig...\n",
            "[+] Combined figure saved as /content/training_data_images/1805.09786/figure13_1.png\n",
            "[+] Caption: Figure 7: An illustration of how trees can be repr...\n",
            "[+] Combined figure saved as /content/training_data_images/1805.09786/figure13_2.png\n",
            "[+] Caption: Figure 6: We show an example of a curriculum on th...\n"
          ]
        },
        {
          "output_type": "stream",
          "name": "stderr",
          "text": [
            "\r 99%|█████████▉| 99/100 [03:23<00:11, 11.52s/it]"
          ]
        },
        {
          "output_type": "stream",
          "name": "stdout",
          "text": [
            "[+] Combined figure saved as /content/training_data_images/1805.09786/figure15_1.png\n",
            "[+] Caption: Figure 9: A depiction of a hyperbolic recursive tr...\n",
            "Processed /content/sample_pdfs/sample/sample/1805.09786.pdf: 4 figures, 4 captions found\n",
            "[+] Combined figure saved as /content/training_data_images/1806.01822/figure5_1.png\n",
            "[+] Caption: Figure 2: Tasks. We tested the RMC on a suite of s...\n",
            "[+] Figure saved as /content/training_data_images/1806.01822/figure7_1.png\n",
            "[+] Caption: Figure 3: Model analysis. Each row depicts the att...\n",
            "[+] Figure saved as /content/training_data_images/1806.01822/figure15_1.png\n",
            "[+] Caption: Figure 6: Samples of programmatic tasks. Note that...\n",
            "[+] Figure saved as /content/training_data_images/1806.01822/figure15_2.png\n",
            "[+] Caption: Figure 7: Memorization tasks. Each sub-task takes ...\n"
          ]
        },
        {
          "output_type": "stream",
          "name": "stderr",
          "text": [
            "100%|██████████| 100/100 [03:23<00:00,  2.04s/it]"
          ]
        },
        {
          "output_type": "stream",
          "name": "stdout",
          "text": [
            "[+] Figure saved as /content/training_data_images/1806.01822/figure16_1.png\n",
            "[+] Caption: Figure 8: Programmatic results. From left to right...\n",
            "[+] Figure saved as /content/training_data_images/1806.01822/figure16_2.png\n",
            "[+] Caption: Figure 9: Example BoxWorld level. The left panel s...\n",
            "[+] Combined figure saved as /content/training_data_images/1806.01822/figure17_1.png\n",
            "[+] Caption: Figure 10: Mini Pacman Results.\n",
            "Processed /content/sample_pdfs/sample/sample/1806.01822.pdf: 7 figures, 7 captions found\n"
          ]
        },
        {
          "output_type": "stream",
          "name": "stderr",
          "text": [
            "\n"
          ]
        },
        {
          "output_type": "stream",
          "name": "stdout",
          "text": [
            "All extracted images and captions have been saved to Google Drive at: /content/drive/MyDrive/training_data_images\n"
          ]
        }
      ],
      "source": [
        "output_base_dir = '/content/training_data_images'\n",
        "if not os.path.exists(output_base_dir):\n",
        "    os.makedirs(output_base_dir)\n",
        "\n",
        "# Choose where to save the final results in Google Drive\n",
        "drive_output_path = '/content/drive/MyDrive/training_data_images'\n",
        "if not os.path.exists(drive_output_path):\n",
        "    os.makedirs(drive_output_path)\n",
        "\n",
        "# Setup the sample directory for PDF files\n",
        "sample_dir = '/content/sample_pdfs/sample'\n",
        "if not os.path.exists(sample_dir):\n",
        "    os.makedirs(sample_dir)\n",
        "\n",
        "# Mount Google Drive\n",
        "drive.mount('/content/drive')\n",
        "\n",
        "# Upload a folder of PDFs using a zip file\n",
        "print(\"Please upload a zip file containing your PDF files...\")\n",
        "uploaded = files.upload()  # Upload a zip file\n",
        "\n",
        "# Extract the uploaded zip file\n",
        "for filename in uploaded.keys():\n",
        "    if filename.endswith('.zip'):\n",
        "        with zipfile.ZipFile(filename, 'r') as zip_ref:\n",
        "            zip_ref.extractall(sample_dir)\n",
        "        print(f\"Extracted {filename} to {sample_dir}\")\n",
        "\n",
        "# Process all PDFs in the sample directory - CORRECTED CODE HERE\n",
        "pdf_files = find_pdf_files(sample_dir)\n",
        "print(f\"Found {len(pdf_files)} PDF files to process\")\n",
        "\n",
        "for filepath in tqdm(pdf_files):\n",
        "    try:\n",
        "        extract_images(filepath, output_base_dir)\n",
        "    except Exception as e:\n",
        "        print(f\"An unexpected error occurred while processing {os.path.basename(filepath)}: {e}\")\n",
        "\n",
        "# Copy results back to Google Drive\n",
        "shutil.copytree(output_base_dir, drive_output_path, dirs_exist_ok=True)\n",
        "print(f\"All extracted images and captions have been saved to Google Drive at: {drive_output_path}\")"
      ]
    },
    {
      "cell_type": "code",
      "execution_count": null,
      "metadata": {
        "id": "zqI4_D8CikAw"
      },
      "outputs": [],
      "source": []
    }
  ],
  "metadata": {
    "colab": {
      "provenance": [],
      "include_colab_link": true
    },
    "kernelspec": {
      "display_name": "Python 3",
      "name": "python3"
    },
    "language_info": {
      "codemirror_mode": {
        "name": "ipython",
        "version": 3
      },
      "file_extension": ".py",
      "mimetype": "text/x-python",
      "name": "python",
      "nbconvert_exporter": "python",
      "pygments_lexer": "ipython3",
      "version": "3.11.9"
    }
  },
  "nbformat": 4,
  "nbformat_minor": 0
}